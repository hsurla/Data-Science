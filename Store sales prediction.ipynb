{
 "cells": [
  {
   "cell_type": "markdown",
   "id": "0f570f73",
   "metadata": {},
   "source": [
    "# Store sales prediction"
   ]
  },
  {
   "cell_type": "markdown",
   "id": "ef318d1c",
   "metadata": {},
   "source": [
    "## Problem Statement\n",
    "<div class=\"alert alert-block alert-success\">\n",
    "    <b>A retail store wants to understand and predict the sales of various items in their outlets. They have collected data on different features of the items and the outlets. The store wants to leverage this data to build a predictive model that can accurately estimate the sales of items based on their characteristics and the outlet's information.</b>"
   ]
  },
  {
   "cell_type": "markdown",
   "id": "91ee2610",
   "metadata": {},
   "source": [
    "## Data Directory\n",
    "**Item_Identifier:** A unique identifier for each item in the store.\n",
    "\n",
    "**Item_Weight:** The weight of the item.\n",
    "\n",
    "**Item_Fat_Content:** The level of fat content in the item (e.g., low fat, regular)\n",
    "\n",
    "**Item_Visibility:** The percentage of total display are allocated to the item in the store.\n",
    "\n",
    "**Item_Type:** The category or type of the item.\n",
    "\n",
    "**Item_MRP:** The maximum retail price of the item.\n",
    "\n",
    "**Outlet_Identifier:** A unique identifier for each outlet in the store chain.\n",
    "\n",
    "**Outlet_Establishment_Year:** The year when the outlet was established.\n",
    "\n",
    "**Outlet_Size:** The size of the outlet (e.g., small, medium, large).\n",
    "\n",
    "**Outlet_Location_Type:** The type of location where the outlet is situated (e.g., Tier 1, Tier 2).\n",
    "\n",
    "**Outlet_Type:** The type of outlet (e.g., Supermarket Type 1, Supermarket Type 2, Supermarket Type 3, Grocery Store).\n",
    "\n",
    "**Item_Outlet_Sales:** The sales of the item in the outlet."
   ]
  },
  {
   "cell_type": "markdown",
   "id": "4114db05",
   "metadata": {},
   "source": [
    "# <font color=red>  Importing requried libraries</font>"
   ]
  },
  {
   "cell_type": "code",
   "execution_count": 3,
   "id": "9b97ee87",
   "metadata": {},
   "outputs": [],
   "source": [
    "import pandas as pd\n",
    "import numpy as np\n",
    "import seaborn as sns\n",
    "import matplotlib.pyplot as plt\n",
    "import category_encoders as ce"
   ]
  },
  {
   "cell_type": "code",
   "execution_count": 95,
   "id": "90069203",
   "metadata": {},
   "outputs": [],
   "source": [
    "df = pd.read_csv('Train.csv')"
   ]
  },
  {
   "cell_type": "markdown",
   "id": "0fff6182",
   "metadata": {},
   "source": [
    "## The below is the Dataset. Now we perform some operations."
   ]
  },
  {
   "cell_type": "code",
   "execution_count": 96,
   "id": "16d54904",
   "metadata": {
    "scrolled": false
   },
   "outputs": [
    {
     "data": {
      "text/html": [
       "<div>\n",
       "<style scoped>\n",
       "    .dataframe tbody tr th:only-of-type {\n",
       "        vertical-align: middle;\n",
       "    }\n",
       "\n",
       "    .dataframe tbody tr th {\n",
       "        vertical-align: top;\n",
       "    }\n",
       "\n",
       "    .dataframe thead th {\n",
       "        text-align: right;\n",
       "    }\n",
       "</style>\n",
       "<table border=\"1\" class=\"dataframe\">\n",
       "  <thead>\n",
       "    <tr style=\"text-align: right;\">\n",
       "      <th></th>\n",
       "      <th>Item_Identifier</th>\n",
       "      <th>Item_Weight</th>\n",
       "      <th>Item_Fat_Content</th>\n",
       "      <th>Item_Visibility</th>\n",
       "      <th>Item_Type</th>\n",
       "      <th>Item_MRP</th>\n",
       "      <th>Outlet_Identifier</th>\n",
       "      <th>Outlet_Establishment_Year</th>\n",
       "      <th>Outlet_Size</th>\n",
       "      <th>Outlet_Location_Type</th>\n",
       "      <th>Outlet_Type</th>\n",
       "      <th>Item_Outlet_Sales</th>\n",
       "    </tr>\n",
       "  </thead>\n",
       "  <tbody>\n",
       "    <tr>\n",
       "      <th>0</th>\n",
       "      <td>FDA15</td>\n",
       "      <td>9.300</td>\n",
       "      <td>Low Fat</td>\n",
       "      <td>0.016047</td>\n",
       "      <td>Dairy</td>\n",
       "      <td>249.8092</td>\n",
       "      <td>OUT049</td>\n",
       "      <td>1999</td>\n",
       "      <td>Medium</td>\n",
       "      <td>Tier 1</td>\n",
       "      <td>Supermarket Type1</td>\n",
       "      <td>3735.1380</td>\n",
       "    </tr>\n",
       "    <tr>\n",
       "      <th>1</th>\n",
       "      <td>DRC01</td>\n",
       "      <td>5.920</td>\n",
       "      <td>Regular</td>\n",
       "      <td>0.019278</td>\n",
       "      <td>Soft Drinks</td>\n",
       "      <td>48.2692</td>\n",
       "      <td>OUT018</td>\n",
       "      <td>2009</td>\n",
       "      <td>Medium</td>\n",
       "      <td>Tier 3</td>\n",
       "      <td>Supermarket Type2</td>\n",
       "      <td>443.4228</td>\n",
       "    </tr>\n",
       "    <tr>\n",
       "      <th>2</th>\n",
       "      <td>FDN15</td>\n",
       "      <td>17.500</td>\n",
       "      <td>Low Fat</td>\n",
       "      <td>0.016760</td>\n",
       "      <td>Meat</td>\n",
       "      <td>141.6180</td>\n",
       "      <td>OUT049</td>\n",
       "      <td>1999</td>\n",
       "      <td>Medium</td>\n",
       "      <td>Tier 1</td>\n",
       "      <td>Supermarket Type1</td>\n",
       "      <td>2097.2700</td>\n",
       "    </tr>\n",
       "    <tr>\n",
       "      <th>3</th>\n",
       "      <td>FDX07</td>\n",
       "      <td>19.200</td>\n",
       "      <td>Regular</td>\n",
       "      <td>0.000000</td>\n",
       "      <td>Fruits and Vegetables</td>\n",
       "      <td>182.0950</td>\n",
       "      <td>OUT010</td>\n",
       "      <td>1998</td>\n",
       "      <td>NaN</td>\n",
       "      <td>Tier 3</td>\n",
       "      <td>Grocery Store</td>\n",
       "      <td>732.3800</td>\n",
       "    </tr>\n",
       "    <tr>\n",
       "      <th>4</th>\n",
       "      <td>NCD19</td>\n",
       "      <td>8.930</td>\n",
       "      <td>Low Fat</td>\n",
       "      <td>0.000000</td>\n",
       "      <td>Household</td>\n",
       "      <td>53.8614</td>\n",
       "      <td>OUT013</td>\n",
       "      <td>1987</td>\n",
       "      <td>High</td>\n",
       "      <td>Tier 3</td>\n",
       "      <td>Supermarket Type1</td>\n",
       "      <td>994.7052</td>\n",
       "    </tr>\n",
       "    <tr>\n",
       "      <th>...</th>\n",
       "      <td>...</td>\n",
       "      <td>...</td>\n",
       "      <td>...</td>\n",
       "      <td>...</td>\n",
       "      <td>...</td>\n",
       "      <td>...</td>\n",
       "      <td>...</td>\n",
       "      <td>...</td>\n",
       "      <td>...</td>\n",
       "      <td>...</td>\n",
       "      <td>...</td>\n",
       "      <td>...</td>\n",
       "    </tr>\n",
       "    <tr>\n",
       "      <th>8518</th>\n",
       "      <td>FDF22</td>\n",
       "      <td>6.865</td>\n",
       "      <td>Low Fat</td>\n",
       "      <td>0.056783</td>\n",
       "      <td>Snack Foods</td>\n",
       "      <td>214.5218</td>\n",
       "      <td>OUT013</td>\n",
       "      <td>1987</td>\n",
       "      <td>High</td>\n",
       "      <td>Tier 3</td>\n",
       "      <td>Supermarket Type1</td>\n",
       "      <td>2778.3834</td>\n",
       "    </tr>\n",
       "    <tr>\n",
       "      <th>8519</th>\n",
       "      <td>FDS36</td>\n",
       "      <td>8.380</td>\n",
       "      <td>Regular</td>\n",
       "      <td>0.046982</td>\n",
       "      <td>Baking Goods</td>\n",
       "      <td>108.1570</td>\n",
       "      <td>OUT045</td>\n",
       "      <td>2002</td>\n",
       "      <td>NaN</td>\n",
       "      <td>Tier 2</td>\n",
       "      <td>Supermarket Type1</td>\n",
       "      <td>549.2850</td>\n",
       "    </tr>\n",
       "    <tr>\n",
       "      <th>8520</th>\n",
       "      <td>NCJ29</td>\n",
       "      <td>10.600</td>\n",
       "      <td>Low Fat</td>\n",
       "      <td>0.035186</td>\n",
       "      <td>Health and Hygiene</td>\n",
       "      <td>85.1224</td>\n",
       "      <td>OUT035</td>\n",
       "      <td>2004</td>\n",
       "      <td>Small</td>\n",
       "      <td>Tier 2</td>\n",
       "      <td>Supermarket Type1</td>\n",
       "      <td>1193.1136</td>\n",
       "    </tr>\n",
       "    <tr>\n",
       "      <th>8521</th>\n",
       "      <td>FDN46</td>\n",
       "      <td>7.210</td>\n",
       "      <td>Regular</td>\n",
       "      <td>0.145221</td>\n",
       "      <td>Snack Foods</td>\n",
       "      <td>103.1332</td>\n",
       "      <td>OUT018</td>\n",
       "      <td>2009</td>\n",
       "      <td>Medium</td>\n",
       "      <td>Tier 3</td>\n",
       "      <td>Supermarket Type2</td>\n",
       "      <td>1845.5976</td>\n",
       "    </tr>\n",
       "    <tr>\n",
       "      <th>8522</th>\n",
       "      <td>DRG01</td>\n",
       "      <td>14.800</td>\n",
       "      <td>Low Fat</td>\n",
       "      <td>0.044878</td>\n",
       "      <td>Soft Drinks</td>\n",
       "      <td>75.4670</td>\n",
       "      <td>OUT046</td>\n",
       "      <td>1997</td>\n",
       "      <td>Small</td>\n",
       "      <td>Tier 1</td>\n",
       "      <td>Supermarket Type1</td>\n",
       "      <td>765.6700</td>\n",
       "    </tr>\n",
       "  </tbody>\n",
       "</table>\n",
       "<p>8523 rows × 12 columns</p>\n",
       "</div>"
      ],
      "text/plain": [
       "     Item_Identifier  Item_Weight Item_Fat_Content  Item_Visibility  \\\n",
       "0              FDA15        9.300          Low Fat         0.016047   \n",
       "1              DRC01        5.920          Regular         0.019278   \n",
       "2              FDN15       17.500          Low Fat         0.016760   \n",
       "3              FDX07       19.200          Regular         0.000000   \n",
       "4              NCD19        8.930          Low Fat         0.000000   \n",
       "...              ...          ...              ...              ...   \n",
       "8518           FDF22        6.865          Low Fat         0.056783   \n",
       "8519           FDS36        8.380          Regular         0.046982   \n",
       "8520           NCJ29       10.600          Low Fat         0.035186   \n",
       "8521           FDN46        7.210          Regular         0.145221   \n",
       "8522           DRG01       14.800          Low Fat         0.044878   \n",
       "\n",
       "                  Item_Type  Item_MRP Outlet_Identifier  \\\n",
       "0                     Dairy  249.8092            OUT049   \n",
       "1               Soft Drinks   48.2692            OUT018   \n",
       "2                      Meat  141.6180            OUT049   \n",
       "3     Fruits and Vegetables  182.0950            OUT010   \n",
       "4                 Household   53.8614            OUT013   \n",
       "...                     ...       ...               ...   \n",
       "8518            Snack Foods  214.5218            OUT013   \n",
       "8519           Baking Goods  108.1570            OUT045   \n",
       "8520     Health and Hygiene   85.1224            OUT035   \n",
       "8521            Snack Foods  103.1332            OUT018   \n",
       "8522            Soft Drinks   75.4670            OUT046   \n",
       "\n",
       "      Outlet_Establishment_Year Outlet_Size Outlet_Location_Type  \\\n",
       "0                          1999      Medium               Tier 1   \n",
       "1                          2009      Medium               Tier 3   \n",
       "2                          1999      Medium               Tier 1   \n",
       "3                          1998         NaN               Tier 3   \n",
       "4                          1987        High               Tier 3   \n",
       "...                         ...         ...                  ...   \n",
       "8518                       1987        High               Tier 3   \n",
       "8519                       2002         NaN               Tier 2   \n",
       "8520                       2004       Small               Tier 2   \n",
       "8521                       2009      Medium               Tier 3   \n",
       "8522                       1997       Small               Tier 1   \n",
       "\n",
       "            Outlet_Type  Item_Outlet_Sales  \n",
       "0     Supermarket Type1          3735.1380  \n",
       "1     Supermarket Type2           443.4228  \n",
       "2     Supermarket Type1          2097.2700  \n",
       "3         Grocery Store           732.3800  \n",
       "4     Supermarket Type1           994.7052  \n",
       "...                 ...                ...  \n",
       "8518  Supermarket Type1          2778.3834  \n",
       "8519  Supermarket Type1           549.2850  \n",
       "8520  Supermarket Type1          1193.1136  \n",
       "8521  Supermarket Type2          1845.5976  \n",
       "8522  Supermarket Type1           765.6700  \n",
       "\n",
       "[8523 rows x 12 columns]"
      ]
     },
     "execution_count": 96,
     "metadata": {},
     "output_type": "execute_result"
    }
   ],
   "source": [
    "df"
   ]
  },
  {
   "cell_type": "markdown",
   "id": "c9ccb07c",
   "metadata": {},
   "source": [
    "## Table of Contents\n",
    "1. **[MISSING VALUE TREATMENT](#missing_value)**\n",
    "    - 1.1 - [CHECK FOR MISSING VALUES](#check_missingval)\n",
    "    - 1.2 - [FILL MISSING VALUES](#fill_missingval)\n",
    "    \n",
    "2. **[HANDLING FEATURE DATATYPES](#feature_datatypes)**\n",
    "\n",
    "3. **[SPARSITY REMOVAL](#sparsity)**\n",
    "\n",
    "4. **[OUTLIER TREATMENT](#outlier)**\n",
    "    - 4.1 - [REMOVING OUTLIERS USING IQR](#iqr)\n",
    "\n",
    "\n",
    "5. **[FEATURE ENCODING](#encoding)**\n",
    "    - 5.1 - [ONE-HOT ENCODING](#onehot)    \n",
    "    - 5.2 - [LABEL ENCODING](#label)\n",
    "    - 5.3 - [BINARY ENCODING](#binary)\n",
    "    - 5.4 - [TARGET ENCODING](#target)\n",
    "    - 5.5 - [FREQUENCY ENCODING](#frequency)\n",
    "    \n",
    "6. **[SKEWNESS REMOVAL](#skewness)**\n",
    "    - 6.1 - [LOG TRANSFORMATION](#log)\n",
    "    - 6.2 - [SQUARE ROOT TRANSFORMATION](#sqrt)\n",
    "    - 6.3 - [BOX COX TRANSFORMATION](#boxcox)\n",
    "    \n",
    "7. **[CLASS IMBALANCE HANDLER](#cih)**\n",
    "    - 7.1 - [PERFORMING CLASS IMBALANCE HANDLER](#performing_cih)\n",
    "\n",
    "8. **[MULTICOLLINEARITY HANDLER](#multicollinearity)**\n",
    "\n",
    "9. **[DIMENSIONALITY REDUCTION](#dimensionality)**\n",
    "    - 9.1 - [FEATURE SELECTION](#feature_selection)\n",
    "    - 9.2 - [PCA](#pca)\n",
    "\n",
    "10. **[FEATURE SCALING](#scaling)**\n",
    "     - 10.1 - [MIN MAX SCALING](#minmax)\n",
    "     - 10.2 - [Z-SCORE](#zscore)\n",
    "     \n",
    "11. **[LINEAR REGRESSION](#lr)**\n",
    "     - 11.1 - [MULTIPLE LINEAR REGRESSION](#mlr)\n",
    "     - 11.2 - [OLS METHOD](#ols)\n",
    "     \n",
    "12. **[DECISION TREE & RANDOM FOREST](#dt_rf)**\n",
    "     - 12.1 - [DECISION TREE](#dt)\n",
    "     - 12.2 - [RANDOM FOREST](#rf)"
   ]
  },
  {
   "cell_type": "markdown",
   "id": "1e607ec5",
   "metadata": {},
   "source": [
    "<a id='missing_value'></a>\n",
    "# <font color=red> 1. Missing value treatment</font>"
   ]
  },
  {
   "cell_type": "markdown",
   "id": "e3cdf00f",
   "metadata": {},
   "source": [
    "<a id='check_missingval'></a>\n",
    "## <font color=red> 1.1 Check for missing values</font>"
   ]
  },
  {
   "cell_type": "markdown",
   "id": "51349d38",
   "metadata": {},
   "source": [
    "### Here we check for the missing values in the dataset."
   ]
  },
  {
   "cell_type": "code",
   "execution_count": 94,
   "id": "a07b4ecc",
   "metadata": {},
   "outputs": [
    {
     "data": {
      "text/plain": [
       "Item_Identifier                 0\n",
       "Item_Weight                  1463\n",
       "Item_Fat_Content                0\n",
       "Item_Visibility                 0\n",
       "Item_Type                       0\n",
       "Item_MRP                        0\n",
       "Outlet_Identifier               0\n",
       "Outlet_Establishment_Year       0\n",
       "Outlet_Size                  2410\n",
       "Outlet_Location_Type            0\n",
       "Outlet_Type                     0\n",
       "Item_Outlet_Sales               0\n",
       "dtype: int64"
      ]
     },
     "execution_count": 94,
     "metadata": {},
     "output_type": "execute_result"
    }
   ],
   "source": [
    "df.isnull().sum()"
   ]
  },
  {
   "cell_type": "markdown",
   "id": "fd73c819",
   "metadata": {},
   "source": [
    "### <div class=\"alert alert-info\"> Here, we can check that only in the columns 'Item_Weight' and 'Outlet_Size' has missing values.</div>"
   ]
  },
  {
   "cell_type": "markdown",
   "id": "9e4a96b4",
   "metadata": {},
   "source": [
    "### Now we check for the percentage of missing values in the dataset."
   ]
  },
  {
   "cell_type": "code",
   "execution_count": 5,
   "id": "534a44ac",
   "metadata": {},
   "outputs": [
    {
     "data": {
      "text/plain": [
       "Item_Identifier               0.000000\n",
       "Item_Weight                  17.165317\n",
       "Item_Fat_Content              0.000000\n",
       "Item_Visibility               0.000000\n",
       "Item_Type                     0.000000\n",
       "Item_MRP                      0.000000\n",
       "Outlet_Identifier             0.000000\n",
       "Outlet_Establishment_Year     0.000000\n",
       "Outlet_Size                  28.276428\n",
       "Outlet_Location_Type          0.000000\n",
       "Outlet_Type                   0.000000\n",
       "Item_Outlet_Sales             0.000000\n",
       "dtype: float64"
      ]
     },
     "execution_count": 5,
     "metadata": {},
     "output_type": "execute_result"
    }
   ],
   "source": [
    "missing_percentage = df.isnull().mean() * 100\n",
    "missing_percentage"
   ]
  },
  {
   "cell_type": "markdown",
   "id": "64d3be4a",
   "metadata": {},
   "source": [
    "### <div class=\"alert alert-info\"> There are 17.1% of missing values in the column 'Item_Weight' and 28.2% of missing values in the column 'Outlet_Size'. Since there is less percentage of missing values in the dataset we can fill the missing values instead of deleting because deleting the missing values would result in loss of information and could reduce the size of the dataset.</div>"
   ]
  },
  {
   "cell_type": "markdown",
   "id": "cd744b88",
   "metadata": {},
   "source": [
    "<a id='fill_missingval'></a>\n",
    "## <font color=red> 1.2 Fill missing values</font>"
   ]
  },
  {
   "cell_type": "markdown",
   "id": "6e190194",
   "metadata": {},
   "source": [
    "### Now we will use fillna to fill the empty cells in the dataset"
   ]
  },
  {
   "cell_type": "markdown",
   "id": "db07ad93",
   "metadata": {},
   "source": [
    "### Before dropping the data in the column 'Item_Weight', we have to check the column is which skew like no skew or right skewed or left skewed. "
   ]
  },
  {
   "cell_type": "code",
   "execution_count": 101,
   "id": "c42cc6ce",
   "metadata": {},
   "outputs": [
    {
     "name": "stderr",
     "output_type": "stream",
     "text": [
      "C:\\Users\\shema\\AppData\\Local\\Temp\\ipykernel_5004\\2396181362.py:1: UserWarning: \n",
      "\n",
      "`distplot` is a deprecated function and will be removed in seaborn v0.14.0.\n",
      "\n",
      "Please adapt your code to use either `displot` (a figure-level function with\n",
      "similar flexibility) or `histplot` (an axes-level function for histograms).\n",
      "\n",
      "For a guide to updating your code to use the new functions, please see\n",
      "https://gist.github.com/mwaskom/de44147ed2974457ad6372750bbe5751\n",
      "\n",
      "  sns.distplot(df['Item_Weight'],hist=True)\n"
     ]
    },
    {
     "data": {
      "text/plain": [
       "0.0824262091221237"
      ]
     },
     "execution_count": 101,
     "metadata": {},
     "output_type": "execute_result"
    },
    {
     "data": {
      "image/png": "[encoded data removed]",
      "text/plain": [
       "<Figure size 640x480 with 1 Axes>"
      ]
     },
     "metadata": {},
     "output_type": "display_data"
    }
   ],
   "source": [
    "sns.distplot(df['Item_Weight'],hist=True)\n",
    "df['Item_Weight'].skew()"
   ]
  },
  {
   "cell_type": "markdown",
   "id": "b01fca8c",
   "metadata": {},
   "source": [
    "### <div class=\"alert alert-info\"> Here the column 'Item_Weight' has no skew. So we can perform mean or median or mode. Here i have used mean, mean represents the average values of a set of numbers.</div>"
   ]
  },
  {
   "cell_type": "code",
   "execution_count": 55,
   "id": "fced5865",
   "metadata": {
    "scrolled": false
   },
   "outputs": [
    {
     "data": {
      "text/html": [
       "<div>\n",
       "<style scoped>\n",
       "    .dataframe tbody tr th:only-of-type {\n",
       "        vertical-align: middle;\n",
       "    }\n",
       "\n",
       "    .dataframe tbody tr th {\n",
       "        vertical-align: top;\n",
       "    }\n",
       "\n",
       "    .dataframe thead th {\n",
       "        text-align: right;\n",
       "    }\n",
       "</style>\n",
       "<table border=\"1\" class=\"dataframe\">\n",
       "  <thead>\n",
       "    <tr style=\"text-align: right;\">\n",
       "      <th></th>\n",
       "      <th>Item_Identifier</th>\n",
       "      <th>Item_Weight</th>\n",
       "      <th>Item_Fat_Content</th>\n",
       "      <th>Item_Visibility</th>\n",
       "      <th>Item_Type</th>\n",
       "      <th>Item_MRP</th>\n",
       "      <th>Outlet_Identifier</th>\n",
       "      <th>Outlet_Establishment_Year</th>\n",
       "      <th>Outlet_Size</th>\n",
       "      <th>Outlet_Location_Type</th>\n",
       "      <th>Outlet_Type</th>\n",
       "      <th>Item_Outlet_Sales</th>\n",
       "      <th>Category_frequency_encoded</th>\n",
       "      <th>Identifier_Label</th>\n",
       "      <th>Fat_Content_Label</th>\n",
       "      <th>Outlet_Label</th>\n",
       "      <th>Outlet_Size_Label</th>\n",
       "      <th>Outlet_Location_Type_Label</th>\n",
       "      <th>Outlet_Type_Label</th>\n",
       "    </tr>\n",
       "  </thead>\n",
       "  <tbody>\n",
       "    <tr>\n",
       "      <th>0</th>\n",
       "      <td>FDA15</td>\n",
       "      <td>9.300000</td>\n",
       "      <td>Low Fat</td>\n",
       "      <td>0.016047</td>\n",
       "      <td>Dairy</td>\n",
       "      <td>249.8092</td>\n",
       "      <td>OUT049</td>\n",
       "      <td>1999</td>\n",
       "      <td>Medium</td>\n",
       "      <td>Tier 1</td>\n",
       "      <td>Supermarket Type1</td>\n",
       "      <td>3735.1380</td>\n",
       "      <td>682</td>\n",
       "      <td>156</td>\n",
       "      <td>1</td>\n",
       "      <td>9</td>\n",
       "      <td>1</td>\n",
       "      <td>0</td>\n",
       "      <td>1</td>\n",
       "    </tr>\n",
       "    <tr>\n",
       "      <th>1</th>\n",
       "      <td>DRC01</td>\n",
       "      <td>5.920000</td>\n",
       "      <td>Regular</td>\n",
       "      <td>0.019278</td>\n",
       "      <td>Soft Drinks</td>\n",
       "      <td>48.2692</td>\n",
       "      <td>OUT018</td>\n",
       "      <td>2009</td>\n",
       "      <td>Medium</td>\n",
       "      <td>Tier 3</td>\n",
       "      <td>Supermarket Type2</td>\n",
       "      <td>443.4228</td>\n",
       "      <td>445</td>\n",
       "      <td>8</td>\n",
       "      <td>2</td>\n",
       "      <td>3</td>\n",
       "      <td>1</td>\n",
       "      <td>2</td>\n",
       "      <td>2</td>\n",
       "    </tr>\n",
       "    <tr>\n",
       "      <th>2</th>\n",
       "      <td>FDN15</td>\n",
       "      <td>17.500000</td>\n",
       "      <td>Low Fat</td>\n",
       "      <td>0.016760</td>\n",
       "      <td>Meat</td>\n",
       "      <td>141.6180</td>\n",
       "      <td>OUT049</td>\n",
       "      <td>1999</td>\n",
       "      <td>Medium</td>\n",
       "      <td>Tier 1</td>\n",
       "      <td>Supermarket Type1</td>\n",
       "      <td>2097.2700</td>\n",
       "      <td>425</td>\n",
       "      <td>662</td>\n",
       "      <td>1</td>\n",
       "      <td>9</td>\n",
       "      <td>1</td>\n",
       "      <td>0</td>\n",
       "      <td>1</td>\n",
       "    </tr>\n",
       "    <tr>\n",
       "      <th>3</th>\n",
       "      <td>FDX07</td>\n",
       "      <td>19.200000</td>\n",
       "      <td>Regular</td>\n",
       "      <td>0.000000</td>\n",
       "      <td>Fruits and Vegetables</td>\n",
       "      <td>182.0950</td>\n",
       "      <td>OUT010</td>\n",
       "      <td>1998</td>\n",
       "      <td>NaN</td>\n",
       "      <td>Tier 3</td>\n",
       "      <td>Grocery Store</td>\n",
       "      <td>732.3800</td>\n",
       "      <td>1232</td>\n",
       "      <td>1121</td>\n",
       "      <td>2</td>\n",
       "      <td>0</td>\n",
       "      <td>3</td>\n",
       "      <td>2</td>\n",
       "      <td>0</td>\n",
       "    </tr>\n",
       "    <tr>\n",
       "      <th>4</th>\n",
       "      <td>NCD19</td>\n",
       "      <td>8.930000</td>\n",
       "      <td>Low Fat</td>\n",
       "      <td>0.000000</td>\n",
       "      <td>Household</td>\n",
       "      <td>53.8614</td>\n",
       "      <td>OUT013</td>\n",
       "      <td>1987</td>\n",
       "      <td>High</td>\n",
       "      <td>Tier 3</td>\n",
       "      <td>Supermarket Type1</td>\n",
       "      <td>994.7052</td>\n",
       "      <td>910</td>\n",
       "      <td>1297</td>\n",
       "      <td>1</td>\n",
       "      <td>1</td>\n",
       "      <td>0</td>\n",
       "      <td>2</td>\n",
       "      <td>1</td>\n",
       "    </tr>\n",
       "    <tr>\n",
       "      <th>5</th>\n",
       "      <td>FDP36</td>\n",
       "      <td>10.395000</td>\n",
       "      <td>Regular</td>\n",
       "      <td>0.000000</td>\n",
       "      <td>Baking Goods</td>\n",
       "      <td>51.4008</td>\n",
       "      <td>OUT018</td>\n",
       "      <td>2009</td>\n",
       "      <td>Medium</td>\n",
       "      <td>Tier 3</td>\n",
       "      <td>Supermarket Type2</td>\n",
       "      <td>556.6088</td>\n",
       "      <td>648</td>\n",
       "      <td>758</td>\n",
       "      <td>2</td>\n",
       "      <td>3</td>\n",
       "      <td>1</td>\n",
       "      <td>2</td>\n",
       "      <td>2</td>\n",
       "    </tr>\n",
       "    <tr>\n",
       "      <th>6</th>\n",
       "      <td>FDO10</td>\n",
       "      <td>13.650000</td>\n",
       "      <td>Regular</td>\n",
       "      <td>0.012741</td>\n",
       "      <td>Snack Foods</td>\n",
       "      <td>57.6588</td>\n",
       "      <td>OUT013</td>\n",
       "      <td>1987</td>\n",
       "      <td>High</td>\n",
       "      <td>Tier 3</td>\n",
       "      <td>Supermarket Type1</td>\n",
       "      <td>343.5528</td>\n",
       "      <td>1200</td>\n",
       "      <td>696</td>\n",
       "      <td>2</td>\n",
       "      <td>1</td>\n",
       "      <td>0</td>\n",
       "      <td>2</td>\n",
       "      <td>1</td>\n",
       "    </tr>\n",
       "    <tr>\n",
       "      <th>7</th>\n",
       "      <td>FDP10</td>\n",
       "      <td>12.857645</td>\n",
       "      <td>Low Fat</td>\n",
       "      <td>0.127470</td>\n",
       "      <td>Snack Foods</td>\n",
       "      <td>107.7622</td>\n",
       "      <td>OUT027</td>\n",
       "      <td>1985</td>\n",
       "      <td>Medium</td>\n",
       "      <td>Tier 3</td>\n",
       "      <td>Supermarket Type3</td>\n",
       "      <td>4022.7636</td>\n",
       "      <td>1200</td>\n",
       "      <td>738</td>\n",
       "      <td>1</td>\n",
       "      <td>5</td>\n",
       "      <td>1</td>\n",
       "      <td>2</td>\n",
       "      <td>3</td>\n",
       "    </tr>\n",
       "    <tr>\n",
       "      <th>8</th>\n",
       "      <td>FDH17</td>\n",
       "      <td>16.200000</td>\n",
       "      <td>Regular</td>\n",
       "      <td>0.016687</td>\n",
       "      <td>Frozen Foods</td>\n",
       "      <td>96.9726</td>\n",
       "      <td>OUT045</td>\n",
       "      <td>2002</td>\n",
       "      <td>NaN</td>\n",
       "      <td>Tier 2</td>\n",
       "      <td>Supermarket Type1</td>\n",
       "      <td>1076.5986</td>\n",
       "      <td>856</td>\n",
       "      <td>440</td>\n",
       "      <td>2</td>\n",
       "      <td>7</td>\n",
       "      <td>3</td>\n",
       "      <td>1</td>\n",
       "      <td>1</td>\n",
       "    </tr>\n",
       "  </tbody>\n",
       "</table>\n",
       "</div>"
      ],
      "text/plain": [
       "  Item_Identifier  Item_Weight Item_Fat_Content  Item_Visibility  \\\n",
       "0           FDA15     9.300000          Low Fat         0.016047   \n",
       "1           DRC01     5.920000          Regular         0.019278   \n",
       "2           FDN15    17.500000          Low Fat         0.016760   \n",
       "3           FDX07    19.200000          Regular         0.000000   \n",
       "4           NCD19     8.930000          Low Fat         0.000000   \n",
       "5           FDP36    10.395000          Regular         0.000000   \n",
       "6           FDO10    13.650000          Regular         0.012741   \n",
       "7           FDP10    12.857645          Low Fat         0.127470   \n",
       "8           FDH17    16.200000          Regular         0.016687   \n",
       "\n",
       "               Item_Type  Item_MRP Outlet_Identifier  \\\n",
       "0                  Dairy  249.8092            OUT049   \n",
       "1            Soft Drinks   48.2692            OUT018   \n",
       "2                   Meat  141.6180            OUT049   \n",
       "3  Fruits and Vegetables  182.0950            OUT010   \n",
       "4              Household   53.8614            OUT013   \n",
       "5           Baking Goods   51.4008            OUT018   \n",
       "6            Snack Foods   57.6588            OUT013   \n",
       "7            Snack Foods  107.7622            OUT027   \n",
       "8           Frozen Foods   96.9726            OUT045   \n",
       "\n",
       "   Outlet_Establishment_Year Outlet_Size Outlet_Location_Type  \\\n",
       "0                       1999      Medium               Tier 1   \n",
       "1                       2009      Medium               Tier 3   \n",
       "2                       1999      Medium               Tier 1   \n",
       "3                       1998         NaN               Tier 3   \n",
       "4                       1987        High               Tier 3   \n",
       "5                       2009      Medium               Tier 3   \n",
       "6                       1987        High               Tier 3   \n",
       "7                       1985      Medium               Tier 3   \n",
       "8                       2002         NaN               Tier 2   \n",
       "\n",
       "         Outlet_Type  Item_Outlet_Sales  Category_frequency_encoded  \\\n",
       "0  Supermarket Type1          3735.1380                         682   \n",
       "1  Supermarket Type2           443.4228                         445   \n",
       "2  Supermarket Type1          2097.2700                         425   \n",
       "3      Grocery Store           732.3800                        1232   \n",
       "4  Supermarket Type1           994.7052                         910   \n",
       "5  Supermarket Type2           556.6088                         648   \n",
       "6  Supermarket Type1           343.5528                        1200   \n",
       "7  Supermarket Type3          4022.7636                        1200   \n",
       "8  Supermarket Type1          1076.5986                         856   \n",
       "\n",
       "   Identifier_Label  Fat_Content_Label  Outlet_Label  Outlet_Size_Label  \\\n",
       "0               156                  1             9                  1   \n",
       "1                 8                  2             3                  1   \n",
       "2               662                  1             9                  1   \n",
       "3              1121                  2             0                  3   \n",
       "4              1297                  1             1                  0   \n",
       "5               758                  2             3                  1   \n",
       "6               696                  2             1                  0   \n",
       "7               738                  1             5                  1   \n",
       "8               440                  2             7                  3   \n",
       "\n",
       "   Outlet_Location_Type_Label  Outlet_Type_Label  \n",
       "0                           0                  1  \n",
       "1                           2                  2  \n",
       "2                           0                  1  \n",
       "3                           2                  0  \n",
       "4                           2                  1  \n",
       "5                           2                  2  \n",
       "6                           2                  1  \n",
       "7                           2                  3  \n",
       "8                           1                  1  "
      ]
     },
     "execution_count": 55,
     "metadata": {},
     "output_type": "execute_result"
    }
   ],
   "source": [
    "df['Item_Weight'] = df['Item_Weight'].fillna(df['Item_Weight'].mean())\n",
    "df.head(9)"
   ]
  },
  {
   "cell_type": "markdown",
   "id": "c0b1c38b",
   "metadata": {},
   "source": [
    "### So for the column 'Item_Weight', I have used mean to fill the missing values in the column. Mean would replace with the missing values in the column."
   ]
  },
  {
   "cell_type": "markdown",
   "id": "fa4fca7a",
   "metadata": {},
   "source": [
    "### For the column 'Outlet_Size', since it is a categorical column, we use mode to fill the missing values in the dataset."
   ]
  },
  {
   "cell_type": "code",
   "execution_count": 8,
   "id": "9005cd09",
   "metadata": {},
   "outputs": [
    {
     "data": {
      "text/html": [
       "<div>\n",
       "<style scoped>\n",
       "    .dataframe tbody tr th:only-of-type {\n",
       "        vertical-align: middle;\n",
       "    }\n",
       "\n",
       "    .dataframe tbody tr th {\n",
       "        vertical-align: top;\n",
       "    }\n",
       "\n",
       "    .dataframe thead th {\n",
       "        text-align: right;\n",
       "    }\n",
       "</style>\n",
       "<table border=\"1\" class=\"dataframe\">\n",
       "  <thead>\n",
       "    <tr style=\"text-align: right;\">\n",
       "      <th></th>\n",
       "      <th>Item_Identifier</th>\n",
       "      <th>Item_Weight</th>\n",
       "      <th>Item_Fat_Content</th>\n",
       "      <th>Item_Visibility</th>\n",
       "      <th>Item_Type</th>\n",
       "      <th>Item_MRP</th>\n",
       "      <th>Outlet_Identifier</th>\n",
       "      <th>Outlet_Establishment_Year</th>\n",
       "      <th>Outlet_Size</th>\n",
       "      <th>Outlet_Location_Type</th>\n",
       "      <th>Outlet_Type</th>\n",
       "      <th>Item_Outlet_Sales</th>\n",
       "    </tr>\n",
       "  </thead>\n",
       "  <tbody>\n",
       "    <tr>\n",
       "      <th>0</th>\n",
       "      <td>FDA15</td>\n",
       "      <td>9.300000</td>\n",
       "      <td>Low Fat</td>\n",
       "      <td>0.016047</td>\n",
       "      <td>Dairy</td>\n",
       "      <td>249.8092</td>\n",
       "      <td>OUT049</td>\n",
       "      <td>1999</td>\n",
       "      <td>Medium</td>\n",
       "      <td>Tier 1</td>\n",
       "      <td>Supermarket Type1</td>\n",
       "      <td>3735.1380</td>\n",
       "    </tr>\n",
       "    <tr>\n",
       "      <th>1</th>\n",
       "      <td>DRC01</td>\n",
       "      <td>5.920000</td>\n",
       "      <td>Regular</td>\n",
       "      <td>0.019278</td>\n",
       "      <td>Soft Drinks</td>\n",
       "      <td>48.2692</td>\n",
       "      <td>OUT018</td>\n",
       "      <td>2009</td>\n",
       "      <td>Medium</td>\n",
       "      <td>Tier 3</td>\n",
       "      <td>Supermarket Type2</td>\n",
       "      <td>443.4228</td>\n",
       "    </tr>\n",
       "    <tr>\n",
       "      <th>2</th>\n",
       "      <td>FDN15</td>\n",
       "      <td>17.500000</td>\n",
       "      <td>Low Fat</td>\n",
       "      <td>0.016760</td>\n",
       "      <td>Meat</td>\n",
       "      <td>141.6180</td>\n",
       "      <td>OUT049</td>\n",
       "      <td>1999</td>\n",
       "      <td>Medium</td>\n",
       "      <td>Tier 1</td>\n",
       "      <td>Supermarket Type1</td>\n",
       "      <td>2097.2700</td>\n",
       "    </tr>\n",
       "    <tr>\n",
       "      <th>3</th>\n",
       "      <td>FDX07</td>\n",
       "      <td>19.200000</td>\n",
       "      <td>Regular</td>\n",
       "      <td>0.000000</td>\n",
       "      <td>Fruits and Vegetables</td>\n",
       "      <td>182.0950</td>\n",
       "      <td>OUT010</td>\n",
       "      <td>1998</td>\n",
       "      <td>Medium</td>\n",
       "      <td>Tier 3</td>\n",
       "      <td>Grocery Store</td>\n",
       "      <td>732.3800</td>\n",
       "    </tr>\n",
       "    <tr>\n",
       "      <th>4</th>\n",
       "      <td>NCD19</td>\n",
       "      <td>8.930000</td>\n",
       "      <td>Low Fat</td>\n",
       "      <td>0.000000</td>\n",
       "      <td>Household</td>\n",
       "      <td>53.8614</td>\n",
       "      <td>OUT013</td>\n",
       "      <td>1987</td>\n",
       "      <td>High</td>\n",
       "      <td>Tier 3</td>\n",
       "      <td>Supermarket Type1</td>\n",
       "      <td>994.7052</td>\n",
       "    </tr>\n",
       "    <tr>\n",
       "      <th>5</th>\n",
       "      <td>FDP36</td>\n",
       "      <td>10.395000</td>\n",
       "      <td>Regular</td>\n",
       "      <td>0.000000</td>\n",
       "      <td>Baking Goods</td>\n",
       "      <td>51.4008</td>\n",
       "      <td>OUT018</td>\n",
       "      <td>2009</td>\n",
       "      <td>Medium</td>\n",
       "      <td>Tier 3</td>\n",
       "      <td>Supermarket Type2</td>\n",
       "      <td>556.6088</td>\n",
       "    </tr>\n",
       "    <tr>\n",
       "      <th>6</th>\n",
       "      <td>FDO10</td>\n",
       "      <td>13.650000</td>\n",
       "      <td>Regular</td>\n",
       "      <td>0.012741</td>\n",
       "      <td>Snack Foods</td>\n",
       "      <td>57.6588</td>\n",
       "      <td>OUT013</td>\n",
       "      <td>1987</td>\n",
       "      <td>High</td>\n",
       "      <td>Tier 3</td>\n",
       "      <td>Supermarket Type1</td>\n",
       "      <td>343.5528</td>\n",
       "    </tr>\n",
       "    <tr>\n",
       "      <th>7</th>\n",
       "      <td>FDP10</td>\n",
       "      <td>12.857645</td>\n",
       "      <td>Low Fat</td>\n",
       "      <td>0.127470</td>\n",
       "      <td>Snack Foods</td>\n",
       "      <td>107.7622</td>\n",
       "      <td>OUT027</td>\n",
       "      <td>1985</td>\n",
       "      <td>Medium</td>\n",
       "      <td>Tier 3</td>\n",
       "      <td>Supermarket Type3</td>\n",
       "      <td>4022.7636</td>\n",
       "    </tr>\n",
       "    <tr>\n",
       "      <th>8</th>\n",
       "      <td>FDH17</td>\n",
       "      <td>16.200000</td>\n",
       "      <td>Regular</td>\n",
       "      <td>0.016687</td>\n",
       "      <td>Frozen Foods</td>\n",
       "      <td>96.9726</td>\n",
       "      <td>OUT045</td>\n",
       "      <td>2002</td>\n",
       "      <td>Medium</td>\n",
       "      <td>Tier 2</td>\n",
       "      <td>Supermarket Type1</td>\n",
       "      <td>1076.5986</td>\n",
       "    </tr>\n",
       "  </tbody>\n",
       "</table>\n",
       "</div>"
      ],
      "text/plain": [
       "  Item_Identifier  Item_Weight Item_Fat_Content  Item_Visibility  \\\n",
       "0           FDA15     9.300000          Low Fat         0.016047   \n",
       "1           DRC01     5.920000          Regular         0.019278   \n",
       "2           FDN15    17.500000          Low Fat         0.016760   \n",
       "3           FDX07    19.200000          Regular         0.000000   \n",
       "4           NCD19     8.930000          Low Fat         0.000000   \n",
       "5           FDP36    10.395000          Regular         0.000000   \n",
       "6           FDO10    13.650000          Regular         0.012741   \n",
       "7           FDP10    12.857645          Low Fat         0.127470   \n",
       "8           FDH17    16.200000          Regular         0.016687   \n",
       "\n",
       "               Item_Type  Item_MRP Outlet_Identifier  \\\n",
       "0                  Dairy  249.8092            OUT049   \n",
       "1            Soft Drinks   48.2692            OUT018   \n",
       "2                   Meat  141.6180            OUT049   \n",
       "3  Fruits and Vegetables  182.0950            OUT010   \n",
       "4              Household   53.8614            OUT013   \n",
       "5           Baking Goods   51.4008            OUT018   \n",
       "6            Snack Foods   57.6588            OUT013   \n",
       "7            Snack Foods  107.7622            OUT027   \n",
       "8           Frozen Foods   96.9726            OUT045   \n",
       "\n",
       "   Outlet_Establishment_Year Outlet_Size Outlet_Location_Type  \\\n",
       "0                       1999      Medium               Tier 1   \n",
       "1                       2009      Medium               Tier 3   \n",
       "2                       1999      Medium               Tier 1   \n",
       "3                       1998      Medium               Tier 3   \n",
       "4                       1987        High               Tier 3   \n",
       "5                       2009      Medium               Tier 3   \n",
       "6                       1987        High               Tier 3   \n",
       "7                       1985      Medium               Tier 3   \n",
       "8                       2002      Medium               Tier 2   \n",
       "\n",
       "         Outlet_Type  Item_Outlet_Sales  \n",
       "0  Supermarket Type1          3735.1380  \n",
       "1  Supermarket Type2           443.4228  \n",
       "2  Supermarket Type1          2097.2700  \n",
       "3      Grocery Store           732.3800  \n",
       "4  Supermarket Type1           994.7052  \n",
       "5  Supermarket Type2           556.6088  \n",
       "6  Supermarket Type1           343.5528  \n",
       "7  Supermarket Type3          4022.7636  \n",
       "8  Supermarket Type1          1076.5986  "
      ]
     },
     "execution_count": 8,
     "metadata": {},
     "output_type": "execute_result"
    }
   ],
   "source": [
    "df['Outlet_Size'] = df['Outlet_Size'].fillna(df['Outlet_Size'].mode()[0])\n",
    "df.head(9)"
   ]
  },
  {
   "cell_type": "markdown",
   "id": "6b63de01",
   "metadata": {},
   "source": [
    "### For the column 'Outlet_Size', we can fill using mode. Mode represents the most used value."
   ]
  },
  {
   "cell_type": "code",
   "execution_count": 9,
   "id": "a997b140",
   "metadata": {},
   "outputs": [
    {
     "data": {
      "text/plain": [
       "Item_Identifier              0\n",
       "Item_Weight                  0\n",
       "Item_Fat_Content             0\n",
       "Item_Visibility              0\n",
       "Item_Type                    0\n",
       "Item_MRP                     0\n",
       "Outlet_Identifier            0\n",
       "Outlet_Establishment_Year    0\n",
       "Outlet_Size                  0\n",
       "Outlet_Location_Type         0\n",
       "Outlet_Type                  0\n",
       "Item_Outlet_Sales            0\n",
       "dtype: int64"
      ]
     },
     "execution_count": 9,
     "metadata": {},
     "output_type": "execute_result"
    }
   ],
   "source": [
    "df.isnull().sum()"
   ]
  },
  {
   "cell_type": "markdown",
   "id": "f2c2033e",
   "metadata": {},
   "source": [
    "### <div class=\"alert alert-info\"> Now we don't have any missing values since we have filled the missing values.</div>"
   ]
  },
  {
   "cell_type": "markdown",
   "id": "c80951d6",
   "metadata": {},
   "source": [
    "<a id='feature_datatypes'></a>\n",
    "# <font color=red>  2. Handling Feature Datatypes</font>"
   ]
  },
  {
   "cell_type": "markdown",
   "id": "db7eb2d3",
   "metadata": {},
   "source": [
    "### Here in handling feature datatypes, we check the datatypes of the columns in the dataset. And we change the datatypes of the column if they are different."
   ]
  },
  {
   "cell_type": "code",
   "execution_count": 10,
   "id": "c92ee31b",
   "metadata": {},
   "outputs": [
    {
     "data": {
      "text/plain": [
       "Item_Identifier               object\n",
       "Item_Weight                  float64\n",
       "Item_Fat_Content              object\n",
       "Item_Visibility              float64\n",
       "Item_Type                     object\n",
       "Item_MRP                     float64\n",
       "Outlet_Identifier             object\n",
       "Outlet_Establishment_Year      int64\n",
       "Outlet_Size                   object\n",
       "Outlet_Location_Type          object\n",
       "Outlet_Type                   object\n",
       "Item_Outlet_Sales            float64\n",
       "dtype: object"
      ]
     },
     "execution_count": 10,
     "metadata": {},
     "output_type": "execute_result"
    }
   ],
   "source": [
    "# check datatypes\n",
    "df.dtypes"
   ]
  },
  {
   "cell_type": "markdown",
   "id": "c7024177",
   "metadata": {},
   "source": [
    "### <div class=\"alert alert-info\"> Here are the datatypes of the columns in the dataset. Here the data types of the columns are seems to be correct. So there's no use of changing the data types of the columns.</div>"
   ]
  },
  {
   "cell_type": "markdown",
   "id": "0b160468",
   "metadata": {},
   "source": [
    "<a id='sparsity'></a>\n",
    "# <font color=red> 3. Sparsity Removal</font>"
   ]
  },
  {
   "cell_type": "markdown",
   "id": "5ea2acf3",
   "metadata": {},
   "source": [
    "### In missing variable, we find the percentage of missing values in the data set."
   ]
  },
  {
   "cell_type": "markdown",
   "id": "800d813d",
   "metadata": {},
   "source": [
    "### In zero variable, we find the percentage of zeros in the data set. "
   ]
  },
  {
   "cell_type": "markdown",
   "id": "d601ffc1",
   "metadata": {},
   "source": [
    "### In the overall variable, we add the percentage of both missing and zeros to get the total percentage of missing values and zeros in the data set. "
   ]
  },
  {
   "cell_type": "code",
   "execution_count": 13,
   "id": "2ae40a34",
   "metadata": {},
   "outputs": [
    {
     "name": "stdout",
     "output_type": "stream",
     "text": [
      "missing percentage\n",
      "Item_Identifier              0.0\n",
      "Item_Weight                  0.0\n",
      "Item_Fat_Content             0.0\n",
      "Item_Visibility              0.0\n",
      "Item_Type                    0.0\n",
      "Item_MRP                     0.0\n",
      "Outlet_Identifier            0.0\n",
      "Outlet_Establishment_Year    0.0\n",
      "Outlet_Size                  0.0\n",
      "Outlet_Location_Type         0.0\n",
      "Outlet_Type                  0.0\n",
      "Item_Outlet_Sales            0.0\n",
      "dtype: float64\n",
      "\n",
      "zero percentage\n",
      "Item_Identifier              0.000000\n",
      "Item_Weight                  0.000000\n",
      "Item_Fat_Content             0.000000\n",
      "Item_Visibility              6.171536\n",
      "Item_Type                    0.000000\n",
      "Item_MRP                     0.000000\n",
      "Outlet_Identifier            0.000000\n",
      "Outlet_Establishment_Year    0.000000\n",
      "Outlet_Size                  0.000000\n",
      "Outlet_Location_Type         0.000000\n",
      "Outlet_Type                  0.000000\n",
      "Item_Outlet_Sales            0.000000\n",
      "dtype: float64\n",
      "\n",
      "overall percentage\n",
      "0.5142946536821933\n"
     ]
    }
   ],
   "source": [
    "# check sparsity\n",
    "df1 = pd.DataFrame(df)\n",
    "missing = df1.isnull().mean() * 100\n",
    "zero = (df1 == 0).mean() * 100\n",
    "overall = (df1.isnull().sum().sum()) + ((df1 == 0).sum().sum()) / df1.size * 100\n",
    "print('missing percentage')\n",
    "print(missing)\n",
    "print('\\nzero percentage')\n",
    "print(zero)\n",
    "print('\\noverall percentage')\n",
    "print(overall)"
   ]
  },
  {
   "cell_type": "markdown",
   "id": "42d68d53",
   "metadata": {},
   "source": [
    "### <div class=\"alert alert-info\"> Here we have already filled the missing values so the percentage of missing values is zero. By adding the percentage of missing values and zeros, we get the overall percentage as 0.5%. There is less percentage of missing values and zeros in sparse columns. So we can't remove the columns</div>"
   ]
  },
  {
   "cell_type": "markdown",
   "id": "71d70dc2",
   "metadata": {},
   "source": [
    "<a id='outlier'></a>\n",
    "# <font color=red>4. Outlier Treatment</font>"
   ]
  },
  {
   "cell_type": "code",
   "execution_count": 14,
   "id": "0abd3ea8",
   "metadata": {},
   "outputs": [
    {
     "data": {
      "image/png": "[encoded data removed]",
      "text/plain": [
       "<Figure size 800x800 with 1 Axes>"
      ]
     },
     "metadata": {},
     "output_type": "display_data"
    },
    {
     "name": "stderr",
     "output_type": "stream",
     "text": [
      "C:\\Users\\shema\\AppData\\Local\\Temp\\ipykernel_5004\\1320580665.py:5: UserWarning: \n",
      "\n",
      "`distplot` is a deprecated function and will be removed in seaborn v0.14.0.\n",
      "\n",
      "Please adapt your code to use either `displot` (a figure-level function with\n",
      "similar flexibility) or `histplot` (an axes-level function for histograms).\n",
      "\n",
      "For a guide to updating your code to use the new functions, please see\n",
      "https://gist.github.com/mwaskom/de44147ed2974457ad6372750bbe5751\n",
      "\n",
      "  sns.distplot(df['Item_MRP'], hist=True)\n"
     ]
    },
    {
     "data": {
      "text/plain": [
       "<Axes: xlabel='Item_MRP', ylabel='Density'>"
      ]
     },
     "execution_count": 14,
     "metadata": {},
     "output_type": "execute_result"
    },
    {
     "data": {
      "image/png": "[encoded data removed]",
      "text/plain": [
       "<Figure size 640x480 with 1 Axes>"
      ]
     },
     "metadata": {},
     "output_type": "display_data"
    }
   ],
   "source": [
    "# box plot\n",
    "plt.figure(figsize=(8,8))\n",
    "plt.boxplot(df['Item_MRP'])\n",
    "plt.show()\n",
    "sns.distplot(df['Item_MRP'], hist=True)"
   ]
  },
  {
   "cell_type": "code",
   "execution_count": 15,
   "id": "4f1bcfb2",
   "metadata": {},
   "outputs": [
    {
     "data": {
      "text/plain": [
       "0.1272022683110526"
      ]
     },
     "execution_count": 15,
     "metadata": {},
     "output_type": "execute_result"
    }
   ],
   "source": [
    "df['Item_MRP'].skew()"
   ]
  },
  {
   "cell_type": "markdown",
   "id": "e730040e",
   "metadata": {},
   "source": [
    "### <div class=\"alert alert-info\">No outliers are there in the given boxplot for the column 'Item_MRP'. There's no need of performing any operations</div>"
   ]
  },
  {
   "cell_type": "code",
   "execution_count": 97,
   "id": "65727f2b",
   "metadata": {
    "scrolled": false
   },
   "outputs": [
    {
     "data": {
      "image/png": "[encoded data removed]",
      "text/plain": [
       "<Figure size 800x700 with 1 Axes>"
      ]
     },
     "metadata": {},
     "output_type": "display_data"
    },
    {
     "name": "stderr",
     "output_type": "stream",
     "text": [
      "C:\\Users\\shema\\AppData\\Local\\Temp\\ipykernel_5004\\2592224019.py:4: UserWarning: \n",
      "\n",
      "`distplot` is a deprecated function and will be removed in seaborn v0.14.0.\n",
      "\n",
      "Please adapt your code to use either `displot` (a figure-level function with\n",
      "similar flexibility) or `histplot` (an axes-level function for histograms).\n",
      "\n",
      "For a guide to updating your code to use the new functions, please see\n",
      "https://gist.github.com/mwaskom/de44147ed2974457ad6372750bbe5751\n",
      "\n",
      "  sns.distplot(df['Item_Outlet_Sales'],hist=True)\n"
     ]
    },
    {
     "data": {
      "text/plain": [
       "1.1775306028542796"
      ]
     },
     "execution_count": 97,
     "metadata": {},
     "output_type": "execute_result"
    },
    {
     "data": {
      "image/png": "[encoded data removed]",
      "text/plain": [
       "<Figure size 640x480 with 1 Axes>"
      ]
     },
     "metadata": {},
     "output_type": "display_data"
    }
   ],
   "source": [
    "plt.figure(figsize=(8,7))\n",
    "plt.boxplot(df['Item_Outlet_Sales'])\n",
    "plt.show()\n",
    "sns.distplot(df['Item_Outlet_Sales'],hist=True)\n",
    "df['Item_Outlet_Sales'].skew()"
   ]
  },
  {
   "cell_type": "markdown",
   "id": "1284e6e6",
   "metadata": {},
   "source": [
    "### Here we can detect the outliers in boxplot of column 'Item_Outlet_Sales' and it is right skewed by using the skew function"
   ]
  },
  {
   "cell_type": "markdown",
   "id": "1f27cf6f",
   "metadata": {},
   "source": [
    "<a id='iqr'></a>\n",
    "## <font color=red> 4.1 Removing outliers using IQR</font>"
   ]
  },
  {
   "cell_type": "code",
   "execution_count": 18,
   "id": "a6d36c21",
   "metadata": {},
   "outputs": [
    {
     "data": {
      "text/plain": [
       "count     8523.000000\n",
       "mean      2181.288914\n",
       "std       1706.499616\n",
       "min         33.290000\n",
       "25%        834.247400\n",
       "50%       1794.331000\n",
       "75%       3101.296400\n",
       "max      13086.964800\n",
       "Name: Item_Outlet_Sales, dtype: float64"
      ]
     },
     "execution_count": 18,
     "metadata": {},
     "output_type": "execute_result"
    }
   ],
   "source": [
    "df['Item_Outlet_Sales'].describe()"
   ]
  },
  {
   "cell_type": "code",
   "execution_count": 19,
   "id": "009b5544",
   "metadata": {},
   "outputs": [],
   "source": [
    "# IQR\n",
    "percentile25 = df['Item_Outlet_Sales'].quantile(0.25)\n",
    "percentile75 = df['Item_Outlet_Sales'].quantile(0.75)"
   ]
  },
  {
   "cell_type": "markdown",
   "id": "0879c2df",
   "metadata": {},
   "source": [
    "### By using the quantile 0.25 and quantile 0.75 we get the 25% and 75% of the column 'Item_Outlet_Sales'."
   ]
  },
  {
   "cell_type": "code",
   "execution_count": 20,
   "id": "d4e64845",
   "metadata": {},
   "outputs": [
    {
     "data": {
      "text/plain": [
       "834.2474"
      ]
     },
     "execution_count": 20,
     "metadata": {},
     "output_type": "execute_result"
    }
   ],
   "source": [
    "percentile25"
   ]
  },
  {
   "cell_type": "code",
   "execution_count": 21,
   "id": "7a45c217",
   "metadata": {},
   "outputs": [
    {
     "data": {
      "text/plain": [
       "3101.2964"
      ]
     },
     "execution_count": 21,
     "metadata": {},
     "output_type": "execute_result"
    }
   ],
   "source": [
    "percentile75"
   ]
  },
  {
   "cell_type": "code",
   "execution_count": 22,
   "id": "c4e520cd",
   "metadata": {},
   "outputs": [],
   "source": [
    "iqr = percentile75 - percentile25"
   ]
  },
  {
   "cell_type": "markdown",
   "id": "9e02e3ee",
   "metadata": {},
   "source": [
    "### Here we calculate the iqr. Interquartile Range(IQR) is a measure of statistical dispersion that represents the range between the first quartile and the third quartile in a data set"
   ]
  },
  {
   "cell_type": "code",
   "execution_count": 23,
   "id": "be5aa164",
   "metadata": {},
   "outputs": [
    {
     "data": {
      "text/plain": [
       "2267.049"
      ]
     },
     "execution_count": 23,
     "metadata": {},
     "output_type": "execute_result"
    }
   ],
   "source": [
    "iqr"
   ]
  },
  {
   "cell_type": "code",
   "execution_count": 24,
   "id": "3f03300e",
   "metadata": {},
   "outputs": [],
   "source": [
    "upper_limit = percentile75 + 1.5 * iqr\n",
    "lower_limit = percentile25 - 1.5 * iqr "
   ]
  },
  {
   "cell_type": "code",
   "execution_count": 25,
   "id": "2794e184",
   "metadata": {},
   "outputs": [
    {
     "name": "stdout",
     "output_type": "stream",
     "text": [
      "Upper limit is:  6501.8699\n",
      "Lower limit is:  -2566.3261\n"
     ]
    }
   ],
   "source": [
    "print('Upper limit is: ',upper_limit)\n",
    "print('Lower limit is: ',lower_limit)"
   ]
  },
  {
   "cell_type": "markdown",
   "id": "f5c3ae62",
   "metadata": {},
   "source": [
    "### We have calculated the upper and the lower limits of the column 'Item_Outlet_Sales' by using the iqr"
   ]
  },
  {
   "cell_type": "code",
   "execution_count": 26,
   "id": "ab02e2d0",
   "metadata": {},
   "outputs": [],
   "source": [
    "# capping\n",
    "new_df = df.copy()\n",
    "new_df['Item_Outlet_Sales'] = np.where(new_df['Item_Outlet_Sales'] > upper_limit,upper_limit,\n",
    "np.where(new_df['Item_Outlet_Sales'] < lower_limit,lower_limit,\n",
    "        new_df['Item_Outlet_Sales']))"
   ]
  },
  {
   "cell_type": "markdown",
   "id": "acbc2614",
   "metadata": {},
   "source": [
    "### capping is a method where we set the maximum values of a feature to a certain value. For example, the upper and lower values for not being an outlier is 80 and 5 and there are three outliers which are 85, 3, 90. So now these three outliers will be adjusted with the upper and lower values means the outlier 85 will be adjusted to 80, outlier 3 will be adjusted to 5 and outlier 90 will be adjusted to 80."
   ]
  },
  {
   "cell_type": "markdown",
   "id": "48500b3b",
   "metadata": {},
   "source": [
    "### We can even use trimming where we can remove the outliers but in some cases when there are majority number of outliers, those outliers will be removed which means most of the data will be removed. Which is not good."
   ]
  },
  {
   "cell_type": "code",
   "execution_count": 27,
   "id": "304f188d",
   "metadata": {},
   "outputs": [
    {
     "data": {
      "text/plain": [
       "(8523, 12)"
      ]
     },
     "execution_count": 27,
     "metadata": {},
     "output_type": "execute_result"
    }
   ],
   "source": [
    "new_df.shape"
   ]
  },
  {
   "cell_type": "code",
   "execution_count": 28,
   "id": "64c793ea",
   "metadata": {},
   "outputs": [
    {
     "data": {
      "image/png": "[encoded data removed]",
      "text/plain": [
       "<Figure size 800x700 with 1 Axes>"
      ]
     },
     "metadata": {},
     "output_type": "display_data"
    }
   ],
   "source": [
    "plt.figure(figsize=(8,7))\n",
    "plt.boxplot(new_df['Item_Outlet_Sales'])\n",
    "plt.show()"
   ]
  },
  {
   "cell_type": "markdown",
   "id": "29fbdcb3",
   "metadata": {},
   "source": [
    "### <div class=\"alert alert-info\"> After using capping, we have no outliers in the box plot</div>"
   ]
  },
  {
   "cell_type": "markdown",
   "id": "a8b04e59",
   "metadata": {},
   "source": [
    "<a id='encoding'></a>\n",
    "# <font color=red> 5. Feature Encoding </font>"
   ]
  },
  {
   "cell_type": "markdown",
   "id": "f9051557",
   "metadata": {},
   "source": [
    "<a id='onehot'></a>\n",
    "## <font color=red> 5.1 One hot encoding</font>"
   ]
  },
  {
   "cell_type": "markdown",
   "id": "93a29ef8",
   "metadata": {},
   "source": [
    "### One hot encoding is used to represent categorical variables with multiple categories. For example, in the column 'Item_Fat_Content', we have three different variables like low fat, regular, etc. So, they would be divided into multiple categories."
   ]
  },
  {
   "cell_type": "code",
   "execution_count": 29,
   "id": "81ec0ae7",
   "metadata": {},
   "outputs": [
    {
     "data": {
      "text/html": [
       "<div>\n",
       "<style scoped>\n",
       "    .dataframe tbody tr th:only-of-type {\n",
       "        vertical-align: middle;\n",
       "    }\n",
       "\n",
       "    .dataframe tbody tr th {\n",
       "        vertical-align: top;\n",
       "    }\n",
       "\n",
       "    .dataframe thead th {\n",
       "        text-align: right;\n",
       "    }\n",
       "</style>\n",
       "<table border=\"1\" class=\"dataframe\">\n",
       "  <thead>\n",
       "    <tr style=\"text-align: right;\">\n",
       "      <th></th>\n",
       "      <th>Item_Identifier</th>\n",
       "      <th>Item_Weight</th>\n",
       "      <th>Item_Fat_Content_Low Fat</th>\n",
       "      <th>Item_Fat_Content_Regular</th>\n",
       "      <th>Item_Fat_Content_low fat</th>\n",
       "      <th>Item_Fat_Content_LF</th>\n",
       "      <th>Item_Fat_Content_reg</th>\n",
       "      <th>Item_Visibility</th>\n",
       "      <th>Item_Type</th>\n",
       "      <th>Item_MRP</th>\n",
       "      <th>Outlet_Identifier</th>\n",
       "      <th>Outlet_Establishment_Year</th>\n",
       "      <th>Outlet_Size</th>\n",
       "      <th>Outlet_Location_Type</th>\n",
       "      <th>Outlet_Type</th>\n",
       "      <th>Item_Outlet_Sales</th>\n",
       "    </tr>\n",
       "  </thead>\n",
       "  <tbody>\n",
       "    <tr>\n",
       "      <th>0</th>\n",
       "      <td>FDA15</td>\n",
       "      <td>9.300</td>\n",
       "      <td>1</td>\n",
       "      <td>0</td>\n",
       "      <td>0</td>\n",
       "      <td>0</td>\n",
       "      <td>0</td>\n",
       "      <td>0.016047</td>\n",
       "      <td>Dairy</td>\n",
       "      <td>249.8092</td>\n",
       "      <td>OUT049</td>\n",
       "      <td>1999</td>\n",
       "      <td>Medium</td>\n",
       "      <td>Tier 1</td>\n",
       "      <td>Supermarket Type1</td>\n",
       "      <td>3735.1380</td>\n",
       "    </tr>\n",
       "    <tr>\n",
       "      <th>1</th>\n",
       "      <td>DRC01</td>\n",
       "      <td>5.920</td>\n",
       "      <td>0</td>\n",
       "      <td>1</td>\n",
       "      <td>0</td>\n",
       "      <td>0</td>\n",
       "      <td>0</td>\n",
       "      <td>0.019278</td>\n",
       "      <td>Soft Drinks</td>\n",
       "      <td>48.2692</td>\n",
       "      <td>OUT018</td>\n",
       "      <td>2009</td>\n",
       "      <td>Medium</td>\n",
       "      <td>Tier 3</td>\n",
       "      <td>Supermarket Type2</td>\n",
       "      <td>443.4228</td>\n",
       "    </tr>\n",
       "    <tr>\n",
       "      <th>2</th>\n",
       "      <td>FDN15</td>\n",
       "      <td>17.500</td>\n",
       "      <td>1</td>\n",
       "      <td>0</td>\n",
       "      <td>0</td>\n",
       "      <td>0</td>\n",
       "      <td>0</td>\n",
       "      <td>0.016760</td>\n",
       "      <td>Meat</td>\n",
       "      <td>141.6180</td>\n",
       "      <td>OUT049</td>\n",
       "      <td>1999</td>\n",
       "      <td>Medium</td>\n",
       "      <td>Tier 1</td>\n",
       "      <td>Supermarket Type1</td>\n",
       "      <td>2097.2700</td>\n",
       "    </tr>\n",
       "    <tr>\n",
       "      <th>3</th>\n",
       "      <td>FDX07</td>\n",
       "      <td>19.200</td>\n",
       "      <td>0</td>\n",
       "      <td>1</td>\n",
       "      <td>0</td>\n",
       "      <td>0</td>\n",
       "      <td>0</td>\n",
       "      <td>0.000000</td>\n",
       "      <td>Fruits and Vegetables</td>\n",
       "      <td>182.0950</td>\n",
       "      <td>OUT010</td>\n",
       "      <td>1998</td>\n",
       "      <td>Medium</td>\n",
       "      <td>Tier 3</td>\n",
       "      <td>Grocery Store</td>\n",
       "      <td>732.3800</td>\n",
       "    </tr>\n",
       "    <tr>\n",
       "      <th>4</th>\n",
       "      <td>NCD19</td>\n",
       "      <td>8.930</td>\n",
       "      <td>1</td>\n",
       "      <td>0</td>\n",
       "      <td>0</td>\n",
       "      <td>0</td>\n",
       "      <td>0</td>\n",
       "      <td>0.000000</td>\n",
       "      <td>Household</td>\n",
       "      <td>53.8614</td>\n",
       "      <td>OUT013</td>\n",
       "      <td>1987</td>\n",
       "      <td>High</td>\n",
       "      <td>Tier 3</td>\n",
       "      <td>Supermarket Type1</td>\n",
       "      <td>994.7052</td>\n",
       "    </tr>\n",
       "    <tr>\n",
       "      <th>...</th>\n",
       "      <td>...</td>\n",
       "      <td>...</td>\n",
       "      <td>...</td>\n",
       "      <td>...</td>\n",
       "      <td>...</td>\n",
       "      <td>...</td>\n",
       "      <td>...</td>\n",
       "      <td>...</td>\n",
       "      <td>...</td>\n",
       "      <td>...</td>\n",
       "      <td>...</td>\n",
       "      <td>...</td>\n",
       "      <td>...</td>\n",
       "      <td>...</td>\n",
       "      <td>...</td>\n",
       "      <td>...</td>\n",
       "    </tr>\n",
       "    <tr>\n",
       "      <th>8518</th>\n",
       "      <td>FDF22</td>\n",
       "      <td>6.865</td>\n",
       "      <td>1</td>\n",
       "      <td>0</td>\n",
       "      <td>0</td>\n",
       "      <td>0</td>\n",
       "      <td>0</td>\n",
       "      <td>0.056783</td>\n",
       "      <td>Snack Foods</td>\n",
       "      <td>214.5218</td>\n",
       "      <td>OUT013</td>\n",
       "      <td>1987</td>\n",
       "      <td>High</td>\n",
       "      <td>Tier 3</td>\n",
       "      <td>Supermarket Type1</td>\n",
       "      <td>2778.3834</td>\n",
       "    </tr>\n",
       "    <tr>\n",
       "      <th>8519</th>\n",
       "      <td>FDS36</td>\n",
       "      <td>8.380</td>\n",
       "      <td>0</td>\n",
       "      <td>1</td>\n",
       "      <td>0</td>\n",
       "      <td>0</td>\n",
       "      <td>0</td>\n",
       "      <td>0.046982</td>\n",
       "      <td>Baking Goods</td>\n",
       "      <td>108.1570</td>\n",
       "      <td>OUT045</td>\n",
       "      <td>2002</td>\n",
       "      <td>Medium</td>\n",
       "      <td>Tier 2</td>\n",
       "      <td>Supermarket Type1</td>\n",
       "      <td>549.2850</td>\n",
       "    </tr>\n",
       "    <tr>\n",
       "      <th>8520</th>\n",
       "      <td>NCJ29</td>\n",
       "      <td>10.600</td>\n",
       "      <td>1</td>\n",
       "      <td>0</td>\n",
       "      <td>0</td>\n",
       "      <td>0</td>\n",
       "      <td>0</td>\n",
       "      <td>0.035186</td>\n",
       "      <td>Health and Hygiene</td>\n",
       "      <td>85.1224</td>\n",
       "      <td>OUT035</td>\n",
       "      <td>2004</td>\n",
       "      <td>Small</td>\n",
       "      <td>Tier 2</td>\n",
       "      <td>Supermarket Type1</td>\n",
       "      <td>1193.1136</td>\n",
       "    </tr>\n",
       "    <tr>\n",
       "      <th>8521</th>\n",
       "      <td>FDN46</td>\n",
       "      <td>7.210</td>\n",
       "      <td>0</td>\n",
       "      <td>1</td>\n",
       "      <td>0</td>\n",
       "      <td>0</td>\n",
       "      <td>0</td>\n",
       "      <td>0.145221</td>\n",
       "      <td>Snack Foods</td>\n",
       "      <td>103.1332</td>\n",
       "      <td>OUT018</td>\n",
       "      <td>2009</td>\n",
       "      <td>Medium</td>\n",
       "      <td>Tier 3</td>\n",
       "      <td>Supermarket Type2</td>\n",
       "      <td>1845.5976</td>\n",
       "    </tr>\n",
       "    <tr>\n",
       "      <th>8522</th>\n",
       "      <td>DRG01</td>\n",
       "      <td>14.800</td>\n",
       "      <td>1</td>\n",
       "      <td>0</td>\n",
       "      <td>0</td>\n",
       "      <td>0</td>\n",
       "      <td>0</td>\n",
       "      <td>0.044878</td>\n",
       "      <td>Soft Drinks</td>\n",
       "      <td>75.4670</td>\n",
       "      <td>OUT046</td>\n",
       "      <td>1997</td>\n",
       "      <td>Small</td>\n",
       "      <td>Tier 1</td>\n",
       "      <td>Supermarket Type1</td>\n",
       "      <td>765.6700</td>\n",
       "    </tr>\n",
       "  </tbody>\n",
       "</table>\n",
       "<p>8523 rows × 16 columns</p>\n",
       "</div>"
      ],
      "text/plain": [
       "     Item_Identifier  Item_Weight  Item_Fat_Content_Low Fat  \\\n",
       "0              FDA15        9.300                         1   \n",
       "1              DRC01        5.920                         0   \n",
       "2              FDN15       17.500                         1   \n",
       "3              FDX07       19.200                         0   \n",
       "4              NCD19        8.930                         1   \n",
       "...              ...          ...                       ...   \n",
       "8518           FDF22        6.865                         1   \n",
       "8519           FDS36        8.380                         0   \n",
       "8520           NCJ29       10.600                         1   \n",
       "8521           FDN46        7.210                         0   \n",
       "8522           DRG01       14.800                         1   \n",
       "\n",
       "      Item_Fat_Content_Regular  Item_Fat_Content_low fat  Item_Fat_Content_LF  \\\n",
       "0                            0                         0                    0   \n",
       "1                            1                         0                    0   \n",
       "2                            0                         0                    0   \n",
       "3                            1                         0                    0   \n",
       "4                            0                         0                    0   \n",
       "...                        ...                       ...                  ...   \n",
       "8518                         0                         0                    0   \n",
       "8519                         1                         0                    0   \n",
       "8520                         0                         0                    0   \n",
       "8521                         1                         0                    0   \n",
       "8522                         0                         0                    0   \n",
       "\n",
       "      Item_Fat_Content_reg  Item_Visibility              Item_Type  Item_MRP  \\\n",
       "0                        0         0.016047                  Dairy  249.8092   \n",
       "1                        0         0.019278            Soft Drinks   48.2692   \n",
       "2                        0         0.016760                   Meat  141.6180   \n",
       "3                        0         0.000000  Fruits and Vegetables  182.0950   \n",
       "4                        0         0.000000              Household   53.8614   \n",
       "...                    ...              ...                    ...       ...   \n",
       "8518                     0         0.056783            Snack Foods  214.5218   \n",
       "8519                     0         0.046982           Baking Goods  108.1570   \n",
       "8520                     0         0.035186     Health and Hygiene   85.1224   \n",
       "8521                     0         0.145221            Snack Foods  103.1332   \n",
       "8522                     0         0.044878            Soft Drinks   75.4670   \n",
       "\n",
       "     Outlet_Identifier  Outlet_Establishment_Year Outlet_Size  \\\n",
       "0               OUT049                       1999      Medium   \n",
       "1               OUT018                       2009      Medium   \n",
       "2               OUT049                       1999      Medium   \n",
       "3               OUT010                       1998      Medium   \n",
       "4               OUT013                       1987        High   \n",
       "...                ...                        ...         ...   \n",
       "8518            OUT013                       1987        High   \n",
       "8519            OUT045                       2002      Medium   \n",
       "8520            OUT035                       2004       Small   \n",
       "8521            OUT018                       2009      Medium   \n",
       "8522            OUT046                       1997       Small   \n",
       "\n",
       "     Outlet_Location_Type        Outlet_Type  Item_Outlet_Sales  \n",
       "0                  Tier 1  Supermarket Type1          3735.1380  \n",
       "1                  Tier 3  Supermarket Type2           443.4228  \n",
       "2                  Tier 1  Supermarket Type1          2097.2700  \n",
       "3                  Tier 3      Grocery Store           732.3800  \n",
       "4                  Tier 3  Supermarket Type1           994.7052  \n",
       "...                   ...                ...                ...  \n",
       "8518               Tier 3  Supermarket Type1          2778.3834  \n",
       "8519               Tier 2  Supermarket Type1           549.2850  \n",
       "8520               Tier 2  Supermarket Type1          1193.1136  \n",
       "8521               Tier 3  Supermarket Type2          1845.5976  \n",
       "8522               Tier 1  Supermarket Type1           765.6700  \n",
       "\n",
       "[8523 rows x 16 columns]"
      ]
     },
     "execution_count": 29,
     "metadata": {},
     "output_type": "execute_result"
    }
   ],
   "source": [
    "# one hot encoding\n",
    "encoder = ce.OneHotEncoder(cols=['Item_Fat_Content'],use_cat_names=True)\n",
    "data_encoded = encoder.fit_transform(df)\n",
    "data_encoded"
   ]
  },
  {
   "cell_type": "code",
   "execution_count": 30,
   "id": "a903880f",
   "metadata": {},
   "outputs": [
    {
     "data": {
      "text/html": [
       "<div>\n",
       "<style scoped>\n",
       "    .dataframe tbody tr th:only-of-type {\n",
       "        vertical-align: middle;\n",
       "    }\n",
       "\n",
       "    .dataframe tbody tr th {\n",
       "        vertical-align: top;\n",
       "    }\n",
       "\n",
       "    .dataframe thead th {\n",
       "        text-align: right;\n",
       "    }\n",
       "</style>\n",
       "<table border=\"1\" class=\"dataframe\">\n",
       "  <thead>\n",
       "    <tr style=\"text-align: right;\">\n",
       "      <th></th>\n",
       "      <th>Item_Identifier</th>\n",
       "      <th>Item_Weight</th>\n",
       "      <th>Item_Fat_Content</th>\n",
       "      <th>Item_Visibility</th>\n",
       "      <th>Item_Type_Dairy</th>\n",
       "      <th>Item_Type_Soft Drinks</th>\n",
       "      <th>Item_Type_Meat</th>\n",
       "      <th>Item_Type_Fruits and Vegetables</th>\n",
       "      <th>Item_Type_Household</th>\n",
       "      <th>Item_Type_Baking Goods</th>\n",
       "      <th>...</th>\n",
       "      <th>Item_Type_Starchy Foods</th>\n",
       "      <th>Item_Type_Others</th>\n",
       "      <th>Item_Type_Seafood</th>\n",
       "      <th>Item_MRP</th>\n",
       "      <th>Outlet_Identifier</th>\n",
       "      <th>Outlet_Establishment_Year</th>\n",
       "      <th>Outlet_Size</th>\n",
       "      <th>Outlet_Location_Type</th>\n",
       "      <th>Outlet_Type</th>\n",
       "      <th>Item_Outlet_Sales</th>\n",
       "    </tr>\n",
       "  </thead>\n",
       "  <tbody>\n",
       "    <tr>\n",
       "      <th>0</th>\n",
       "      <td>FDA15</td>\n",
       "      <td>9.300</td>\n",
       "      <td>Low Fat</td>\n",
       "      <td>0.016047</td>\n",
       "      <td>1</td>\n",
       "      <td>0</td>\n",
       "      <td>0</td>\n",
       "      <td>0</td>\n",
       "      <td>0</td>\n",
       "      <td>0</td>\n",
       "      <td>...</td>\n",
       "      <td>0</td>\n",
       "      <td>0</td>\n",
       "      <td>0</td>\n",
       "      <td>249.8092</td>\n",
       "      <td>OUT049</td>\n",
       "      <td>1999</td>\n",
       "      <td>Medium</td>\n",
       "      <td>Tier 1</td>\n",
       "      <td>Supermarket Type1</td>\n",
       "      <td>3735.1380</td>\n",
       "    </tr>\n",
       "    <tr>\n",
       "      <th>1</th>\n",
       "      <td>DRC01</td>\n",
       "      <td>5.920</td>\n",
       "      <td>Regular</td>\n",
       "      <td>0.019278</td>\n",
       "      <td>0</td>\n",
       "      <td>1</td>\n",
       "      <td>0</td>\n",
       "      <td>0</td>\n",
       "      <td>0</td>\n",
       "      <td>0</td>\n",
       "      <td>...</td>\n",
       "      <td>0</td>\n",
       "      <td>0</td>\n",
       "      <td>0</td>\n",
       "      <td>48.2692</td>\n",
       "      <td>OUT018</td>\n",
       "      <td>2009</td>\n",
       "      <td>Medium</td>\n",
       "      <td>Tier 3</td>\n",
       "      <td>Supermarket Type2</td>\n",
       "      <td>443.4228</td>\n",
       "    </tr>\n",
       "    <tr>\n",
       "      <th>2</th>\n",
       "      <td>FDN15</td>\n",
       "      <td>17.500</td>\n",
       "      <td>Low Fat</td>\n",
       "      <td>0.016760</td>\n",
       "      <td>0</td>\n",
       "      <td>0</td>\n",
       "      <td>1</td>\n",
       "      <td>0</td>\n",
       "      <td>0</td>\n",
       "      <td>0</td>\n",
       "      <td>...</td>\n",
       "      <td>0</td>\n",
       "      <td>0</td>\n",
       "      <td>0</td>\n",
       "      <td>141.6180</td>\n",
       "      <td>OUT049</td>\n",
       "      <td>1999</td>\n",
       "      <td>Medium</td>\n",
       "      <td>Tier 1</td>\n",
       "      <td>Supermarket Type1</td>\n",
       "      <td>2097.2700</td>\n",
       "    </tr>\n",
       "    <tr>\n",
       "      <th>3</th>\n",
       "      <td>FDX07</td>\n",
       "      <td>19.200</td>\n",
       "      <td>Regular</td>\n",
       "      <td>0.000000</td>\n",
       "      <td>0</td>\n",
       "      <td>0</td>\n",
       "      <td>0</td>\n",
       "      <td>1</td>\n",
       "      <td>0</td>\n",
       "      <td>0</td>\n",
       "      <td>...</td>\n",
       "      <td>0</td>\n",
       "      <td>0</td>\n",
       "      <td>0</td>\n",
       "      <td>182.0950</td>\n",
       "      <td>OUT010</td>\n",
       "      <td>1998</td>\n",
       "      <td>Medium</td>\n",
       "      <td>Tier 3</td>\n",
       "      <td>Grocery Store</td>\n",
       "      <td>732.3800</td>\n",
       "    </tr>\n",
       "    <tr>\n",
       "      <th>4</th>\n",
       "      <td>NCD19</td>\n",
       "      <td>8.930</td>\n",
       "      <td>Low Fat</td>\n",
       "      <td>0.000000</td>\n",
       "      <td>0</td>\n",
       "      <td>0</td>\n",
       "      <td>0</td>\n",
       "      <td>0</td>\n",
       "      <td>1</td>\n",
       "      <td>0</td>\n",
       "      <td>...</td>\n",
       "      <td>0</td>\n",
       "      <td>0</td>\n",
       "      <td>0</td>\n",
       "      <td>53.8614</td>\n",
       "      <td>OUT013</td>\n",
       "      <td>1987</td>\n",
       "      <td>High</td>\n",
       "      <td>Tier 3</td>\n",
       "      <td>Supermarket Type1</td>\n",
       "      <td>994.7052</td>\n",
       "    </tr>\n",
       "    <tr>\n",
       "      <th>...</th>\n",
       "      <td>...</td>\n",
       "      <td>...</td>\n",
       "      <td>...</td>\n",
       "      <td>...</td>\n",
       "      <td>...</td>\n",
       "      <td>...</td>\n",
       "      <td>...</td>\n",
       "      <td>...</td>\n",
       "      <td>...</td>\n",
       "      <td>...</td>\n",
       "      <td>...</td>\n",
       "      <td>...</td>\n",
       "      <td>...</td>\n",
       "      <td>...</td>\n",
       "      <td>...</td>\n",
       "      <td>...</td>\n",
       "      <td>...</td>\n",
       "      <td>...</td>\n",
       "      <td>...</td>\n",
       "      <td>...</td>\n",
       "      <td>...</td>\n",
       "    </tr>\n",
       "    <tr>\n",
       "      <th>8518</th>\n",
       "      <td>FDF22</td>\n",
       "      <td>6.865</td>\n",
       "      <td>Low Fat</td>\n",
       "      <td>0.056783</td>\n",
       "      <td>0</td>\n",
       "      <td>0</td>\n",
       "      <td>0</td>\n",
       "      <td>0</td>\n",
       "      <td>0</td>\n",
       "      <td>0</td>\n",
       "      <td>...</td>\n",
       "      <td>0</td>\n",
       "      <td>0</td>\n",
       "      <td>0</td>\n",
       "      <td>214.5218</td>\n",
       "      <td>OUT013</td>\n",
       "      <td>1987</td>\n",
       "      <td>High</td>\n",
       "      <td>Tier 3</td>\n",
       "      <td>Supermarket Type1</td>\n",
       "      <td>2778.3834</td>\n",
       "    </tr>\n",
       "    <tr>\n",
       "      <th>8519</th>\n",
       "      <td>FDS36</td>\n",
       "      <td>8.380</td>\n",
       "      <td>Regular</td>\n",
       "      <td>0.046982</td>\n",
       "      <td>0</td>\n",
       "      <td>0</td>\n",
       "      <td>0</td>\n",
       "      <td>0</td>\n",
       "      <td>0</td>\n",
       "      <td>1</td>\n",
       "      <td>...</td>\n",
       "      <td>0</td>\n",
       "      <td>0</td>\n",
       "      <td>0</td>\n",
       "      <td>108.1570</td>\n",
       "      <td>OUT045</td>\n",
       "      <td>2002</td>\n",
       "      <td>Medium</td>\n",
       "      <td>Tier 2</td>\n",
       "      <td>Supermarket Type1</td>\n",
       "      <td>549.2850</td>\n",
       "    </tr>\n",
       "    <tr>\n",
       "      <th>8520</th>\n",
       "      <td>NCJ29</td>\n",
       "      <td>10.600</td>\n",
       "      <td>Low Fat</td>\n",
       "      <td>0.035186</td>\n",
       "      <td>0</td>\n",
       "      <td>0</td>\n",
       "      <td>0</td>\n",
       "      <td>0</td>\n",
       "      <td>0</td>\n",
       "      <td>0</td>\n",
       "      <td>...</td>\n",
       "      <td>0</td>\n",
       "      <td>0</td>\n",
       "      <td>0</td>\n",
       "      <td>85.1224</td>\n",
       "      <td>OUT035</td>\n",
       "      <td>2004</td>\n",
       "      <td>Small</td>\n",
       "      <td>Tier 2</td>\n",
       "      <td>Supermarket Type1</td>\n",
       "      <td>1193.1136</td>\n",
       "    </tr>\n",
       "    <tr>\n",
       "      <th>8521</th>\n",
       "      <td>FDN46</td>\n",
       "      <td>7.210</td>\n",
       "      <td>Regular</td>\n",
       "      <td>0.145221</td>\n",
       "      <td>0</td>\n",
       "      <td>0</td>\n",
       "      <td>0</td>\n",
       "      <td>0</td>\n",
       "      <td>0</td>\n",
       "      <td>0</td>\n",
       "      <td>...</td>\n",
       "      <td>0</td>\n",
       "      <td>0</td>\n",
       "      <td>0</td>\n",
       "      <td>103.1332</td>\n",
       "      <td>OUT018</td>\n",
       "      <td>2009</td>\n",
       "      <td>Medium</td>\n",
       "      <td>Tier 3</td>\n",
       "      <td>Supermarket Type2</td>\n",
       "      <td>1845.5976</td>\n",
       "    </tr>\n",
       "    <tr>\n",
       "      <th>8522</th>\n",
       "      <td>DRG01</td>\n",
       "      <td>14.800</td>\n",
       "      <td>Low Fat</td>\n",
       "      <td>0.044878</td>\n",
       "      <td>0</td>\n",
       "      <td>1</td>\n",
       "      <td>0</td>\n",
       "      <td>0</td>\n",
       "      <td>0</td>\n",
       "      <td>0</td>\n",
       "      <td>...</td>\n",
       "      <td>0</td>\n",
       "      <td>0</td>\n",
       "      <td>0</td>\n",
       "      <td>75.4670</td>\n",
       "      <td>OUT046</td>\n",
       "      <td>1997</td>\n",
       "      <td>Small</td>\n",
       "      <td>Tier 1</td>\n",
       "      <td>Supermarket Type1</td>\n",
       "      <td>765.6700</td>\n",
       "    </tr>\n",
       "  </tbody>\n",
       "</table>\n",
       "<p>8523 rows × 27 columns</p>\n",
       "</div>"
      ],
      "text/plain": [
       "     Item_Identifier  Item_Weight Item_Fat_Content  Item_Visibility  \\\n",
       "0              FDA15        9.300          Low Fat         0.016047   \n",
       "1              DRC01        5.920          Regular         0.019278   \n",
       "2              FDN15       17.500          Low Fat         0.016760   \n",
       "3              FDX07       19.200          Regular         0.000000   \n",
       "4              NCD19        8.930          Low Fat         0.000000   \n",
       "...              ...          ...              ...              ...   \n",
       "8518           FDF22        6.865          Low Fat         0.056783   \n",
       "8519           FDS36        8.380          Regular         0.046982   \n",
       "8520           NCJ29       10.600          Low Fat         0.035186   \n",
       "8521           FDN46        7.210          Regular         0.145221   \n",
       "8522           DRG01       14.800          Low Fat         0.044878   \n",
       "\n",
       "      Item_Type_Dairy  Item_Type_Soft Drinks  Item_Type_Meat  \\\n",
       "0                   1                      0               0   \n",
       "1                   0                      1               0   \n",
       "2                   0                      0               1   \n",
       "3                   0                      0               0   \n",
       "4                   0                      0               0   \n",
       "...               ...                    ...             ...   \n",
       "8518                0                      0               0   \n",
       "8519                0                      0               0   \n",
       "8520                0                      0               0   \n",
       "8521                0                      0               0   \n",
       "8522                0                      1               0   \n",
       "\n",
       "      Item_Type_Fruits and Vegetables  Item_Type_Household  \\\n",
       "0                                   0                    0   \n",
       "1                                   0                    0   \n",
       "2                                   0                    0   \n",
       "3                                   1                    0   \n",
       "4                                   0                    1   \n",
       "...                               ...                  ...   \n",
       "8518                                0                    0   \n",
       "8519                                0                    0   \n",
       "8520                                0                    0   \n",
       "8521                                0                    0   \n",
       "8522                                0                    0   \n",
       "\n",
       "      Item_Type_Baking Goods  ...  Item_Type_Starchy Foods  Item_Type_Others  \\\n",
       "0                          0  ...                        0                 0   \n",
       "1                          0  ...                        0                 0   \n",
       "2                          0  ...                        0                 0   \n",
       "3                          0  ...                        0                 0   \n",
       "4                          0  ...                        0                 0   \n",
       "...                      ...  ...                      ...               ...   \n",
       "8518                       0  ...                        0                 0   \n",
       "8519                       1  ...                        0                 0   \n",
       "8520                       0  ...                        0                 0   \n",
       "8521                       0  ...                        0                 0   \n",
       "8522                       0  ...                        0                 0   \n",
       "\n",
       "      Item_Type_Seafood  Item_MRP  Outlet_Identifier  \\\n",
       "0                     0  249.8092             OUT049   \n",
       "1                     0   48.2692             OUT018   \n",
       "2                     0  141.6180             OUT049   \n",
       "3                     0  182.0950             OUT010   \n",
       "4                     0   53.8614             OUT013   \n",
       "...                 ...       ...                ...   \n",
       "8518                  0  214.5218             OUT013   \n",
       "8519                  0  108.1570             OUT045   \n",
       "8520                  0   85.1224             OUT035   \n",
       "8521                  0  103.1332             OUT018   \n",
       "8522                  0   75.4670             OUT046   \n",
       "\n",
       "      Outlet_Establishment_Year  Outlet_Size  Outlet_Location_Type  \\\n",
       "0                          1999       Medium                Tier 1   \n",
       "1                          2009       Medium                Tier 3   \n",
       "2                          1999       Medium                Tier 1   \n",
       "3                          1998       Medium                Tier 3   \n",
       "4                          1987         High                Tier 3   \n",
       "...                         ...          ...                   ...   \n",
       "8518                       1987         High                Tier 3   \n",
       "8519                       2002       Medium                Tier 2   \n",
       "8520                       2004        Small                Tier 2   \n",
       "8521                       2009       Medium                Tier 3   \n",
       "8522                       1997        Small                Tier 1   \n",
       "\n",
       "            Outlet_Type  Item_Outlet_Sales  \n",
       "0     Supermarket Type1          3735.1380  \n",
       "1     Supermarket Type2           443.4228  \n",
       "2     Supermarket Type1          2097.2700  \n",
       "3         Grocery Store           732.3800  \n",
       "4     Supermarket Type1           994.7052  \n",
       "...                 ...                ...  \n",
       "8518  Supermarket Type1          2778.3834  \n",
       "8519  Supermarket Type1           549.2850  \n",
       "8520  Supermarket Type1          1193.1136  \n",
       "8521  Supermarket Type2          1845.5976  \n",
       "8522  Supermarket Type1           765.6700  \n",
       "\n",
       "[8523 rows x 27 columns]"
      ]
     },
     "execution_count": 30,
     "metadata": {},
     "output_type": "execute_result"
    }
   ],
   "source": [
    "# one hot encoding\n",
    "encoder = ce.OneHotEncoder(cols=['Item_Type'],use_cat_names=True)\n",
    "data_encoded = encoder.fit_transform(df)\n",
    "data_encoded"
   ]
  },
  {
   "cell_type": "markdown",
   "id": "e574a576",
   "metadata": {},
   "source": [
    "<a id='label'></a>\n",
    "## <font color=red> 5.2 Label encoding </font>"
   ]
  },
  {
   "cell_type": "markdown",
   "id": "63f7db53",
   "metadata": {},
   "source": [
    "### Label encoding is a technique that converts categorical variables into numerical format. For example, the column 'Item_Type', there are different types like Meat, Fruits and Vegetables, Household and etc. So, numeric value will be assigned to each of the variables."
   ]
  },
  {
   "cell_type": "code",
   "execution_count": 31,
   "id": "e3c5cb0b",
   "metadata": {},
   "outputs": [
    {
     "data": {
      "text/html": [
       "<div>\n",
       "<style scoped>\n",
       "    .dataframe tbody tr th:only-of-type {\n",
       "        vertical-align: middle;\n",
       "    }\n",
       "\n",
       "    .dataframe tbody tr th {\n",
       "        vertical-align: top;\n",
       "    }\n",
       "\n",
       "    .dataframe thead th {\n",
       "        text-align: right;\n",
       "    }\n",
       "</style>\n",
       "<table border=\"1\" class=\"dataframe\">\n",
       "  <thead>\n",
       "    <tr style=\"text-align: right;\">\n",
       "      <th></th>\n",
       "      <th>Item_Identifier</th>\n",
       "      <th>Item_Weight</th>\n",
       "      <th>Item_Fat_Content</th>\n",
       "      <th>Item_Visibility</th>\n",
       "      <th>Item_Type</th>\n",
       "      <th>Item_MRP</th>\n",
       "      <th>Outlet_Identifier</th>\n",
       "      <th>Outlet_Establishment_Year</th>\n",
       "      <th>Outlet_Size</th>\n",
       "      <th>Outlet_Location_Type</th>\n",
       "      <th>Outlet_Type</th>\n",
       "      <th>Item_Outlet_Sales</th>\n",
       "      <th>encoded</th>\n",
       "    </tr>\n",
       "  </thead>\n",
       "  <tbody>\n",
       "    <tr>\n",
       "      <th>0</th>\n",
       "      <td>FDA15</td>\n",
       "      <td>9.300</td>\n",
       "      <td>Low Fat</td>\n",
       "      <td>0.016047</td>\n",
       "      <td>Dairy</td>\n",
       "      <td>249.8092</td>\n",
       "      <td>OUT049</td>\n",
       "      <td>1999</td>\n",
       "      <td>Medium</td>\n",
       "      <td>Tier 1</td>\n",
       "      <td>Supermarket Type1</td>\n",
       "      <td>3735.1380</td>\n",
       "      <td>1</td>\n",
       "    </tr>\n",
       "    <tr>\n",
       "      <th>1</th>\n",
       "      <td>DRC01</td>\n",
       "      <td>5.920</td>\n",
       "      <td>Regular</td>\n",
       "      <td>0.019278</td>\n",
       "      <td>Soft Drinks</td>\n",
       "      <td>48.2692</td>\n",
       "      <td>OUT018</td>\n",
       "      <td>2009</td>\n",
       "      <td>Medium</td>\n",
       "      <td>Tier 3</td>\n",
       "      <td>Supermarket Type2</td>\n",
       "      <td>443.4228</td>\n",
       "      <td>2</td>\n",
       "    </tr>\n",
       "    <tr>\n",
       "      <th>2</th>\n",
       "      <td>FDN15</td>\n",
       "      <td>17.500</td>\n",
       "      <td>Low Fat</td>\n",
       "      <td>0.016760</td>\n",
       "      <td>Meat</td>\n",
       "      <td>141.6180</td>\n",
       "      <td>OUT049</td>\n",
       "      <td>1999</td>\n",
       "      <td>Medium</td>\n",
       "      <td>Tier 1</td>\n",
       "      <td>Supermarket Type1</td>\n",
       "      <td>2097.2700</td>\n",
       "      <td>1</td>\n",
       "    </tr>\n",
       "    <tr>\n",
       "      <th>3</th>\n",
       "      <td>FDX07</td>\n",
       "      <td>19.200</td>\n",
       "      <td>Regular</td>\n",
       "      <td>0.000000</td>\n",
       "      <td>Fruits and Vegetables</td>\n",
       "      <td>182.0950</td>\n",
       "      <td>OUT010</td>\n",
       "      <td>1998</td>\n",
       "      <td>Medium</td>\n",
       "      <td>Tier 3</td>\n",
       "      <td>Grocery Store</td>\n",
       "      <td>732.3800</td>\n",
       "      <td>2</td>\n",
       "    </tr>\n",
       "    <tr>\n",
       "      <th>4</th>\n",
       "      <td>NCD19</td>\n",
       "      <td>8.930</td>\n",
       "      <td>Low Fat</td>\n",
       "      <td>0.000000</td>\n",
       "      <td>Household</td>\n",
       "      <td>53.8614</td>\n",
       "      <td>OUT013</td>\n",
       "      <td>1987</td>\n",
       "      <td>High</td>\n",
       "      <td>Tier 3</td>\n",
       "      <td>Supermarket Type1</td>\n",
       "      <td>994.7052</td>\n",
       "      <td>1</td>\n",
       "    </tr>\n",
       "    <tr>\n",
       "      <th>...</th>\n",
       "      <td>...</td>\n",
       "      <td>...</td>\n",
       "      <td>...</td>\n",
       "      <td>...</td>\n",
       "      <td>...</td>\n",
       "      <td>...</td>\n",
       "      <td>...</td>\n",
       "      <td>...</td>\n",
       "      <td>...</td>\n",
       "      <td>...</td>\n",
       "      <td>...</td>\n",
       "      <td>...</td>\n",
       "      <td>...</td>\n",
       "    </tr>\n",
       "    <tr>\n",
       "      <th>8518</th>\n",
       "      <td>FDF22</td>\n",
       "      <td>6.865</td>\n",
       "      <td>Low Fat</td>\n",
       "      <td>0.056783</td>\n",
       "      <td>Snack Foods</td>\n",
       "      <td>214.5218</td>\n",
       "      <td>OUT013</td>\n",
       "      <td>1987</td>\n",
       "      <td>High</td>\n",
       "      <td>Tier 3</td>\n",
       "      <td>Supermarket Type1</td>\n",
       "      <td>2778.3834</td>\n",
       "      <td>1</td>\n",
       "    </tr>\n",
       "    <tr>\n",
       "      <th>8519</th>\n",
       "      <td>FDS36</td>\n",
       "      <td>8.380</td>\n",
       "      <td>Regular</td>\n",
       "      <td>0.046982</td>\n",
       "      <td>Baking Goods</td>\n",
       "      <td>108.1570</td>\n",
       "      <td>OUT045</td>\n",
       "      <td>2002</td>\n",
       "      <td>Medium</td>\n",
       "      <td>Tier 2</td>\n",
       "      <td>Supermarket Type1</td>\n",
       "      <td>549.2850</td>\n",
       "      <td>2</td>\n",
       "    </tr>\n",
       "    <tr>\n",
       "      <th>8520</th>\n",
       "      <td>NCJ29</td>\n",
       "      <td>10.600</td>\n",
       "      <td>Low Fat</td>\n",
       "      <td>0.035186</td>\n",
       "      <td>Health and Hygiene</td>\n",
       "      <td>85.1224</td>\n",
       "      <td>OUT035</td>\n",
       "      <td>2004</td>\n",
       "      <td>Small</td>\n",
       "      <td>Tier 2</td>\n",
       "      <td>Supermarket Type1</td>\n",
       "      <td>1193.1136</td>\n",
       "      <td>1</td>\n",
       "    </tr>\n",
       "    <tr>\n",
       "      <th>8521</th>\n",
       "      <td>FDN46</td>\n",
       "      <td>7.210</td>\n",
       "      <td>Regular</td>\n",
       "      <td>0.145221</td>\n",
       "      <td>Snack Foods</td>\n",
       "      <td>103.1332</td>\n",
       "      <td>OUT018</td>\n",
       "      <td>2009</td>\n",
       "      <td>Medium</td>\n",
       "      <td>Tier 3</td>\n",
       "      <td>Supermarket Type2</td>\n",
       "      <td>1845.5976</td>\n",
       "      <td>2</td>\n",
       "    </tr>\n",
       "    <tr>\n",
       "      <th>8522</th>\n",
       "      <td>DRG01</td>\n",
       "      <td>14.800</td>\n",
       "      <td>Low Fat</td>\n",
       "      <td>0.044878</td>\n",
       "      <td>Soft Drinks</td>\n",
       "      <td>75.4670</td>\n",
       "      <td>OUT046</td>\n",
       "      <td>1997</td>\n",
       "      <td>Small</td>\n",
       "      <td>Tier 1</td>\n",
       "      <td>Supermarket Type1</td>\n",
       "      <td>765.6700</td>\n",
       "      <td>1</td>\n",
       "    </tr>\n",
       "  </tbody>\n",
       "</table>\n",
       "<p>8523 rows × 13 columns</p>\n",
       "</div>"
      ],
      "text/plain": [
       "     Item_Identifier  Item_Weight Item_Fat_Content  Item_Visibility  \\\n",
       "0              FDA15        9.300          Low Fat         0.016047   \n",
       "1              DRC01        5.920          Regular         0.019278   \n",
       "2              FDN15       17.500          Low Fat         0.016760   \n",
       "3              FDX07       19.200          Regular         0.000000   \n",
       "4              NCD19        8.930          Low Fat         0.000000   \n",
       "...              ...          ...              ...              ...   \n",
       "8518           FDF22        6.865          Low Fat         0.056783   \n",
       "8519           FDS36        8.380          Regular         0.046982   \n",
       "8520           NCJ29       10.600          Low Fat         0.035186   \n",
       "8521           FDN46        7.210          Regular         0.145221   \n",
       "8522           DRG01       14.800          Low Fat         0.044878   \n",
       "\n",
       "                  Item_Type  Item_MRP Outlet_Identifier  \\\n",
       "0                     Dairy  249.8092            OUT049   \n",
       "1               Soft Drinks   48.2692            OUT018   \n",
       "2                      Meat  141.6180            OUT049   \n",
       "3     Fruits and Vegetables  182.0950            OUT010   \n",
       "4                 Household   53.8614            OUT013   \n",
       "...                     ...       ...               ...   \n",
       "8518            Snack Foods  214.5218            OUT013   \n",
       "8519           Baking Goods  108.1570            OUT045   \n",
       "8520     Health and Hygiene   85.1224            OUT035   \n",
       "8521            Snack Foods  103.1332            OUT018   \n",
       "8522            Soft Drinks   75.4670            OUT046   \n",
       "\n",
       "      Outlet_Establishment_Year Outlet_Size Outlet_Location_Type  \\\n",
       "0                          1999      Medium               Tier 1   \n",
       "1                          2009      Medium               Tier 3   \n",
       "2                          1999      Medium               Tier 1   \n",
       "3                          1998      Medium               Tier 3   \n",
       "4                          1987        High               Tier 3   \n",
       "...                         ...         ...                  ...   \n",
       "8518                       1987        High               Tier 3   \n",
       "8519                       2002      Medium               Tier 2   \n",
       "8520                       2004       Small               Tier 2   \n",
       "8521                       2009      Medium               Tier 3   \n",
       "8522                       1997       Small               Tier 1   \n",
       "\n",
       "            Outlet_Type  Item_Outlet_Sales  encoded  \n",
       "0     Supermarket Type1          3735.1380        1  \n",
       "1     Supermarket Type2           443.4228        2  \n",
       "2     Supermarket Type1          2097.2700        1  \n",
       "3         Grocery Store           732.3800        2  \n",
       "4     Supermarket Type1           994.7052        1  \n",
       "...                 ...                ...      ...  \n",
       "8518  Supermarket Type1          2778.3834        1  \n",
       "8519  Supermarket Type1           549.2850        2  \n",
       "8520  Supermarket Type1          1193.1136        1  \n",
       "8521  Supermarket Type2          1845.5976        2  \n",
       "8522  Supermarket Type1           765.6700        1  \n",
       "\n",
       "[8523 rows x 13 columns]"
      ]
     },
     "execution_count": 31,
     "metadata": {},
     "output_type": "execute_result"
    }
   ],
   "source": [
    "# label encoding\n",
    "from sklearn.preprocessing import LabelEncoder\n",
    "label_encoder = LabelEncoder()\n",
    "df['encoded'] = label_encoder.fit_transform(df['Item_Fat_Content'])\n",
    "df"
   ]
  },
  {
   "cell_type": "code",
   "execution_count": 32,
   "id": "8cadeac1",
   "metadata": {},
   "outputs": [
    {
     "data": {
      "text/html": [
       "<div>\n",
       "<style scoped>\n",
       "    .dataframe tbody tr th:only-of-type {\n",
       "        vertical-align: middle;\n",
       "    }\n",
       "\n",
       "    .dataframe tbody tr th {\n",
       "        vertical-align: top;\n",
       "    }\n",
       "\n",
       "    .dataframe thead th {\n",
       "        text-align: right;\n",
       "    }\n",
       "</style>\n",
       "<table border=\"1\" class=\"dataframe\">\n",
       "  <thead>\n",
       "    <tr style=\"text-align: right;\">\n",
       "      <th></th>\n",
       "      <th>Item_Identifier</th>\n",
       "      <th>Item_Weight</th>\n",
       "      <th>Item_Fat_Content</th>\n",
       "      <th>Item_Visibility</th>\n",
       "      <th>Item_Type</th>\n",
       "      <th>Item_MRP</th>\n",
       "      <th>Outlet_Identifier</th>\n",
       "      <th>Outlet_Establishment_Year</th>\n",
       "      <th>Outlet_Size</th>\n",
       "      <th>Outlet_Location_Type</th>\n",
       "      <th>Outlet_Type</th>\n",
       "      <th>Item_Outlet_Sales</th>\n",
       "      <th>encoded</th>\n",
       "    </tr>\n",
       "  </thead>\n",
       "  <tbody>\n",
       "    <tr>\n",
       "      <th>0</th>\n",
       "      <td>FDA15</td>\n",
       "      <td>9.300</td>\n",
       "      <td>Low Fat</td>\n",
       "      <td>0.016047</td>\n",
       "      <td>Dairy</td>\n",
       "      <td>249.8092</td>\n",
       "      <td>OUT049</td>\n",
       "      <td>1999</td>\n",
       "      <td>Medium</td>\n",
       "      <td>Tier 1</td>\n",
       "      <td>Supermarket Type1</td>\n",
       "      <td>3735.1380</td>\n",
       "      <td>4</td>\n",
       "    </tr>\n",
       "    <tr>\n",
       "      <th>1</th>\n",
       "      <td>DRC01</td>\n",
       "      <td>5.920</td>\n",
       "      <td>Regular</td>\n",
       "      <td>0.019278</td>\n",
       "      <td>Soft Drinks</td>\n",
       "      <td>48.2692</td>\n",
       "      <td>OUT018</td>\n",
       "      <td>2009</td>\n",
       "      <td>Medium</td>\n",
       "      <td>Tier 3</td>\n",
       "      <td>Supermarket Type2</td>\n",
       "      <td>443.4228</td>\n",
       "      <td>14</td>\n",
       "    </tr>\n",
       "    <tr>\n",
       "      <th>2</th>\n",
       "      <td>FDN15</td>\n",
       "      <td>17.500</td>\n",
       "      <td>Low Fat</td>\n",
       "      <td>0.016760</td>\n",
       "      <td>Meat</td>\n",
       "      <td>141.6180</td>\n",
       "      <td>OUT049</td>\n",
       "      <td>1999</td>\n",
       "      <td>Medium</td>\n",
       "      <td>Tier 1</td>\n",
       "      <td>Supermarket Type1</td>\n",
       "      <td>2097.2700</td>\n",
       "      <td>10</td>\n",
       "    </tr>\n",
       "    <tr>\n",
       "      <th>3</th>\n",
       "      <td>FDX07</td>\n",
       "      <td>19.200</td>\n",
       "      <td>Regular</td>\n",
       "      <td>0.000000</td>\n",
       "      <td>Fruits and Vegetables</td>\n",
       "      <td>182.0950</td>\n",
       "      <td>OUT010</td>\n",
       "      <td>1998</td>\n",
       "      <td>Medium</td>\n",
       "      <td>Tier 3</td>\n",
       "      <td>Grocery Store</td>\n",
       "      <td>732.3800</td>\n",
       "      <td>6</td>\n",
       "    </tr>\n",
       "    <tr>\n",
       "      <th>4</th>\n",
       "      <td>NCD19</td>\n",
       "      <td>8.930</td>\n",
       "      <td>Low Fat</td>\n",
       "      <td>0.000000</td>\n",
       "      <td>Household</td>\n",
       "      <td>53.8614</td>\n",
       "      <td>OUT013</td>\n",
       "      <td>1987</td>\n",
       "      <td>High</td>\n",
       "      <td>Tier 3</td>\n",
       "      <td>Supermarket Type1</td>\n",
       "      <td>994.7052</td>\n",
       "      <td>9</td>\n",
       "    </tr>\n",
       "    <tr>\n",
       "      <th>...</th>\n",
       "      <td>...</td>\n",
       "      <td>...</td>\n",
       "      <td>...</td>\n",
       "      <td>...</td>\n",
       "      <td>...</td>\n",
       "      <td>...</td>\n",
       "      <td>...</td>\n",
       "      <td>...</td>\n",
       "      <td>...</td>\n",
       "      <td>...</td>\n",
       "      <td>...</td>\n",
       "      <td>...</td>\n",
       "      <td>...</td>\n",
       "    </tr>\n",
       "    <tr>\n",
       "      <th>8518</th>\n",
       "      <td>FDF22</td>\n",
       "      <td>6.865</td>\n",
       "      <td>Low Fat</td>\n",
       "      <td>0.056783</td>\n",
       "      <td>Snack Foods</td>\n",
       "      <td>214.5218</td>\n",
       "      <td>OUT013</td>\n",
       "      <td>1987</td>\n",
       "      <td>High</td>\n",
       "      <td>Tier 3</td>\n",
       "      <td>Supermarket Type1</td>\n",
       "      <td>2778.3834</td>\n",
       "      <td>13</td>\n",
       "    </tr>\n",
       "    <tr>\n",
       "      <th>8519</th>\n",
       "      <td>FDS36</td>\n",
       "      <td>8.380</td>\n",
       "      <td>Regular</td>\n",
       "      <td>0.046982</td>\n",
       "      <td>Baking Goods</td>\n",
       "      <td>108.1570</td>\n",
       "      <td>OUT045</td>\n",
       "      <td>2002</td>\n",
       "      <td>Medium</td>\n",
       "      <td>Tier 2</td>\n",
       "      <td>Supermarket Type1</td>\n",
       "      <td>549.2850</td>\n",
       "      <td>0</td>\n",
       "    </tr>\n",
       "    <tr>\n",
       "      <th>8520</th>\n",
       "      <td>NCJ29</td>\n",
       "      <td>10.600</td>\n",
       "      <td>Low Fat</td>\n",
       "      <td>0.035186</td>\n",
       "      <td>Health and Hygiene</td>\n",
       "      <td>85.1224</td>\n",
       "      <td>OUT035</td>\n",
       "      <td>2004</td>\n",
       "      <td>Small</td>\n",
       "      <td>Tier 2</td>\n",
       "      <td>Supermarket Type1</td>\n",
       "      <td>1193.1136</td>\n",
       "      <td>8</td>\n",
       "    </tr>\n",
       "    <tr>\n",
       "      <th>8521</th>\n",
       "      <td>FDN46</td>\n",
       "      <td>7.210</td>\n",
       "      <td>Regular</td>\n",
       "      <td>0.145221</td>\n",
       "      <td>Snack Foods</td>\n",
       "      <td>103.1332</td>\n",
       "      <td>OUT018</td>\n",
       "      <td>2009</td>\n",
       "      <td>Medium</td>\n",
       "      <td>Tier 3</td>\n",
       "      <td>Supermarket Type2</td>\n",
       "      <td>1845.5976</td>\n",
       "      <td>13</td>\n",
       "    </tr>\n",
       "    <tr>\n",
       "      <th>8522</th>\n",
       "      <td>DRG01</td>\n",
       "      <td>14.800</td>\n",
       "      <td>Low Fat</td>\n",
       "      <td>0.044878</td>\n",
       "      <td>Soft Drinks</td>\n",
       "      <td>75.4670</td>\n",
       "      <td>OUT046</td>\n",
       "      <td>1997</td>\n",
       "      <td>Small</td>\n",
       "      <td>Tier 1</td>\n",
       "      <td>Supermarket Type1</td>\n",
       "      <td>765.6700</td>\n",
       "      <td>14</td>\n",
       "    </tr>\n",
       "  </tbody>\n",
       "</table>\n",
       "<p>8523 rows × 13 columns</p>\n",
       "</div>"
      ],
      "text/plain": [
       "     Item_Identifier  Item_Weight Item_Fat_Content  Item_Visibility  \\\n",
       "0              FDA15        9.300          Low Fat         0.016047   \n",
       "1              DRC01        5.920          Regular         0.019278   \n",
       "2              FDN15       17.500          Low Fat         0.016760   \n",
       "3              FDX07       19.200          Regular         0.000000   \n",
       "4              NCD19        8.930          Low Fat         0.000000   \n",
       "...              ...          ...              ...              ...   \n",
       "8518           FDF22        6.865          Low Fat         0.056783   \n",
       "8519           FDS36        8.380          Regular         0.046982   \n",
       "8520           NCJ29       10.600          Low Fat         0.035186   \n",
       "8521           FDN46        7.210          Regular         0.145221   \n",
       "8522           DRG01       14.800          Low Fat         0.044878   \n",
       "\n",
       "                  Item_Type  Item_MRP Outlet_Identifier  \\\n",
       "0                     Dairy  249.8092            OUT049   \n",
       "1               Soft Drinks   48.2692            OUT018   \n",
       "2                      Meat  141.6180            OUT049   \n",
       "3     Fruits and Vegetables  182.0950            OUT010   \n",
       "4                 Household   53.8614            OUT013   \n",
       "...                     ...       ...               ...   \n",
       "8518            Snack Foods  214.5218            OUT013   \n",
       "8519           Baking Goods  108.1570            OUT045   \n",
       "8520     Health and Hygiene   85.1224            OUT035   \n",
       "8521            Snack Foods  103.1332            OUT018   \n",
       "8522            Soft Drinks   75.4670            OUT046   \n",
       "\n",
       "      Outlet_Establishment_Year Outlet_Size Outlet_Location_Type  \\\n",
       "0                          1999      Medium               Tier 1   \n",
       "1                          2009      Medium               Tier 3   \n",
       "2                          1999      Medium               Tier 1   \n",
       "3                          1998      Medium               Tier 3   \n",
       "4                          1987        High               Tier 3   \n",
       "...                         ...         ...                  ...   \n",
       "8518                       1987        High               Tier 3   \n",
       "8519                       2002      Medium               Tier 2   \n",
       "8520                       2004       Small               Tier 2   \n",
       "8521                       2009      Medium               Tier 3   \n",
       "8522                       1997       Small               Tier 1   \n",
       "\n",
       "            Outlet_Type  Item_Outlet_Sales  encoded  \n",
       "0     Supermarket Type1          3735.1380        4  \n",
       "1     Supermarket Type2           443.4228       14  \n",
       "2     Supermarket Type1          2097.2700       10  \n",
       "3         Grocery Store           732.3800        6  \n",
       "4     Supermarket Type1           994.7052        9  \n",
       "...                 ...                ...      ...  \n",
       "8518  Supermarket Type1          2778.3834       13  \n",
       "8519  Supermarket Type1           549.2850        0  \n",
       "8520  Supermarket Type1          1193.1136        8  \n",
       "8521  Supermarket Type2          1845.5976       13  \n",
       "8522  Supermarket Type1           765.6700       14  \n",
       "\n",
       "[8523 rows x 13 columns]"
      ]
     },
     "execution_count": 32,
     "metadata": {},
     "output_type": "execute_result"
    }
   ],
   "source": [
    "# label encoding\n",
    "from sklearn.preprocessing import LabelEncoder\n",
    "label_encoder = LabelEncoder()\n",
    "df['encoded'] = label_encoder.fit_transform(df['Item_Type'])\n",
    "df"
   ]
  },
  {
   "cell_type": "markdown",
   "id": "7193e236",
   "metadata": {},
   "source": [
    "<a id='binary'></a>\n",
    "## <font color=red> 5.3 Binary encoding</font>"
   ]
  },
  {
   "cell_type": "markdown",
   "id": "8ea23fb9",
   "metadata": {},
   "source": [
    "### Binary encoding is used to transform categorical data into numeric data by encoding categories as integers and then converting them into binary code."
   ]
  },
  {
   "cell_type": "code",
   "execution_count": 33,
   "id": "38caf1b8",
   "metadata": {},
   "outputs": [
    {
     "data": {
      "text/html": [
       "<div>\n",
       "<style scoped>\n",
       "    .dataframe tbody tr th:only-of-type {\n",
       "        vertical-align: middle;\n",
       "    }\n",
       "\n",
       "    .dataframe tbody tr th {\n",
       "        vertical-align: top;\n",
       "    }\n",
       "\n",
       "    .dataframe thead th {\n",
       "        text-align: right;\n",
       "    }\n",
       "</style>\n",
       "<table border=\"1\" class=\"dataframe\">\n",
       "  <thead>\n",
       "    <tr style=\"text-align: right;\">\n",
       "      <th></th>\n",
       "      <th>Item_Identifier</th>\n",
       "      <th>Item_Weight</th>\n",
       "      <th>Item_Fat_Content_0</th>\n",
       "      <th>Item_Fat_Content_1</th>\n",
       "      <th>Item_Fat_Content_2</th>\n",
       "      <th>Item_Visibility</th>\n",
       "      <th>Item_Type</th>\n",
       "      <th>Item_MRP</th>\n",
       "      <th>Outlet_Identifier</th>\n",
       "      <th>Outlet_Establishment_Year</th>\n",
       "      <th>Outlet_Size</th>\n",
       "      <th>Outlet_Location_Type</th>\n",
       "      <th>Outlet_Type</th>\n",
       "      <th>Item_Outlet_Sales</th>\n",
       "      <th>encoded</th>\n",
       "    </tr>\n",
       "  </thead>\n",
       "  <tbody>\n",
       "    <tr>\n",
       "      <th>0</th>\n",
       "      <td>FDA15</td>\n",
       "      <td>9.300</td>\n",
       "      <td>0</td>\n",
       "      <td>0</td>\n",
       "      <td>1</td>\n",
       "      <td>0.016047</td>\n",
       "      <td>Dairy</td>\n",
       "      <td>249.8092</td>\n",
       "      <td>OUT049</td>\n",
       "      <td>1999</td>\n",
       "      <td>Medium</td>\n",
       "      <td>Tier 1</td>\n",
       "      <td>Supermarket Type1</td>\n",
       "      <td>3735.1380</td>\n",
       "      <td>4</td>\n",
       "    </tr>\n",
       "    <tr>\n",
       "      <th>1</th>\n",
       "      <td>DRC01</td>\n",
       "      <td>5.920</td>\n",
       "      <td>0</td>\n",
       "      <td>1</td>\n",
       "      <td>0</td>\n",
       "      <td>0.019278</td>\n",
       "      <td>Soft Drinks</td>\n",
       "      <td>48.2692</td>\n",
       "      <td>OUT018</td>\n",
       "      <td>2009</td>\n",
       "      <td>Medium</td>\n",
       "      <td>Tier 3</td>\n",
       "      <td>Supermarket Type2</td>\n",
       "      <td>443.4228</td>\n",
       "      <td>14</td>\n",
       "    </tr>\n",
       "    <tr>\n",
       "      <th>2</th>\n",
       "      <td>FDN15</td>\n",
       "      <td>17.500</td>\n",
       "      <td>0</td>\n",
       "      <td>0</td>\n",
       "      <td>1</td>\n",
       "      <td>0.016760</td>\n",
       "      <td>Meat</td>\n",
       "      <td>141.6180</td>\n",
       "      <td>OUT049</td>\n",
       "      <td>1999</td>\n",
       "      <td>Medium</td>\n",
       "      <td>Tier 1</td>\n",
       "      <td>Supermarket Type1</td>\n",
       "      <td>2097.2700</td>\n",
       "      <td>10</td>\n",
       "    </tr>\n",
       "    <tr>\n",
       "      <th>3</th>\n",
       "      <td>FDX07</td>\n",
       "      <td>19.200</td>\n",
       "      <td>0</td>\n",
       "      <td>1</td>\n",
       "      <td>0</td>\n",
       "      <td>0.000000</td>\n",
       "      <td>Fruits and Vegetables</td>\n",
       "      <td>182.0950</td>\n",
       "      <td>OUT010</td>\n",
       "      <td>1998</td>\n",
       "      <td>Medium</td>\n",
       "      <td>Tier 3</td>\n",
       "      <td>Grocery Store</td>\n",
       "      <td>732.3800</td>\n",
       "      <td>6</td>\n",
       "    </tr>\n",
       "    <tr>\n",
       "      <th>4</th>\n",
       "      <td>NCD19</td>\n",
       "      <td>8.930</td>\n",
       "      <td>0</td>\n",
       "      <td>0</td>\n",
       "      <td>1</td>\n",
       "      <td>0.000000</td>\n",
       "      <td>Household</td>\n",
       "      <td>53.8614</td>\n",
       "      <td>OUT013</td>\n",
       "      <td>1987</td>\n",
       "      <td>High</td>\n",
       "      <td>Tier 3</td>\n",
       "      <td>Supermarket Type1</td>\n",
       "      <td>994.7052</td>\n",
       "      <td>9</td>\n",
       "    </tr>\n",
       "    <tr>\n",
       "      <th>...</th>\n",
       "      <td>...</td>\n",
       "      <td>...</td>\n",
       "      <td>...</td>\n",
       "      <td>...</td>\n",
       "      <td>...</td>\n",
       "      <td>...</td>\n",
       "      <td>...</td>\n",
       "      <td>...</td>\n",
       "      <td>...</td>\n",
       "      <td>...</td>\n",
       "      <td>...</td>\n",
       "      <td>...</td>\n",
       "      <td>...</td>\n",
       "      <td>...</td>\n",
       "      <td>...</td>\n",
       "    </tr>\n",
       "    <tr>\n",
       "      <th>8518</th>\n",
       "      <td>FDF22</td>\n",
       "      <td>6.865</td>\n",
       "      <td>0</td>\n",
       "      <td>0</td>\n",
       "      <td>1</td>\n",
       "      <td>0.056783</td>\n",
       "      <td>Snack Foods</td>\n",
       "      <td>214.5218</td>\n",
       "      <td>OUT013</td>\n",
       "      <td>1987</td>\n",
       "      <td>High</td>\n",
       "      <td>Tier 3</td>\n",
       "      <td>Supermarket Type1</td>\n",
       "      <td>2778.3834</td>\n",
       "      <td>13</td>\n",
       "    </tr>\n",
       "    <tr>\n",
       "      <th>8519</th>\n",
       "      <td>FDS36</td>\n",
       "      <td>8.380</td>\n",
       "      <td>0</td>\n",
       "      <td>1</td>\n",
       "      <td>0</td>\n",
       "      <td>0.046982</td>\n",
       "      <td>Baking Goods</td>\n",
       "      <td>108.1570</td>\n",
       "      <td>OUT045</td>\n",
       "      <td>2002</td>\n",
       "      <td>Medium</td>\n",
       "      <td>Tier 2</td>\n",
       "      <td>Supermarket Type1</td>\n",
       "      <td>549.2850</td>\n",
       "      <td>0</td>\n",
       "    </tr>\n",
       "    <tr>\n",
       "      <th>8520</th>\n",
       "      <td>NCJ29</td>\n",
       "      <td>10.600</td>\n",
       "      <td>0</td>\n",
       "      <td>0</td>\n",
       "      <td>1</td>\n",
       "      <td>0.035186</td>\n",
       "      <td>Health and Hygiene</td>\n",
       "      <td>85.1224</td>\n",
       "      <td>OUT035</td>\n",
       "      <td>2004</td>\n",
       "      <td>Small</td>\n",
       "      <td>Tier 2</td>\n",
       "      <td>Supermarket Type1</td>\n",
       "      <td>1193.1136</td>\n",
       "      <td>8</td>\n",
       "    </tr>\n",
       "    <tr>\n",
       "      <th>8521</th>\n",
       "      <td>FDN46</td>\n",
       "      <td>7.210</td>\n",
       "      <td>0</td>\n",
       "      <td>1</td>\n",
       "      <td>0</td>\n",
       "      <td>0.145221</td>\n",
       "      <td>Snack Foods</td>\n",
       "      <td>103.1332</td>\n",
       "      <td>OUT018</td>\n",
       "      <td>2009</td>\n",
       "      <td>Medium</td>\n",
       "      <td>Tier 3</td>\n",
       "      <td>Supermarket Type2</td>\n",
       "      <td>1845.5976</td>\n",
       "      <td>13</td>\n",
       "    </tr>\n",
       "    <tr>\n",
       "      <th>8522</th>\n",
       "      <td>DRG01</td>\n",
       "      <td>14.800</td>\n",
       "      <td>0</td>\n",
       "      <td>0</td>\n",
       "      <td>1</td>\n",
       "      <td>0.044878</td>\n",
       "      <td>Soft Drinks</td>\n",
       "      <td>75.4670</td>\n",
       "      <td>OUT046</td>\n",
       "      <td>1997</td>\n",
       "      <td>Small</td>\n",
       "      <td>Tier 1</td>\n",
       "      <td>Supermarket Type1</td>\n",
       "      <td>765.6700</td>\n",
       "      <td>14</td>\n",
       "    </tr>\n",
       "  </tbody>\n",
       "</table>\n",
       "<p>8523 rows × 15 columns</p>\n",
       "</div>"
      ],
      "text/plain": [
       "     Item_Identifier  Item_Weight  Item_Fat_Content_0  Item_Fat_Content_1  \\\n",
       "0              FDA15        9.300                   0                   0   \n",
       "1              DRC01        5.920                   0                   1   \n",
       "2              FDN15       17.500                   0                   0   \n",
       "3              FDX07       19.200                   0                   1   \n",
       "4              NCD19        8.930                   0                   0   \n",
       "...              ...          ...                 ...                 ...   \n",
       "8518           FDF22        6.865                   0                   0   \n",
       "8519           FDS36        8.380                   0                   1   \n",
       "8520           NCJ29       10.600                   0                   0   \n",
       "8521           FDN46        7.210                   0                   1   \n",
       "8522           DRG01       14.800                   0                   0   \n",
       "\n",
       "      Item_Fat_Content_2  Item_Visibility              Item_Type  Item_MRP  \\\n",
       "0                      1         0.016047                  Dairy  249.8092   \n",
       "1                      0         0.019278            Soft Drinks   48.2692   \n",
       "2                      1         0.016760                   Meat  141.6180   \n",
       "3                      0         0.000000  Fruits and Vegetables  182.0950   \n",
       "4                      1         0.000000              Household   53.8614   \n",
       "...                  ...              ...                    ...       ...   \n",
       "8518                   1         0.056783            Snack Foods  214.5218   \n",
       "8519                   0         0.046982           Baking Goods  108.1570   \n",
       "8520                   1         0.035186     Health and Hygiene   85.1224   \n",
       "8521                   0         0.145221            Snack Foods  103.1332   \n",
       "8522                   1         0.044878            Soft Drinks   75.4670   \n",
       "\n",
       "     Outlet_Identifier  Outlet_Establishment_Year Outlet_Size  \\\n",
       "0               OUT049                       1999      Medium   \n",
       "1               OUT018                       2009      Medium   \n",
       "2               OUT049                       1999      Medium   \n",
       "3               OUT010                       1998      Medium   \n",
       "4               OUT013                       1987        High   \n",
       "...                ...                        ...         ...   \n",
       "8518            OUT013                       1987        High   \n",
       "8519            OUT045                       2002      Medium   \n",
       "8520            OUT035                       2004       Small   \n",
       "8521            OUT018                       2009      Medium   \n",
       "8522            OUT046                       1997       Small   \n",
       "\n",
       "     Outlet_Location_Type        Outlet_Type  Item_Outlet_Sales  encoded  \n",
       "0                  Tier 1  Supermarket Type1          3735.1380        4  \n",
       "1                  Tier 3  Supermarket Type2           443.4228       14  \n",
       "2                  Tier 1  Supermarket Type1          2097.2700       10  \n",
       "3                  Tier 3      Grocery Store           732.3800        6  \n",
       "4                  Tier 3  Supermarket Type1           994.7052        9  \n",
       "...                   ...                ...                ...      ...  \n",
       "8518               Tier 3  Supermarket Type1          2778.3834       13  \n",
       "8519               Tier 2  Supermarket Type1           549.2850        0  \n",
       "8520               Tier 2  Supermarket Type1          1193.1136        8  \n",
       "8521               Tier 3  Supermarket Type2          1845.5976       13  \n",
       "8522               Tier 1  Supermarket Type1           765.6700       14  \n",
       "\n",
       "[8523 rows x 15 columns]"
      ]
     },
     "execution_count": 33,
     "metadata": {},
     "output_type": "execute_result"
    }
   ],
   "source": [
    "# binary encoding\n",
    "binary = ce.BinaryEncoder(cols=['Item_Fat_Content'])\n",
    "encoded = binary.fit_transform(df)\n",
    "encoded"
   ]
  },
  {
   "cell_type": "markdown",
   "id": "2c72125d",
   "metadata": {},
   "source": [
    "### <div class=\"alert alert-info\"> Here in the 'Item_Fat_Content' column, each of the variable is assigned in a binary format. For example, Low fat is represented as 1 in numerical format and 01 in binary format. Same as for Regular variable is represented as 2 in numerical format and 10 in binary format.</div>"
   ]
  },
  {
   "cell_type": "markdown",
   "id": "102e28a7",
   "metadata": {},
   "source": [
    "<a id='target'></a>\n",
    "## <font color=red> 5.4 Target encoding </font>"
   ]
  },
  {
   "cell_type": "markdown",
   "id": "4fc4c1d1",
   "metadata": {},
   "source": [
    "### Target encoding it is also known as mean encoding which replaces each categorical value with average value of target variable for that category"
   ]
  },
  {
   "cell_type": "code",
   "execution_count": 34,
   "id": "22dbe6f9",
   "metadata": {
    "scrolled": false
   },
   "outputs": [
    {
     "data": {
      "text/html": [
       "<div>\n",
       "<style scoped>\n",
       "    .dataframe tbody tr th:only-of-type {\n",
       "        vertical-align: middle;\n",
       "    }\n",
       "\n",
       "    .dataframe tbody tr th {\n",
       "        vertical-align: top;\n",
       "    }\n",
       "\n",
       "    .dataframe thead th {\n",
       "        text-align: right;\n",
       "    }\n",
       "</style>\n",
       "<table border=\"1\" class=\"dataframe\">\n",
       "  <thead>\n",
       "    <tr style=\"text-align: right;\">\n",
       "      <th></th>\n",
       "      <th>Item_Type</th>\n",
       "      <th>Item_Identifier</th>\n",
       "      <th>Item_Weight</th>\n",
       "      <th>Item_Fat_Content</th>\n",
       "      <th>Item_Visibility</th>\n",
       "      <th>Item_MRP</th>\n",
       "      <th>Outlet_Identifier</th>\n",
       "      <th>Outlet_Establishment_Year</th>\n",
       "      <th>Outlet_Size</th>\n",
       "      <th>Outlet_Location_Type</th>\n",
       "      <th>Outlet_Type</th>\n",
       "      <th>Item_Outlet_Sales</th>\n",
       "    </tr>\n",
       "  </thead>\n",
       "  <tbody>\n",
       "    <tr>\n",
       "      <th>0</th>\n",
       "      <td>2232.542597</td>\n",
       "      <td>FDA15</td>\n",
       "      <td>9.300</td>\n",
       "      <td>Low Fat</td>\n",
       "      <td>0.016047</td>\n",
       "      <td>249.8092</td>\n",
       "      <td>OUT049</td>\n",
       "      <td>1999</td>\n",
       "      <td>Medium</td>\n",
       "      <td>Tier 1</td>\n",
       "      <td>Supermarket Type1</td>\n",
       "      <td>3735.1380</td>\n",
       "    </tr>\n",
       "    <tr>\n",
       "      <th>1</th>\n",
       "      <td>2006.511735</td>\n",
       "      <td>DRC01</td>\n",
       "      <td>5.920</td>\n",
       "      <td>Regular</td>\n",
       "      <td>0.019278</td>\n",
       "      <td>48.2692</td>\n",
       "      <td>OUT018</td>\n",
       "      <td>2009</td>\n",
       "      <td>Medium</td>\n",
       "      <td>Tier 3</td>\n",
       "      <td>Supermarket Type2</td>\n",
       "      <td>443.4228</td>\n",
       "    </tr>\n",
       "    <tr>\n",
       "      <th>2</th>\n",
       "      <td>2158.977911</td>\n",
       "      <td>FDN15</td>\n",
       "      <td>17.500</td>\n",
       "      <td>Low Fat</td>\n",
       "      <td>0.016760</td>\n",
       "      <td>141.6180</td>\n",
       "      <td>OUT049</td>\n",
       "      <td>1999</td>\n",
       "      <td>Medium</td>\n",
       "      <td>Tier 1</td>\n",
       "      <td>Supermarket Type1</td>\n",
       "      <td>2097.2700</td>\n",
       "    </tr>\n",
       "    <tr>\n",
       "      <th>3</th>\n",
       "      <td>2289.009592</td>\n",
       "      <td>FDX07</td>\n",
       "      <td>19.200</td>\n",
       "      <td>Regular</td>\n",
       "      <td>0.000000</td>\n",
       "      <td>182.0950</td>\n",
       "      <td>OUT010</td>\n",
       "      <td>1998</td>\n",
       "      <td>NaN</td>\n",
       "      <td>Tier 3</td>\n",
       "      <td>Grocery Store</td>\n",
       "      <td>732.3800</td>\n",
       "    </tr>\n",
       "    <tr>\n",
       "      <th>4</th>\n",
       "      <td>2258.784300</td>\n",
       "      <td>NCD19</td>\n",
       "      <td>8.930</td>\n",
       "      <td>Low Fat</td>\n",
       "      <td>0.000000</td>\n",
       "      <td>53.8614</td>\n",
       "      <td>OUT013</td>\n",
       "      <td>1987</td>\n",
       "      <td>High</td>\n",
       "      <td>Tier 3</td>\n",
       "      <td>Supermarket Type1</td>\n",
       "      <td>994.7052</td>\n",
       "    </tr>\n",
       "    <tr>\n",
       "      <th>...</th>\n",
       "      <td>...</td>\n",
       "      <td>...</td>\n",
       "      <td>...</td>\n",
       "      <td>...</td>\n",
       "      <td>...</td>\n",
       "      <td>...</td>\n",
       "      <td>...</td>\n",
       "      <td>...</td>\n",
       "      <td>...</td>\n",
       "      <td>...</td>\n",
       "      <td>...</td>\n",
       "      <td>...</td>\n",
       "    </tr>\n",
       "    <tr>\n",
       "      <th>8518</th>\n",
       "      <td>2277.321739</td>\n",
       "      <td>FDF22</td>\n",
       "      <td>6.865</td>\n",
       "      <td>Low Fat</td>\n",
       "      <td>0.056783</td>\n",
       "      <td>214.5218</td>\n",
       "      <td>OUT013</td>\n",
       "      <td>1987</td>\n",
       "      <td>High</td>\n",
       "      <td>Tier 3</td>\n",
       "      <td>Supermarket Type1</td>\n",
       "      <td>2778.3834</td>\n",
       "    </tr>\n",
       "    <tr>\n",
       "      <th>8519</th>\n",
       "      <td>1952.971207</td>\n",
       "      <td>FDS36</td>\n",
       "      <td>8.380</td>\n",
       "      <td>Regular</td>\n",
       "      <td>0.046982</td>\n",
       "      <td>108.1570</td>\n",
       "      <td>OUT045</td>\n",
       "      <td>2002</td>\n",
       "      <td>NaN</td>\n",
       "      <td>Tier 2</td>\n",
       "      <td>Supermarket Type1</td>\n",
       "      <td>549.2850</td>\n",
       "    </tr>\n",
       "    <tr>\n",
       "      <th>8520</th>\n",
       "      <td>2010.000265</td>\n",
       "      <td>NCJ29</td>\n",
       "      <td>10.600</td>\n",
       "      <td>Low Fat</td>\n",
       "      <td>0.035186</td>\n",
       "      <td>85.1224</td>\n",
       "      <td>OUT035</td>\n",
       "      <td>2004</td>\n",
       "      <td>Small</td>\n",
       "      <td>Tier 2</td>\n",
       "      <td>Supermarket Type1</td>\n",
       "      <td>1193.1136</td>\n",
       "    </tr>\n",
       "    <tr>\n",
       "      <th>8521</th>\n",
       "      <td>2277.321739</td>\n",
       "      <td>FDN46</td>\n",
       "      <td>7.210</td>\n",
       "      <td>Regular</td>\n",
       "      <td>0.145221</td>\n",
       "      <td>103.1332</td>\n",
       "      <td>OUT018</td>\n",
       "      <td>2009</td>\n",
       "      <td>Medium</td>\n",
       "      <td>Tier 3</td>\n",
       "      <td>Supermarket Type2</td>\n",
       "      <td>1845.5976</td>\n",
       "    </tr>\n",
       "    <tr>\n",
       "      <th>8522</th>\n",
       "      <td>2006.511735</td>\n",
       "      <td>DRG01</td>\n",
       "      <td>14.800</td>\n",
       "      <td>Low Fat</td>\n",
       "      <td>0.044878</td>\n",
       "      <td>75.4670</td>\n",
       "      <td>OUT046</td>\n",
       "      <td>1997</td>\n",
       "      <td>Small</td>\n",
       "      <td>Tier 1</td>\n",
       "      <td>Supermarket Type1</td>\n",
       "      <td>765.6700</td>\n",
       "    </tr>\n",
       "  </tbody>\n",
       "</table>\n",
       "<p>8523 rows × 12 columns</p>\n",
       "</div>"
      ],
      "text/plain": [
       "        Item_Type Item_Identifier  Item_Weight Item_Fat_Content  \\\n",
       "0     2232.542597           FDA15        9.300          Low Fat   \n",
       "1     2006.511735           DRC01        5.920          Regular   \n",
       "2     2158.977911           FDN15       17.500          Low Fat   \n",
       "3     2289.009592           FDX07       19.200          Regular   \n",
       "4     2258.784300           NCD19        8.930          Low Fat   \n",
       "...           ...             ...          ...              ...   \n",
       "8518  2277.321739           FDF22        6.865          Low Fat   \n",
       "8519  1952.971207           FDS36        8.380          Regular   \n",
       "8520  2010.000265           NCJ29       10.600          Low Fat   \n",
       "8521  2277.321739           FDN46        7.210          Regular   \n",
       "8522  2006.511735           DRG01       14.800          Low Fat   \n",
       "\n",
       "      Item_Visibility  Item_MRP Outlet_Identifier  Outlet_Establishment_Year  \\\n",
       "0            0.016047  249.8092            OUT049                       1999   \n",
       "1            0.019278   48.2692            OUT018                       2009   \n",
       "2            0.016760  141.6180            OUT049                       1999   \n",
       "3            0.000000  182.0950            OUT010                       1998   \n",
       "4            0.000000   53.8614            OUT013                       1987   \n",
       "...               ...       ...               ...                        ...   \n",
       "8518         0.056783  214.5218            OUT013                       1987   \n",
       "8519         0.046982  108.1570            OUT045                       2002   \n",
       "8520         0.035186   85.1224            OUT035                       2004   \n",
       "8521         0.145221  103.1332            OUT018                       2009   \n",
       "8522         0.044878   75.4670            OUT046                       1997   \n",
       "\n",
       "     Outlet_Size Outlet_Location_Type        Outlet_Type  Item_Outlet_Sales  \n",
       "0         Medium               Tier 1  Supermarket Type1          3735.1380  \n",
       "1         Medium               Tier 3  Supermarket Type2           443.4228  \n",
       "2         Medium               Tier 1  Supermarket Type1          2097.2700  \n",
       "3            NaN               Tier 3      Grocery Store           732.3800  \n",
       "4           High               Tier 3  Supermarket Type1           994.7052  \n",
       "...          ...                  ...                ...                ...  \n",
       "8518        High               Tier 3  Supermarket Type1          2778.3834  \n",
       "8519         NaN               Tier 2  Supermarket Type1           549.2850  \n",
       "8520       Small               Tier 2  Supermarket Type1          1193.1136  \n",
       "8521      Medium               Tier 3  Supermarket Type2          1845.5976  \n",
       "8522       Small               Tier 1  Supermarket Type1           765.6700  \n",
       "\n",
       "[8523 rows x 12 columns]"
      ]
     },
     "execution_count": 34,
     "metadata": {},
     "output_type": "execute_result"
    }
   ],
   "source": [
    "# target encoding\n",
    "df = pd.read_csv('Train.csv')\n",
    "tar = ce.TargetEncoder(cols='Item_Type')\n",
    "df_1 = tar.fit_transform(df['Item_Type'],df['Item_Outlet_Sales'])\n",
    "df_new = df_1.join(df.drop('Item_Type',axis=1))\n",
    "df_new"
   ]
  },
  {
   "cell_type": "markdown",
   "id": "7b9bd703",
   "metadata": {},
   "source": [
    "<a id='frequency'></a>\n",
    "## <font color=red> 5.5 Frequency encoding</font>"
   ]
  },
  {
   "cell_type": "markdown",
   "id": "2abe2189",
   "metadata": {},
   "source": [
    "### Now we have to perform frequency encoding, first we need to check the value counts of the column 'Item_Type' by using .value_counts()"
   ]
  },
  {
   "cell_type": "code",
   "execution_count": 35,
   "id": "7d1a4385",
   "metadata": {},
   "outputs": [
    {
     "data": {
      "text/plain": [
       "Fruits and Vegetables    1232\n",
       "Snack Foods              1200\n",
       "Household                 910\n",
       "Frozen Foods              856\n",
       "Dairy                     682\n",
       "Canned                    649\n",
       "Baking Goods              648\n",
       "Health and Hygiene        520\n",
       "Soft Drinks               445\n",
       "Meat                      425\n",
       "Breads                    251\n",
       "Hard Drinks               214\n",
       "Others                    169\n",
       "Starchy Foods             148\n",
       "Breakfast                 110\n",
       "Seafood                    64\n",
       "Name: Item_Type, dtype: int64"
      ]
     },
     "execution_count": 35,
     "metadata": {},
     "output_type": "execute_result"
    }
   ],
   "source": [
    "df['Item_Type'].value_counts()"
   ]
  },
  {
   "cell_type": "markdown",
   "id": "ab9c4d89",
   "metadata": {},
   "source": [
    "### In frequency encoding, it transforms the categorical variables into numerical values based on their frequency in a dataset."
   ]
  },
  {
   "cell_type": "markdown",
   "id": "aac37600",
   "metadata": {},
   "source": [
    "### Here when i have used value counts in the column 'Item_Type', i have got the count of the unique values of that column. So, in frequency encoding, the categorical variables will replace with the frequency of that variable"
   ]
  },
  {
   "cell_type": "code",
   "execution_count": 36,
   "id": "8dbdae6a",
   "metadata": {},
   "outputs": [
    {
     "data": {
      "text/html": [
       "<div>\n",
       "<style scoped>\n",
       "    .dataframe tbody tr th:only-of-type {\n",
       "        vertical-align: middle;\n",
       "    }\n",
       "\n",
       "    .dataframe tbody tr th {\n",
       "        vertical-align: top;\n",
       "    }\n",
       "\n",
       "    .dataframe thead th {\n",
       "        text-align: right;\n",
       "    }\n",
       "</style>\n",
       "<table border=\"1\" class=\"dataframe\">\n",
       "  <thead>\n",
       "    <tr style=\"text-align: right;\">\n",
       "      <th></th>\n",
       "      <th>Item_Identifier</th>\n",
       "      <th>Item_Weight</th>\n",
       "      <th>Item_Fat_Content</th>\n",
       "      <th>Item_Visibility</th>\n",
       "      <th>Item_Type</th>\n",
       "      <th>Item_MRP</th>\n",
       "      <th>Outlet_Identifier</th>\n",
       "      <th>Outlet_Establishment_Year</th>\n",
       "      <th>Outlet_Size</th>\n",
       "      <th>Outlet_Location_Type</th>\n",
       "      <th>Outlet_Type</th>\n",
       "      <th>Item_Outlet_Sales</th>\n",
       "      <th>Category_frequency_encoded</th>\n",
       "    </tr>\n",
       "  </thead>\n",
       "  <tbody>\n",
       "    <tr>\n",
       "      <th>0</th>\n",
       "      <td>FDA15</td>\n",
       "      <td>9.300</td>\n",
       "      <td>Low Fat</td>\n",
       "      <td>0.016047</td>\n",
       "      <td>Dairy</td>\n",
       "      <td>249.8092</td>\n",
       "      <td>OUT049</td>\n",
       "      <td>1999</td>\n",
       "      <td>Medium</td>\n",
       "      <td>Tier 1</td>\n",
       "      <td>Supermarket Type1</td>\n",
       "      <td>3735.1380</td>\n",
       "      <td>682</td>\n",
       "    </tr>\n",
       "    <tr>\n",
       "      <th>1</th>\n",
       "      <td>DRC01</td>\n",
       "      <td>5.920</td>\n",
       "      <td>Regular</td>\n",
       "      <td>0.019278</td>\n",
       "      <td>Soft Drinks</td>\n",
       "      <td>48.2692</td>\n",
       "      <td>OUT018</td>\n",
       "      <td>2009</td>\n",
       "      <td>Medium</td>\n",
       "      <td>Tier 3</td>\n",
       "      <td>Supermarket Type2</td>\n",
       "      <td>443.4228</td>\n",
       "      <td>445</td>\n",
       "    </tr>\n",
       "    <tr>\n",
       "      <th>2</th>\n",
       "      <td>FDN15</td>\n",
       "      <td>17.500</td>\n",
       "      <td>Low Fat</td>\n",
       "      <td>0.016760</td>\n",
       "      <td>Meat</td>\n",
       "      <td>141.6180</td>\n",
       "      <td>OUT049</td>\n",
       "      <td>1999</td>\n",
       "      <td>Medium</td>\n",
       "      <td>Tier 1</td>\n",
       "      <td>Supermarket Type1</td>\n",
       "      <td>2097.2700</td>\n",
       "      <td>425</td>\n",
       "    </tr>\n",
       "    <tr>\n",
       "      <th>3</th>\n",
       "      <td>FDX07</td>\n",
       "      <td>19.200</td>\n",
       "      <td>Regular</td>\n",
       "      <td>0.000000</td>\n",
       "      <td>Fruits and Vegetables</td>\n",
       "      <td>182.0950</td>\n",
       "      <td>OUT010</td>\n",
       "      <td>1998</td>\n",
       "      <td>NaN</td>\n",
       "      <td>Tier 3</td>\n",
       "      <td>Grocery Store</td>\n",
       "      <td>732.3800</td>\n",
       "      <td>1232</td>\n",
       "    </tr>\n",
       "    <tr>\n",
       "      <th>4</th>\n",
       "      <td>NCD19</td>\n",
       "      <td>8.930</td>\n",
       "      <td>Low Fat</td>\n",
       "      <td>0.000000</td>\n",
       "      <td>Household</td>\n",
       "      <td>53.8614</td>\n",
       "      <td>OUT013</td>\n",
       "      <td>1987</td>\n",
       "      <td>High</td>\n",
       "      <td>Tier 3</td>\n",
       "      <td>Supermarket Type1</td>\n",
       "      <td>994.7052</td>\n",
       "      <td>910</td>\n",
       "    </tr>\n",
       "    <tr>\n",
       "      <th>...</th>\n",
       "      <td>...</td>\n",
       "      <td>...</td>\n",
       "      <td>...</td>\n",
       "      <td>...</td>\n",
       "      <td>...</td>\n",
       "      <td>...</td>\n",
       "      <td>...</td>\n",
       "      <td>...</td>\n",
       "      <td>...</td>\n",
       "      <td>...</td>\n",
       "      <td>...</td>\n",
       "      <td>...</td>\n",
       "      <td>...</td>\n",
       "    </tr>\n",
       "    <tr>\n",
       "      <th>8518</th>\n",
       "      <td>FDF22</td>\n",
       "      <td>6.865</td>\n",
       "      <td>Low Fat</td>\n",
       "      <td>0.056783</td>\n",
       "      <td>Snack Foods</td>\n",
       "      <td>214.5218</td>\n",
       "      <td>OUT013</td>\n",
       "      <td>1987</td>\n",
       "      <td>High</td>\n",
       "      <td>Tier 3</td>\n",
       "      <td>Supermarket Type1</td>\n",
       "      <td>2778.3834</td>\n",
       "      <td>1200</td>\n",
       "    </tr>\n",
       "    <tr>\n",
       "      <th>8519</th>\n",
       "      <td>FDS36</td>\n",
       "      <td>8.380</td>\n",
       "      <td>Regular</td>\n",
       "      <td>0.046982</td>\n",
       "      <td>Baking Goods</td>\n",
       "      <td>108.1570</td>\n",
       "      <td>OUT045</td>\n",
       "      <td>2002</td>\n",
       "      <td>NaN</td>\n",
       "      <td>Tier 2</td>\n",
       "      <td>Supermarket Type1</td>\n",
       "      <td>549.2850</td>\n",
       "      <td>648</td>\n",
       "    </tr>\n",
       "    <tr>\n",
       "      <th>8520</th>\n",
       "      <td>NCJ29</td>\n",
       "      <td>10.600</td>\n",
       "      <td>Low Fat</td>\n",
       "      <td>0.035186</td>\n",
       "      <td>Health and Hygiene</td>\n",
       "      <td>85.1224</td>\n",
       "      <td>OUT035</td>\n",
       "      <td>2004</td>\n",
       "      <td>Small</td>\n",
       "      <td>Tier 2</td>\n",
       "      <td>Supermarket Type1</td>\n",
       "      <td>1193.1136</td>\n",
       "      <td>520</td>\n",
       "    </tr>\n",
       "    <tr>\n",
       "      <th>8521</th>\n",
       "      <td>FDN46</td>\n",
       "      <td>7.210</td>\n",
       "      <td>Regular</td>\n",
       "      <td>0.145221</td>\n",
       "      <td>Snack Foods</td>\n",
       "      <td>103.1332</td>\n",
       "      <td>OUT018</td>\n",
       "      <td>2009</td>\n",
       "      <td>Medium</td>\n",
       "      <td>Tier 3</td>\n",
       "      <td>Supermarket Type2</td>\n",
       "      <td>1845.5976</td>\n",
       "      <td>1200</td>\n",
       "    </tr>\n",
       "    <tr>\n",
       "      <th>8522</th>\n",
       "      <td>DRG01</td>\n",
       "      <td>14.800</td>\n",
       "      <td>Low Fat</td>\n",
       "      <td>0.044878</td>\n",
       "      <td>Soft Drinks</td>\n",
       "      <td>75.4670</td>\n",
       "      <td>OUT046</td>\n",
       "      <td>1997</td>\n",
       "      <td>Small</td>\n",
       "      <td>Tier 1</td>\n",
       "      <td>Supermarket Type1</td>\n",
       "      <td>765.6700</td>\n",
       "      <td>445</td>\n",
       "    </tr>\n",
       "  </tbody>\n",
       "</table>\n",
       "<p>8523 rows × 13 columns</p>\n",
       "</div>"
      ],
      "text/plain": [
       "     Item_Identifier  Item_Weight Item_Fat_Content  Item_Visibility  \\\n",
       "0              FDA15        9.300          Low Fat         0.016047   \n",
       "1              DRC01        5.920          Regular         0.019278   \n",
       "2              FDN15       17.500          Low Fat         0.016760   \n",
       "3              FDX07       19.200          Regular         0.000000   \n",
       "4              NCD19        8.930          Low Fat         0.000000   \n",
       "...              ...          ...              ...              ...   \n",
       "8518           FDF22        6.865          Low Fat         0.056783   \n",
       "8519           FDS36        8.380          Regular         0.046982   \n",
       "8520           NCJ29       10.600          Low Fat         0.035186   \n",
       "8521           FDN46        7.210          Regular         0.145221   \n",
       "8522           DRG01       14.800          Low Fat         0.044878   \n",
       "\n",
       "                  Item_Type  Item_MRP Outlet_Identifier  \\\n",
       "0                     Dairy  249.8092            OUT049   \n",
       "1               Soft Drinks   48.2692            OUT018   \n",
       "2                      Meat  141.6180            OUT049   \n",
       "3     Fruits and Vegetables  182.0950            OUT010   \n",
       "4                 Household   53.8614            OUT013   \n",
       "...                     ...       ...               ...   \n",
       "8518            Snack Foods  214.5218            OUT013   \n",
       "8519           Baking Goods  108.1570            OUT045   \n",
       "8520     Health and Hygiene   85.1224            OUT035   \n",
       "8521            Snack Foods  103.1332            OUT018   \n",
       "8522            Soft Drinks   75.4670            OUT046   \n",
       "\n",
       "      Outlet_Establishment_Year Outlet_Size Outlet_Location_Type  \\\n",
       "0                          1999      Medium               Tier 1   \n",
       "1                          2009      Medium               Tier 3   \n",
       "2                          1999      Medium               Tier 1   \n",
       "3                          1998         NaN               Tier 3   \n",
       "4                          1987        High               Tier 3   \n",
       "...                         ...         ...                  ...   \n",
       "8518                       1987        High               Tier 3   \n",
       "8519                       2002         NaN               Tier 2   \n",
       "8520                       2004       Small               Tier 2   \n",
       "8521                       2009      Medium               Tier 3   \n",
       "8522                       1997       Small               Tier 1   \n",
       "\n",
       "            Outlet_Type  Item_Outlet_Sales  Category_frequency_encoded  \n",
       "0     Supermarket Type1          3735.1380                         682  \n",
       "1     Supermarket Type2           443.4228                         445  \n",
       "2     Supermarket Type1          2097.2700                         425  \n",
       "3         Grocery Store           732.3800                        1232  \n",
       "4     Supermarket Type1           994.7052                         910  \n",
       "...                 ...                ...                         ...  \n",
       "8518  Supermarket Type1          2778.3834                        1200  \n",
       "8519  Supermarket Type1           549.2850                         648  \n",
       "8520  Supermarket Type1          1193.1136                         520  \n",
       "8521  Supermarket Type2          1845.5976                        1200  \n",
       "8522  Supermarket Type1           765.6700                         445  \n",
       "\n",
       "[8523 rows x 13 columns]"
      ]
     },
     "execution_count": 36,
     "metadata": {},
     "output_type": "execute_result"
    }
   ],
   "source": [
    "# frequency encoding\n",
    "df = pd.read_csv('Train.csv')\n",
    "frequency = df['Item_Type'].value_counts(normalize=False)\n",
    "df['Category_frequency_encoded'] = df['Item_Type'].map(frequency)\n",
    "df"
   ]
  },
  {
   "cell_type": "markdown",
   "id": "69f13712",
   "metadata": {},
   "source": [
    "<a id='skewness'></a>\n",
    "## <font color=red> 6. Skewness Removal </font>"
   ]
  },
  {
   "cell_type": "code",
   "execution_count": 37,
   "id": "1c9c871c",
   "metadata": {},
   "outputs": [
    {
     "name": "stderr",
     "output_type": "stream",
     "text": [
      "C:\\Users\\shema\\AppData\\Local\\Temp\\ipykernel_5004\\1588695641.py:1: UserWarning: \n",
      "\n",
      "`distplot` is a deprecated function and will be removed in seaborn v0.14.0.\n",
      "\n",
      "Please adapt your code to use either `displot` (a figure-level function with\n",
      "similar flexibility) or `histplot` (an axes-level function for histograms).\n",
      "\n",
      "For a guide to updating your code to use the new functions, please see\n",
      "https://gist.github.com/mwaskom/de44147ed2974457ad6372750bbe5751\n",
      "\n",
      "  sns.distplot(df['Item_Weight'], hist = True)\n"
     ]
    },
    {
     "data": {
      "text/plain": [
       "0.0824262091221237"
      ]
     },
     "execution_count": 37,
     "metadata": {},
     "output_type": "execute_result"
    },
    {
     "data": {
      "image/png": "[encoded data removed]",
      "text/plain": [
       "<Figure size 640x480 with 1 Axes>"
      ]
     },
     "metadata": {},
     "output_type": "display_data"
    }
   ],
   "source": [
    "sns.distplot(df['Item_Weight'], hist = True)\n",
    "df['Item_Weight'].skew()"
   ]
  },
  {
   "cell_type": "markdown",
   "id": "32895c84",
   "metadata": {},
   "source": [
    "### Since the 'Item_Weight' column is zero skew. There's no need to use transformation for it."
   ]
  },
  {
   "cell_type": "code",
   "execution_count": 38,
   "id": "b820cd95",
   "metadata": {},
   "outputs": [
    {
     "name": "stderr",
     "output_type": "stream",
     "text": [
      "C:\\Users\\shema\\AppData\\Local\\Temp\\ipykernel_5004\\874651.py:1: UserWarning: \n",
      "\n",
      "`distplot` is a deprecated function and will be removed in seaborn v0.14.0.\n",
      "\n",
      "Please adapt your code to use either `displot` (a figure-level function with\n",
      "similar flexibility) or `histplot` (an axes-level function for histograms).\n",
      "\n",
      "For a guide to updating your code to use the new functions, please see\n",
      "https://gist.github.com/mwaskom/de44147ed2974457ad6372750bbe5751\n",
      "\n",
      "  sns.distplot(df['Item_MRP'], hist = True)\n"
     ]
    },
    {
     "data": {
      "text/plain": [
       "0.1272022683110526"
      ]
     },
     "execution_count": 38,
     "metadata": {},
     "output_type": "execute_result"
    },
    {
     "data": {
      "image/png": "[encoded data removed]",
      "text/plain": [
       "<Figure size 640x480 with 1 Axes>"
      ]
     },
     "metadata": {},
     "output_type": "display_data"
    }
   ],
   "source": [
    "sns.distplot(df['Item_MRP'], hist = True)\n",
    "df['Item_MRP'].skew()"
   ]
  },
  {
   "cell_type": "code",
   "execution_count": 39,
   "id": "89747a83",
   "metadata": {},
   "outputs": [
    {
     "name": "stderr",
     "output_type": "stream",
     "text": [
      "C:\\Users\\shema\\AppData\\Local\\Temp\\ipykernel_5004\\1880045793.py:1: UserWarning: \n",
      "\n",
      "`distplot` is a deprecated function and will be removed in seaborn v0.14.0.\n",
      "\n",
      "Please adapt your code to use either `displot` (a figure-level function with\n",
      "similar flexibility) or `histplot` (an axes-level function for histograms).\n",
      "\n",
      "For a guide to updating your code to use the new functions, please see\n",
      "https://gist.github.com/mwaskom/de44147ed2974457ad6372750bbe5751\n",
      "\n",
      "  sns.distplot(df['Item_Outlet_Sales'], hist = True)\n"
     ]
    },
    {
     "data": {
      "text/plain": [
       "1.1775306028542796"
      ]
     },
     "execution_count": 39,
     "metadata": {},
     "output_type": "execute_result"
    },
    {
     "data": {
      "image/png": "[encoded data removed]",
      "text/plain": [
       "<Figure size 640x480 with 1 Axes>"
      ]
     },
     "metadata": {},
     "output_type": "display_data"
    }
   ],
   "source": [
    "sns.distplot(df['Item_Outlet_Sales'], hist = True)\n",
    "df['Item_Outlet_Sales'].skew()"
   ]
  },
  {
   "cell_type": "markdown",
   "id": "6bfbba61",
   "metadata": {},
   "source": [
    "### Since it is positive skew, we should use transformation methods for it."
   ]
  },
  {
   "cell_type": "markdown",
   "id": "c24b9bac",
   "metadata": {},
   "source": [
    "<a id='log'></a>\n",
    "## <font color=red> 6.1 Log transformation</font>"
   ]
  },
  {
   "cell_type": "code",
   "execution_count": 40,
   "id": "c018206e",
   "metadata": {},
   "outputs": [
    {
     "name": "stderr",
     "output_type": "stream",
     "text": [
      "C:\\Users\\shema\\AppData\\Local\\Temp\\ipykernel_5004\\2362707359.py:3: UserWarning: \n",
      "\n",
      "`distplot` is a deprecated function and will be removed in seaborn v0.14.0.\n",
      "\n",
      "Please adapt your code to use either `displot` (a figure-level function with\n",
      "similar flexibility) or `histplot` (an axes-level function for histograms).\n",
      "\n",
      "For a guide to updating your code to use the new functions, please see\n",
      "https://gist.github.com/mwaskom/de44147ed2974457ad6372750bbe5751\n",
      "\n",
      "  sns.distplot(log_transformation,hist=True)\n"
     ]
    },
    {
     "data": {
      "text/plain": [
       "<Axes: xlabel='Item_Outlet_Sales', ylabel='Density'>"
      ]
     },
     "execution_count": 40,
     "metadata": {},
     "output_type": "execute_result"
    },
    {
     "data": {
      "image/png": "[encoded data removed]",
      "text/plain": [
       "<Figure size 640x480 with 1 Axes>"
      ]
     },
     "metadata": {},
     "output_type": "display_data"
    }
   ],
   "source": [
    "# log transformation\n",
    "log_transformation = np.log(df['Item_Outlet_Sales'])\n",
    "sns.distplot(log_transformation,hist=True)"
   ]
  },
  {
   "cell_type": "code",
   "execution_count": 41,
   "id": "4066cb59",
   "metadata": {},
   "outputs": [
    {
     "data": {
      "text/plain": [
       "-0.887753343209305"
      ]
     },
     "execution_count": 41,
     "metadata": {},
     "output_type": "execute_result"
    }
   ],
   "source": [
    "log_transformation.skew()"
   ]
  },
  {
   "cell_type": "markdown",
   "id": "f97eb2ed",
   "metadata": {},
   "source": [
    "### The skew should be between -0.5 to 0.5. When we have used log transformation. The skew is showing -0.8. Since it is exceeding the skewness, we have to use another transformation method for it."
   ]
  },
  {
   "cell_type": "markdown",
   "id": "6ab2bd78",
   "metadata": {},
   "source": [
    "### Log transformation is used to transform skewed or highly skewed data into a more symmetrical or normally distributed form."
   ]
  },
  {
   "cell_type": "markdown",
   "id": "ca3b9cf7",
   "metadata": {},
   "source": [
    "<a id='sqrt'></a>\n",
    "## <font color=red> 6.2 Square root transformation</font>"
   ]
  },
  {
   "cell_type": "code",
   "execution_count": 42,
   "id": "49e4b815",
   "metadata": {},
   "outputs": [
    {
     "name": "stderr",
     "output_type": "stream",
     "text": [
      "C:\\Users\\shema\\AppData\\Local\\Temp\\ipykernel_5004\\3637884538.py:3: UserWarning: \n",
      "\n",
      "`distplot` is a deprecated function and will be removed in seaborn v0.14.0.\n",
      "\n",
      "Please adapt your code to use either `displot` (a figure-level function with\n",
      "similar flexibility) or `histplot` (an axes-level function for histograms).\n",
      "\n",
      "For a guide to updating your code to use the new functions, please see\n",
      "https://gist.github.com/mwaskom/de44147ed2974457ad6372750bbe5751\n",
      "\n",
      "  sns.distplot(sqrt_transformation,hist=True)\n"
     ]
    },
    {
     "data": {
      "text/plain": [
       "<Axes: xlabel='Item_Outlet_Sales', ylabel='Density'>"
      ]
     },
     "execution_count": 42,
     "metadata": {},
     "output_type": "execute_result"
    },
    {
     "data": {
      "image/png": "[encoded data removed]",
      "text/plain": [
       "<Figure size 640x480 with 1 Axes>"
      ]
     },
     "metadata": {},
     "output_type": "display_data"
    }
   ],
   "source": [
    "# square root transformation\n",
    "sqrt_transformation = np.sqrt(df['Item_Outlet_Sales'])\n",
    "sns.distplot(sqrt_transformation,hist=True)"
   ]
  },
  {
   "cell_type": "code",
   "execution_count": 43,
   "id": "ce28502e",
   "metadata": {},
   "outputs": [
    {
     "data": {
      "text/plain": [
       "0.23467599347099247"
      ]
     },
     "execution_count": 43,
     "metadata": {},
     "output_type": "execute_result"
    }
   ],
   "source": [
    "sqrt_transformation.skew()"
   ]
  },
  {
   "cell_type": "markdown",
   "id": "cf7f969e",
   "metadata": {},
   "source": [
    "### Square root transformation is a technique that applies the square root function to each data point in a dataset. It is used to stabilize the variance of data and reduce the impact on extreme values."
   ]
  },
  {
   "cell_type": "markdown",
   "id": "2e64eb43",
   "metadata": {},
   "source": [
    "<a id='boxcox'></a>\n",
    "## <font color=red> 6.3 Box cox transformation</font>"
   ]
  },
  {
   "cell_type": "markdown",
   "id": "439bfcf7",
   "metadata": {},
   "source": [
    "### After using both square root and box cox transformations, i got the values as 0.2 and -0.0. We have taken box cox transformation since it is perfectly skewed. Box cox transformation helps us to address non-normally distributed data by transforming it to normalize the data."
   ]
  },
  {
   "cell_type": "code",
   "execution_count": 44,
   "id": "c3b1ac8e",
   "metadata": {},
   "outputs": [
    {
     "name": "stderr",
     "output_type": "stream",
     "text": [
      "C:\\Users\\shema\\AppData\\Local\\Temp\\ipykernel_5004\\2354092938.py:5: UserWarning: \n",
      "\n",
      "`distplot` is a deprecated function and will be removed in seaborn v0.14.0.\n",
      "\n",
      "Please adapt your code to use either `displot` (a figure-level function with\n",
      "similar flexibility) or `histplot` (an axes-level function for histograms).\n",
      "\n",
      "For a guide to updating your code to use the new functions, please see\n",
      "https://gist.github.com/mwaskom/de44147ed2974457ad6372750bbe5751\n",
      "\n",
      "  sns.distplot(box_cox_transformed,hist=True)\n"
     ]
    },
    {
     "data": {
      "text/plain": [
       "<Axes: ylabel='Density'>"
      ]
     },
     "execution_count": 44,
     "metadata": {},
     "output_type": "execute_result"
    },
    {
     "data": {
      "image/png": "[encoded data removed]",
      "text/plain": [
       "<Figure size 640x480 with 1 Axes>"
      ]
     },
     "metadata": {},
     "output_type": "display_data"
    }
   ],
   "source": [
    "# box cox transformation\n",
    "from scipy.stats import boxcox\n",
    "transformation, lambda_param = boxcox(df['Item_Outlet_Sales'])\n",
    "box_cox_transformed = transformation\n",
    "sns.distplot(box_cox_transformed,hist=True)"
   ]
  },
  {
   "cell_type": "markdown",
   "id": "10c515ce",
   "metadata": {},
   "source": [
    "<a id='cih'></a>\n",
    "# <font color=red> 7. Class Imbalance Handler</font>"
   ]
  },
  {
   "cell_type": "markdown",
   "id": "0b277db0",
   "metadata": {},
   "source": [
    "<a id='performing_cih'></a>\n",
    "## <font color=red> 7.1 Performing class imbalance handler</font>"
   ]
  },
  {
   "cell_type": "code",
   "execution_count": 45,
   "id": "ff0e13e1",
   "metadata": {},
   "outputs": [
    {
     "data": {
      "text/plain": [
       "Fruits and Vegetables    1232\n",
       "Snack Foods              1200\n",
       "Household                 910\n",
       "Frozen Foods              856\n",
       "Dairy                     682\n",
       "Canned                    649\n",
       "Baking Goods              648\n",
       "Health and Hygiene        520\n",
       "Soft Drinks               445\n",
       "Meat                      425\n",
       "Breads                    251\n",
       "Hard Drinks               214\n",
       "Others                    169\n",
       "Starchy Foods             148\n",
       "Breakfast                 110\n",
       "Seafood                    64\n",
       "Name: Item_Type, dtype: int64"
      ]
     },
     "execution_count": 45,
     "metadata": {},
     "output_type": "execute_result"
    }
   ],
   "source": [
    "df['Item_Type'].value_counts()"
   ]
  },
  {
   "cell_type": "markdown",
   "id": "82cf7813",
   "metadata": {},
   "source": [
    "### Here i have taken a categorical variable and done value_counts to check the variables which have been used.\n",
    "### Here the variables are not equal to each other. So now we need to use SMOTE to treat all the variables equally.\n",
    "### SMOTE(Synthetic Minority Over-Sampling Technique) is used in Class Imbalance when the number of instances in minority class is lower than the number of instances in majority class. So we use SMOTE, it generates synthetic samples for minority class, increasing the representation in the dataset."
   ]
  },
  {
   "cell_type": "code",
   "execution_count": 57,
   "id": "f0a7e244",
   "metadata": {},
   "outputs": [],
   "source": [
    "# label encoding\n",
    "from sklearn.preprocessing import LabelEncoder\n",
    "label_encoder = LabelEncoder()\n",
    "df['Identifier_Label'] = label_encoder.fit_transform(df['Item_Identifier'])\n",
    "df['Fat_Content_Label'] = label_encoder.fit_transform(df['Item_Fat_Content'])\n",
    "df['Outlet_Label'] = label_encoder.fit_transform(df['Outlet_Identifier'])\n",
    "df['Outlet_Size_Label'] = label_encoder.fit_transform(df['Outlet_Size'])\n",
    "df['Outlet_Location_Type_Label'] = label_encoder.fit_transform(df['Outlet_Location_Type'])\n",
    "df['Outlet_Type_Label'] = label_encoder.fit_transform(df['Outlet_Type'])"
   ]
  },
  {
   "cell_type": "markdown",
   "id": "2995788b",
   "metadata": {},
   "source": [
    "### Here i have used label encoding to change the categorical variables to numerical values, because statistics takes only numerical values only."
   ]
  },
  {
   "cell_type": "code",
   "execution_count": 58,
   "id": "21290f5f",
   "metadata": {},
   "outputs": [],
   "source": [
    "X = df[['Identifier_Label','Item_Weight','Fat_Content_Label','Item_Visibility','Item_MRP','Outlet_Label','Outlet_Establishment_Year','Outlet_Size_Label','Outlet_Location_Type_Label','Outlet_Type_Label','Item_Outlet_Sales']]\n",
    "Y = df['Item_Type']"
   ]
  },
  {
   "cell_type": "markdown",
   "id": "fae6f268",
   "metadata": {},
   "source": [
    "### For the variable X, I've taken all the columns in the dataset except the 'Item_Type' column.\n",
    "### For the variable Y, I've taken the column 'Item_Type'."
   ]
  },
  {
   "cell_type": "code",
   "execution_count": 59,
   "id": "829ca87d",
   "metadata": {},
   "outputs": [],
   "source": [
    "from sklearn.model_selection import train_test_split\n",
    "X_train,X_test,y_train,y_test = train_test_split(X,Y,test_size=0.3)"
   ]
  },
  {
   "cell_type": "markdown",
   "id": "a465b8e3",
   "metadata": {},
   "source": [
    "### Here i have used train_test_split to split the variables X and Y and put into X_train and Y_train"
   ]
  },
  {
   "cell_type": "code",
   "execution_count": 60,
   "id": "d56b047d",
   "metadata": {},
   "outputs": [],
   "source": [
    "from imblearn.over_sampling import SMOTE\n",
    "smote = SMOTE()"
   ]
  },
  {
   "cell_type": "code",
   "execution_count": 61,
   "id": "52c94e0c",
   "metadata": {},
   "outputs": [],
   "source": [
    "X_train_smote, y_train_smote = smote.fit_resample(X_train,y_train)"
   ]
  },
  {
   "cell_type": "markdown",
   "id": "7b29e085",
   "metadata": {},
   "source": [
    "### After using the smote method, i have set the X_train and Y_train variables to a new variables called X_train_smote and Y_train_smote."
   ]
  },
  {
   "cell_type": "code",
   "execution_count": 62,
   "id": "f6d9f965",
   "metadata": {},
   "outputs": [
    {
     "name": "stdout",
     "output_type": "stream",
     "text": [
      "Before SMOTE:  Counter({'Fruits and Vegetables': 852, 'Snack Foods': 850, 'Household': 639, 'Frozen Foods': 584, 'Dairy': 472, 'Canned': 451, 'Baking Goods': 449, 'Health and Hygiene': 364, 'Soft Drinks': 320, 'Meat': 307, 'Breads': 173, 'Hard Drinks': 157, 'Others': 125, 'Starchy Foods': 105, 'Breakfast': 73, 'Seafood': 45})\n",
      "After SMOTE:  Counter({'Meat': 852, 'Hard Drinks': 852, 'Fruits and Vegetables': 852, 'Dairy': 852, 'Seafood': 852, 'Frozen Foods': 852, 'Canned': 852, 'Baking Goods': 852, 'Household': 852, 'Soft Drinks': 852, 'Snack Foods': 852, 'Breads': 852, 'Others': 852, 'Health and Hygiene': 852, 'Starchy Foods': 852, 'Breakfast': 852})\n"
     ]
    }
   ],
   "source": [
    "from collections import Counter\n",
    "print('Before SMOTE: ', Counter(y_train))\n",
    "print('After SMOTE: ', Counter(y_train_smote))"
   ]
  },
  {
   "cell_type": "markdown",
   "id": "a5565d33",
   "metadata": {},
   "source": [
    "### We can see the count difference of the target variable y_train and y_train_smote. So here we have created new synthetic samples for filling the minority class"
   ]
  },
  {
   "cell_type": "code",
   "execution_count": 63,
   "id": "d6502ea2",
   "metadata": {},
   "outputs": [
    {
     "data": {
      "text/plain": [
       "<Axes: title={'center': 'Class distribution after appying SMOTE'}>"
      ]
     },
     "execution_count": 63,
     "metadata": {},
     "output_type": "execute_result"
    },
    {
     "data": {
      "image/png": "[encoded data removed]",
      "text/plain": [
       "<Figure size 640x480 with 1 Axes>"
      ]
     },
     "metadata": {},
     "output_type": "display_data"
    }
   ],
   "source": [
    "pd.Series(y_train_smote).value_counts().plot(kind='bar', title='Class distribution after appying SMOTE')"
   ]
  },
  {
   "cell_type": "markdown",
   "id": "748a3052",
   "metadata": {},
   "source": [
    "<a id='multicollinearity'></a>\n",
    "# <font color=red> 8. Multicollinearity Handler</font>"
   ]
  },
  {
   "cell_type": "code",
   "execution_count": 64,
   "id": "b73bd090",
   "metadata": {},
   "outputs": [
    {
     "data": {
      "text/plain": [
       "(8523, 19)"
      ]
     },
     "execution_count": 64,
     "metadata": {},
     "output_type": "execute_result"
    }
   ],
   "source": [
    "df.shape"
   ]
  },
  {
   "cell_type": "code",
   "execution_count": 65,
   "id": "8b98d0a4",
   "metadata": {},
   "outputs": [
    {
     "data": {
      "text/plain": [
       "Item_Identifier                object\n",
       "Item_Weight                   float64\n",
       "Item_Fat_Content               object\n",
       "Item_Visibility               float64\n",
       "Item_Type                      object\n",
       "Item_MRP                      float64\n",
       "Outlet_Identifier              object\n",
       "Outlet_Establishment_Year       int64\n",
       "Outlet_Size                    object\n",
       "Outlet_Location_Type           object\n",
       "Outlet_Type                    object\n",
       "Item_Outlet_Sales             float64\n",
       "Category_frequency_encoded      int64\n",
       "Identifier_Label                int32\n",
       "Fat_Content_Label               int32\n",
       "Outlet_Label                    int32\n",
       "Outlet_Size_Label               int32\n",
       "Outlet_Location_Type_Label      int32\n",
       "Outlet_Type_Label               int32\n",
       "dtype: object"
      ]
     },
     "execution_count": 65,
     "metadata": {},
     "output_type": "execute_result"
    }
   ],
   "source": [
    "df.dtypes"
   ]
  },
  {
   "cell_type": "markdown",
   "id": "9c6e368e",
   "metadata": {},
   "source": [
    "### Here, we can take datatypes of numeric values only, categorical variables cannot be taken. "
   ]
  },
  {
   "cell_type": "code",
   "execution_count": 66,
   "id": "bab48045",
   "metadata": {},
   "outputs": [
    {
     "data": {
      "text/plain": [
       "array([dtype('O'), dtype('float64'), dtype('int64'), dtype('int32')],\n",
       "      dtype=object)"
      ]
     },
     "execution_count": 66,
     "metadata": {},
     "output_type": "execute_result"
    }
   ],
   "source": [
    "df.dtypes.unique()"
   ]
  },
  {
   "cell_type": "markdown",
   "id": "1de816a6",
   "metadata": {},
   "source": [
    "### When checking for unique datatypes, there are four types of datatypes, object, float64, int64 and int32."
   ]
  },
  {
   "cell_type": "code",
   "execution_count": 67,
   "id": "7ecc3102",
   "metadata": {},
   "outputs": [],
   "source": [
    "num = ['int64','float64']\n",
    "num_var = list(df.select_dtypes(include=num))"
   ]
  },
  {
   "cell_type": "markdown",
   "id": "e6026a1e",
   "metadata": {},
   "source": [
    "### Here i have taken a variable called 'num' and i have added what type of datatype columns i need. So i have taken int64 and float64 datatypes. Then in the num_var variable, i have selected the columns of the datatypes int64 and float64."
   ]
  },
  {
   "cell_type": "code",
   "execution_count": 68,
   "id": "aa3c584e",
   "metadata": {},
   "outputs": [
    {
     "data": {
      "text/plain": [
       "['Item_Weight',\n",
       " 'Item_Visibility',\n",
       " 'Item_MRP',\n",
       " 'Outlet_Establishment_Year',\n",
       " 'Item_Outlet_Sales',\n",
       " 'Category_frequency_encoded']"
      ]
     },
     "execution_count": 68,
     "metadata": {},
     "output_type": "execute_result"
    }
   ],
   "source": [
    "num_var"
   ]
  },
  {
   "cell_type": "code",
   "execution_count": 69,
   "id": "a7ecf207",
   "metadata": {},
   "outputs": [],
   "source": [
    "df = df[num_var]"
   ]
  },
  {
   "cell_type": "markdown",
   "id": "fa54328b",
   "metadata": {},
   "source": [
    "### We put this specific columns stored in num_var variable will be stored in df."
   ]
  },
  {
   "cell_type": "code",
   "execution_count": 70,
   "id": "c987cb02",
   "metadata": {},
   "outputs": [
    {
     "data": {
      "text/plain": [
       "(8523, 6)"
      ]
     },
     "execution_count": 70,
     "metadata": {},
     "output_type": "execute_result"
    }
   ],
   "source": [
    "df.shape"
   ]
  },
  {
   "cell_type": "markdown",
   "id": "001f0ed9",
   "metadata": {},
   "source": [
    "### We have to check for the null values of these five columns."
   ]
  },
  {
   "cell_type": "code",
   "execution_count": 71,
   "id": "217c60b3",
   "metadata": {},
   "outputs": [
    {
     "data": {
      "text/plain": [
       "Item_Weight                   0\n",
       "Item_Visibility               0\n",
       "Item_MRP                      0\n",
       "Outlet_Establishment_Year     0\n",
       "Item_Outlet_Sales             0\n",
       "Category_frequency_encoded    0\n",
       "dtype: int64"
      ]
     },
     "execution_count": 71,
     "metadata": {},
     "output_type": "execute_result"
    }
   ],
   "source": [
    "df.isnull().sum()"
   ]
  },
  {
   "cell_type": "markdown",
   "id": "3b176679",
   "metadata": {},
   "source": [
    "### We have checked the null values in the selected columns. And we don't have any null values, but if we have, we have to either remove it or fill it."
   ]
  },
  {
   "cell_type": "code",
   "execution_count": 72,
   "id": "d1a9e6db",
   "metadata": {},
   "outputs": [],
   "source": [
    "X = df.iloc[:,0:5]\n",
    "y = df.iloc[:,-4]"
   ]
  },
  {
   "cell_type": "markdown",
   "id": "db9fa375",
   "metadata": {},
   "source": [
    "### We take two variables X and y. In X, we store all the columns. In y, we store only one column."
   ]
  },
  {
   "cell_type": "code",
   "execution_count": 73,
   "id": "5ff0d170",
   "metadata": {},
   "outputs": [
    {
     "data": {
      "text/html": [
       "<div>\n",
       "<style scoped>\n",
       "    .dataframe tbody tr th:only-of-type {\n",
       "        vertical-align: middle;\n",
       "    }\n",
       "\n",
       "    .dataframe tbody tr th {\n",
       "        vertical-align: top;\n",
       "    }\n",
       "\n",
       "    .dataframe thead th {\n",
       "        text-align: right;\n",
       "    }\n",
       "</style>\n",
       "<table border=\"1\" class=\"dataframe\">\n",
       "  <thead>\n",
       "    <tr style=\"text-align: right;\">\n",
       "      <th></th>\n",
       "      <th>Item_Weight</th>\n",
       "      <th>Item_Visibility</th>\n",
       "      <th>Item_MRP</th>\n",
       "      <th>Outlet_Establishment_Year</th>\n",
       "      <th>Item_Outlet_Sales</th>\n",
       "    </tr>\n",
       "  </thead>\n",
       "  <tbody>\n",
       "    <tr>\n",
       "      <th>0</th>\n",
       "      <td>9.30</td>\n",
       "      <td>0.016047</td>\n",
       "      <td>249.8092</td>\n",
       "      <td>1999</td>\n",
       "      <td>3735.1380</td>\n",
       "    </tr>\n",
       "    <tr>\n",
       "      <th>1</th>\n",
       "      <td>5.92</td>\n",
       "      <td>0.019278</td>\n",
       "      <td>48.2692</td>\n",
       "      <td>2009</td>\n",
       "      <td>443.4228</td>\n",
       "    </tr>\n",
       "    <tr>\n",
       "      <th>2</th>\n",
       "      <td>17.50</td>\n",
       "      <td>0.016760</td>\n",
       "      <td>141.6180</td>\n",
       "      <td>1999</td>\n",
       "      <td>2097.2700</td>\n",
       "    </tr>\n",
       "    <tr>\n",
       "      <th>3</th>\n",
       "      <td>19.20</td>\n",
       "      <td>0.000000</td>\n",
       "      <td>182.0950</td>\n",
       "      <td>1998</td>\n",
       "      <td>732.3800</td>\n",
       "    </tr>\n",
       "    <tr>\n",
       "      <th>4</th>\n",
       "      <td>8.93</td>\n",
       "      <td>0.000000</td>\n",
       "      <td>53.8614</td>\n",
       "      <td>1987</td>\n",
       "      <td>994.7052</td>\n",
       "    </tr>\n",
       "  </tbody>\n",
       "</table>\n",
       "</div>"
      ],
      "text/plain": [
       "   Item_Weight  Item_Visibility  Item_MRP  Outlet_Establishment_Year  \\\n",
       "0         9.30         0.016047  249.8092                       1999   \n",
       "1         5.92         0.019278   48.2692                       2009   \n",
       "2        17.50         0.016760  141.6180                       1999   \n",
       "3        19.20         0.000000  182.0950                       1998   \n",
       "4         8.93         0.000000   53.8614                       1987   \n",
       "\n",
       "   Item_Outlet_Sales  \n",
       "0          3735.1380  \n",
       "1           443.4228  \n",
       "2          2097.2700  \n",
       "3           732.3800  \n",
       "4           994.7052  "
      ]
     },
     "execution_count": 73,
     "metadata": {},
     "output_type": "execute_result"
    }
   ],
   "source": [
    "X.head()"
   ]
  },
  {
   "cell_type": "code",
   "execution_count": 74,
   "id": "837efee2",
   "metadata": {},
   "outputs": [],
   "source": [
    "from sklearn.model_selection import train_test_split"
   ]
  },
  {
   "cell_type": "code",
   "execution_count": 75,
   "id": "7368e18a",
   "metadata": {},
   "outputs": [],
   "source": [
    "X_train, X_test, y_train, y_test = train_test_split(X, y, test_size=0.3)"
   ]
  },
  {
   "cell_type": "markdown",
   "id": "0297b7ce",
   "metadata": {},
   "source": [
    "### Here i have used train_test_split to split the variables X and y and put into X_train and y_train"
   ]
  },
  {
   "cell_type": "code",
   "execution_count": 76,
   "id": "e7b66abd",
   "metadata": {},
   "outputs": [],
   "source": [
    "corr_matrix = X_train.corr()"
   ]
  },
  {
   "cell_type": "markdown",
   "id": "d4580f01",
   "metadata": {},
   "source": [
    "### Then for the X_train variable we are calculation the correlation matrix and storing it in the variable called corr_matrix"
   ]
  },
  {
   "cell_type": "code",
   "execution_count": 77,
   "id": "c58abd76",
   "metadata": {},
   "outputs": [
    {
     "data": {
      "text/html": [
       "<div>\n",
       "<style scoped>\n",
       "    .dataframe tbody tr th:only-of-type {\n",
       "        vertical-align: middle;\n",
       "    }\n",
       "\n",
       "    .dataframe tbody tr th {\n",
       "        vertical-align: top;\n",
       "    }\n",
       "\n",
       "    .dataframe thead th {\n",
       "        text-align: right;\n",
       "    }\n",
       "</style>\n",
       "<table border=\"1\" class=\"dataframe\">\n",
       "  <thead>\n",
       "    <tr style=\"text-align: right;\">\n",
       "      <th></th>\n",
       "      <th>Item_Weight</th>\n",
       "      <th>Item_Visibility</th>\n",
       "      <th>Item_MRP</th>\n",
       "      <th>Outlet_Establishment_Year</th>\n",
       "      <th>Item_Outlet_Sales</th>\n",
       "    </tr>\n",
       "  </thead>\n",
       "  <tbody>\n",
       "    <tr>\n",
       "      <th>Item_Weight</th>\n",
       "      <td>1.000000</td>\n",
       "      <td>-0.020518</td>\n",
       "      <td>0.017835</td>\n",
       "      <td>-0.009590</td>\n",
       "      <td>0.018860</td>\n",
       "    </tr>\n",
       "    <tr>\n",
       "      <th>Item_Visibility</th>\n",
       "      <td>-0.020518</td>\n",
       "      <td>1.000000</td>\n",
       "      <td>0.002537</td>\n",
       "      <td>-0.083213</td>\n",
       "      <td>-0.125009</td>\n",
       "    </tr>\n",
       "    <tr>\n",
       "      <th>Item_MRP</th>\n",
       "      <td>0.017835</td>\n",
       "      <td>0.002537</td>\n",
       "      <td>1.000000</td>\n",
       "      <td>0.013613</td>\n",
       "      <td>0.563732</td>\n",
       "    </tr>\n",
       "    <tr>\n",
       "      <th>Outlet_Establishment_Year</th>\n",
       "      <td>-0.009590</td>\n",
       "      <td>-0.083213</td>\n",
       "      <td>0.013613</td>\n",
       "      <td>1.000000</td>\n",
       "      <td>-0.037021</td>\n",
       "    </tr>\n",
       "    <tr>\n",
       "      <th>Item_Outlet_Sales</th>\n",
       "      <td>0.018860</td>\n",
       "      <td>-0.125009</td>\n",
       "      <td>0.563732</td>\n",
       "      <td>-0.037021</td>\n",
       "      <td>1.000000</td>\n",
       "    </tr>\n",
       "  </tbody>\n",
       "</table>\n",
       "</div>"
      ],
      "text/plain": [
       "                           Item_Weight  Item_Visibility  Item_MRP  \\\n",
       "Item_Weight                   1.000000        -0.020518  0.017835   \n",
       "Item_Visibility              -0.020518         1.000000  0.002537   \n",
       "Item_MRP                      0.017835         0.002537  1.000000   \n",
       "Outlet_Establishment_Year    -0.009590        -0.083213  0.013613   \n",
       "Item_Outlet_Sales             0.018860        -0.125009  0.563732   \n",
       "\n",
       "                           Outlet_Establishment_Year  Item_Outlet_Sales  \n",
       "Item_Weight                                -0.009590           0.018860  \n",
       "Item_Visibility                            -0.083213          -0.125009  \n",
       "Item_MRP                                    0.013613           0.563732  \n",
       "Outlet_Establishment_Year                   1.000000          -0.037021  \n",
       "Item_Outlet_Sales                          -0.037021           1.000000  "
      ]
     },
     "execution_count": 77,
     "metadata": {},
     "output_type": "execute_result"
    }
   ],
   "source": [
    "corr_matrix"
   ]
  },
  {
   "cell_type": "code",
   "execution_count": 78,
   "id": "a8c2ae79",
   "metadata": {},
   "outputs": [
    {
     "data": {
      "text/plain": [
       "<Axes: >"
      ]
     },
     "execution_count": 78,
     "metadata": {},
     "output_type": "execute_result"
    },
    {
     "data": {
      "image/png": "[encoded data removed]",
      "text/plain": [
       "<Figure size 640x480 with 2 Axes>"
      ]
     },
     "metadata": {},
     "output_type": "display_data"
    }
   ],
   "source": [
    "sns.heatmap(corr_matrix)"
   ]
  },
  {
   "cell_type": "code",
   "execution_count": 79,
   "id": "d822d035",
   "metadata": {},
   "outputs": [],
   "source": [
    "def correlation(df, threshold):\n",
    "    correlated_col = set()\n",
    "    corrmatrix = df.corr()\n",
    "    for i in range(len(corrmatrix.columns)):\n",
    "        for j in range(i):\n",
    "            if abs(corrmatrix.iloc[i,j]) > threshold:\n",
    "                coln = corrmatrix.columns[i]\n",
    "                correlated_col.add(coln)\n",
    "    return correlated_col"
   ]
  },
  {
   "cell_type": "markdown",
   "id": "2d4974a6",
   "metadata": {},
   "source": [
    "### I have defined correlation to identify the columns that have correlation coefficient greater than the given threshold value."
   ]
  },
  {
   "cell_type": "code",
   "execution_count": 80,
   "id": "53da3479",
   "metadata": {},
   "outputs": [
    {
     "data": {
      "text/plain": [
       "{'Item_Outlet_Sales'}"
      ]
     },
     "execution_count": 80,
     "metadata": {},
     "output_type": "execute_result"
    }
   ],
   "source": [
    "correlation(X_train, 0.5)"
   ]
  },
  {
   "cell_type": "markdown",
   "id": "5569ceb7",
   "metadata": {},
   "source": [
    "### I have kept threshold as 0.5 means 50%, then only the column 'Item_Outlet_Sales' has correlation"
   ]
  },
  {
   "cell_type": "markdown",
   "id": "3279060a",
   "metadata": {},
   "source": [
    "### We have to remove the column 'Item_Outlet_Sales' because it is highly correlated."
   ]
  },
  {
   "cell_type": "code",
   "execution_count": 81,
   "id": "e0ef5e81",
   "metadata": {},
   "outputs": [],
   "source": [
    "corr_feature = correlation(X_train, 0.5)"
   ]
  },
  {
   "cell_type": "markdown",
   "id": "358c7cad",
   "metadata": {},
   "source": [
    "### Here we put the correlation(X_train, 0.5) in the variable corr_feature"
   ]
  },
  {
   "cell_type": "code",
   "execution_count": 82,
   "id": "d3b97f9e",
   "metadata": {},
   "outputs": [
    {
     "data": {
      "text/plain": [
       "{'Item_Outlet_Sales'}"
      ]
     },
     "execution_count": 82,
     "metadata": {},
     "output_type": "execute_result"
    }
   ],
   "source": [
    "corr_feature"
   ]
  },
  {
   "cell_type": "code",
   "execution_count": 83,
   "id": "a8065f80",
   "metadata": {},
   "outputs": [
    {
     "data": {
      "text/plain": [
       "((5966, 5), (2557, 5))"
      ]
     },
     "execution_count": 83,
     "metadata": {},
     "output_type": "execute_result"
    }
   ],
   "source": [
    "X_train.shape, X_test.shape"
   ]
  },
  {
   "cell_type": "code",
   "execution_count": 84,
   "id": "dfc6cfe5",
   "metadata": {},
   "outputs": [],
   "source": [
    "X_train.drop(labels=corr_feature, axis=1, inplace=True)\n",
    "X_test.drop(labels=corr_feature, axis=1, inplace=True)"
   ]
  },
  {
   "cell_type": "markdown",
   "id": "1bd10870",
   "metadata": {},
   "source": [
    "### Here we drop the column 'Item_Outlet_Sales' in the X_train. Before we have 5 columns after we exectued this code now we have 4 columns. "
   ]
  },
  {
   "cell_type": "code",
   "execution_count": 85,
   "id": "8a333bee",
   "metadata": {},
   "outputs": [
    {
     "data": {
      "text/plain": [
       "((5966, 4), (2557, 4))"
      ]
     },
     "execution_count": 85,
     "metadata": {},
     "output_type": "execute_result"
    }
   ],
   "source": [
    "X_train.shape, X_test.shape"
   ]
  },
  {
   "cell_type": "markdown",
   "id": "1c83a6cb",
   "metadata": {},
   "source": [
    "<a id='dimensionality'></a>\n",
    "# <font color=red> 9. Dimensionality reduction</font>"
   ]
  },
  {
   "cell_type": "markdown",
   "id": "3b96add4",
   "metadata": {},
   "source": [
    "<a id='feature_selection'></a>\n",
    "## <font color=red> 9.1 Feature selection </font>"
   ]
  },
  {
   "cell_type": "code",
   "execution_count": 100,
   "id": "40ab1b21",
   "metadata": {},
   "outputs": [
    {
     "data": {
      "text/html": [
       "<div>\n",
       "<style scoped>\n",
       "    .dataframe tbody tr th:only-of-type {\n",
       "        vertical-align: middle;\n",
       "    }\n",
       "\n",
       "    .dataframe tbody tr th {\n",
       "        vertical-align: top;\n",
       "    }\n",
       "\n",
       "    .dataframe thead th {\n",
       "        text-align: right;\n",
       "    }\n",
       "</style>\n",
       "<table border=\"1\" class=\"dataframe\">\n",
       "  <thead>\n",
       "    <tr style=\"text-align: right;\">\n",
       "      <th></th>\n",
       "      <th>Item_Weight</th>\n",
       "      <th>Item_MRP</th>\n",
       "    </tr>\n",
       "  </thead>\n",
       "  <tbody>\n",
       "    <tr>\n",
       "      <th>0</th>\n",
       "      <td>9.300</td>\n",
       "      <td>249.8092</td>\n",
       "    </tr>\n",
       "    <tr>\n",
       "      <th>1</th>\n",
       "      <td>5.920</td>\n",
       "      <td>48.2692</td>\n",
       "    </tr>\n",
       "    <tr>\n",
       "      <th>2</th>\n",
       "      <td>17.500</td>\n",
       "      <td>141.6180</td>\n",
       "    </tr>\n",
       "    <tr>\n",
       "      <th>3</th>\n",
       "      <td>19.200</td>\n",
       "      <td>182.0950</td>\n",
       "    </tr>\n",
       "    <tr>\n",
       "      <th>4</th>\n",
       "      <td>8.930</td>\n",
       "      <td>53.8614</td>\n",
       "    </tr>\n",
       "    <tr>\n",
       "      <th>...</th>\n",
       "      <td>...</td>\n",
       "      <td>...</td>\n",
       "    </tr>\n",
       "    <tr>\n",
       "      <th>8518</th>\n",
       "      <td>6.865</td>\n",
       "      <td>214.5218</td>\n",
       "    </tr>\n",
       "    <tr>\n",
       "      <th>8519</th>\n",
       "      <td>8.380</td>\n",
       "      <td>108.1570</td>\n",
       "    </tr>\n",
       "    <tr>\n",
       "      <th>8520</th>\n",
       "      <td>10.600</td>\n",
       "      <td>85.1224</td>\n",
       "    </tr>\n",
       "    <tr>\n",
       "      <th>8521</th>\n",
       "      <td>7.210</td>\n",
       "      <td>103.1332</td>\n",
       "    </tr>\n",
       "    <tr>\n",
       "      <th>8522</th>\n",
       "      <td>14.800</td>\n",
       "      <td>75.4670</td>\n",
       "    </tr>\n",
       "  </tbody>\n",
       "</table>\n",
       "<p>8523 rows × 2 columns</p>\n",
       "</div>"
      ],
      "text/plain": [
       "      Item_Weight  Item_MRP\n",
       "0           9.300  249.8092\n",
       "1           5.920   48.2692\n",
       "2          17.500  141.6180\n",
       "3          19.200  182.0950\n",
       "4           8.930   53.8614\n",
       "...           ...       ...\n",
       "8518        6.865  214.5218\n",
       "8519        8.380  108.1570\n",
       "8520       10.600   85.1224\n",
       "8521        7.210  103.1332\n",
       "8522       14.800   75.4670\n",
       "\n",
       "[8523 rows x 2 columns]"
      ]
     },
     "execution_count": 100,
     "metadata": {},
     "output_type": "execute_result"
    }
   ],
   "source": [
    "df1 = pd.DataFrame(df, columns=['Item_Weight','Item_MRP'])\n",
    "correlation = df1.corr()\n",
    "relevant_features = correlation['Item_Weight'].abs().nlargest(2).index\n",
    "df_reduced = df1[relevant_features]\n",
    "df_reduced"
   ]
  },
  {
   "cell_type": "markdown",
   "id": "eb46e39d",
   "metadata": {},
   "source": [
    "<a id='pca'></a>\n",
    "## <font color=red> 9.2 PCA </font>"
   ]
  },
  {
   "cell_type": "code",
   "execution_count": 87,
   "id": "ad7415e4",
   "metadata": {},
   "outputs": [
    {
     "data": {
      "text/html": [
       "<div>\n",
       "<style scoped>\n",
       "    .dataframe tbody tr th:only-of-type {\n",
       "        vertical-align: middle;\n",
       "    }\n",
       "\n",
       "    .dataframe tbody tr th {\n",
       "        vertical-align: top;\n",
       "    }\n",
       "\n",
       "    .dataframe thead th {\n",
       "        text-align: right;\n",
       "    }\n",
       "</style>\n",
       "<table border=\"1\" class=\"dataframe\">\n",
       "  <thead>\n",
       "    <tr style=\"text-align: right;\">\n",
       "      <th></th>\n",
       "      <th>PC1</th>\n",
       "      <th>PC2</th>\n",
       "    </tr>\n",
       "  </thead>\n",
       "  <tbody>\n",
       "    <tr>\n",
       "      <th>0</th>\n",
       "      <td>1.839867</td>\n",
       "      <td>-0.915925</td>\n",
       "    </tr>\n",
       "    <tr>\n",
       "      <th>1</th>\n",
       "      <td>-1.845404</td>\n",
       "      <td>-1.565327</td>\n",
       "    </tr>\n",
       "    <tr>\n",
       "      <th>2</th>\n",
       "      <td>0.021871</td>\n",
       "      <td>1.099228</td>\n",
       "    </tr>\n",
       "    <tr>\n",
       "      <th>3</th>\n",
       "      <td>-0.065462</td>\n",
       "      <td>1.522704</td>\n",
       "    </tr>\n",
       "    <tr>\n",
       "      <th>4</th>\n",
       "      <td>-1.521695</td>\n",
       "      <td>-0.869752</td>\n",
       "    </tr>\n",
       "    <tr>\n",
       "      <th>...</th>\n",
       "      <td>...</td>\n",
       "      <td>...</td>\n",
       "    </tr>\n",
       "    <tr>\n",
       "      <th>8518</th>\n",
       "      <td>1.017528</td>\n",
       "      <td>-1.455590</td>\n",
       "    </tr>\n",
       "    <tr>\n",
       "      <th>8519</th>\n",
       "      <td>-1.095743</td>\n",
       "      <td>-1.006045</td>\n",
       "    </tr>\n",
       "    <tr>\n",
       "      <th>8520</th>\n",
       "      <td>-1.067022</td>\n",
       "      <td>-0.490250</td>\n",
       "    </tr>\n",
       "    <tr>\n",
       "      <th>8521</th>\n",
       "      <td>-0.628812</td>\n",
       "      <td>-1.314028</td>\n",
       "    </tr>\n",
       "    <tr>\n",
       "      <th>8522</th>\n",
       "      <td>-1.308648</td>\n",
       "      <td>0.516524</td>\n",
       "    </tr>\n",
       "  </tbody>\n",
       "</table>\n",
       "<p>8523 rows × 2 columns</p>\n",
       "</div>"
      ],
      "text/plain": [
       "           PC1       PC2\n",
       "0     1.839867 -0.915925\n",
       "1    -1.845404 -1.565327\n",
       "2     0.021871  1.099228\n",
       "3    -0.065462  1.522704\n",
       "4    -1.521695 -0.869752\n",
       "...        ...       ...\n",
       "8518  1.017528 -1.455590\n",
       "8519 -1.095743 -1.006045\n",
       "8520 -1.067022 -0.490250\n",
       "8521 -0.628812 -1.314028\n",
       "8522 -1.308648  0.516524\n",
       "\n",
       "[8523 rows x 2 columns]"
      ]
     },
     "execution_count": 87,
     "metadata": {},
     "output_type": "execute_result"
    }
   ],
   "source": [
    "from sklearn.decomposition import PCA\n",
    "from sklearn.preprocessing import StandardScaler\n",
    "feature_columns = ['Item_Weight','Item_MRP','Item_Outlet_Sales']\n",
    "df_features = df[feature_columns]\n",
    "scaler = StandardScaler()\n",
    "scaled_data = scaler.fit_transform(df_features)\n",
    "pca = PCA(n_components=2)\n",
    "pca_data = pca.fit_transform(scaled_data)\n",
    "df_reduced = pd.DataFrame(pca_data, columns=['PC1','PC2'])\n",
    "df_reduced"
   ]
  },
  {
   "cell_type": "markdown",
   "id": "8c3f297f",
   "metadata": {},
   "source": [
    "### PCA(Principal Component Analysis) it is a dimensionality reduction technique used to transform high-dimensional data into low-dimensional space while preserving the most important pattern and variances in the data."
   ]
  },
  {
   "cell_type": "code",
   "execution_count": 88,
   "id": "0239f801",
   "metadata": {},
   "outputs": [
    {
     "data": {
      "text/plain": [
       "((8523, 3), (8523, 2))"
      ]
     },
     "execution_count": 88,
     "metadata": {},
     "output_type": "execute_result"
    }
   ],
   "source": [
    "df_features.shape, df_reduced.shape"
   ]
  },
  {
   "cell_type": "code",
   "execution_count": 89,
   "id": "8375ffe7",
   "metadata": {},
   "outputs": [
    {
     "data": {
      "image/png": "[encoded data removed]",
      "text/plain": [
       "<Figure size 640x480 with 1 Axes>"
      ]
     },
     "metadata": {},
     "output_type": "display_data"
    }
   ],
   "source": [
    "plt.scatter(df_reduced['PC1'],df_reduced['PC2'])\n",
    "plt.xlabel('PC1')\n",
    "plt.ylabel('PC2')\n",
    "plt.show()"
   ]
  },
  {
   "cell_type": "markdown",
   "id": "3ea36482",
   "metadata": {},
   "source": [
    "### <div class=\"alert alert-info\"> Here we perform PCA for the features 'Item_Weight', 'Item_MRP' and 'Item_Outlet_Sales' from the dataframe df. The features are scaled using standardscaler and pca is applied to reduce the dimensionality of the data. The transformed data is stored in the df_reduced variable.</div>"
   ]
  },
  {
   "cell_type": "markdown",
   "id": "69732bd8",
   "metadata": {},
   "source": [
    "<a id='scaling'></a>\n",
    "# <font color=red> 10. Feature Scaling</font>"
   ]
  },
  {
   "cell_type": "markdown",
   "id": "4943838b",
   "metadata": {},
   "source": [
    "<a id='minmax'></a>\n",
    "## <font color=red> 10.1 Min max scaling</font>"
   ]
  },
  {
   "cell_type": "code",
   "execution_count": 90,
   "id": "e858be29",
   "metadata": {},
   "outputs": [
    {
     "data": {
      "image/png": "[encoded data removed]",
      "text/plain": [
       "<Figure size 640x480 with 1 Axes>"
      ]
     },
     "metadata": {},
     "output_type": "display_data"
    }
   ],
   "source": [
    "# min max scaling\n",
    "feature_column = ['Item_Weight','Item_MRP']\n",
    "df_features = df[feature_column]\n",
    "min_v = df_features.min()\n",
    "max_v = df_features.max()\n",
    "normalized = (df_features - min_v) / (max_v - min_v)\n",
    "plt.scatter(normalized['Item_Weight'], normalized['Item_MRP'])\n",
    "plt.xlabel('Item_Weight')\n",
    "plt.ylabel('Item_MRP')\n",
    "plt.title('Min max scaling')\n",
    "plt.show()"
   ]
  },
  {
   "cell_type": "markdown",
   "id": "7867834d",
   "metadata": {},
   "source": [
    "### <div class=\"alert alert-info\"> Here we perform min max scaling for the selected features 'Item_Weight' and 'Item_MRP' from the dataframe. Min max scaling transforms the data such that it is scaled to a specific range, between 0 and 1.</div>"
   ]
  },
  {
   "cell_type": "markdown",
   "id": "39a01601",
   "metadata": {},
   "source": [
    "<a id='zscore'></a>\n",
    "## <font color=red> 10.2 z-score</font>"
   ]
  },
  {
   "cell_type": "code",
   "execution_count": 91,
   "id": "afaf5beb",
   "metadata": {},
   "outputs": [
    {
     "name": "stdout",
     "output_type": "stream",
     "text": [
      "      Item_MRP  Item_Outlet_Sales\n",
      "0     1.747351           0.910548\n",
      "1    -1.488936          -1.018381\n",
      "2     0.010040          -0.049235\n",
      "3     0.660011          -0.849053\n",
      "4    -1.399138          -0.695332\n",
      "...        ...                ...\n",
      "8518  1.180714           0.349894\n",
      "8519 -0.527270          -0.956346\n",
      "8520 -0.897155          -0.579066\n",
      "8521 -0.607941          -0.196713\n",
      "8522 -1.052199          -0.829545\n",
      "\n",
      "[8523 rows x 2 columns]\n"
     ]
    }
   ],
   "source": [
    "# z score\n",
    "feature_columns = df[['Item_MRP','Item_Outlet_Sales']]\n",
    "mean = feature_columns.mean()\n",
    "std = feature_columns.std()\n",
    "standardized = (feature_columns - mean) / std\n",
    "print(standardized)"
   ]
  },
  {
   "cell_type": "markdown",
   "id": "1654858a",
   "metadata": {},
   "source": [
    "### <div class=\"alert alert-info\"> Here we perform Z-score standardization on the selected features 'Item_MRP' and 'Item_Outlet_Sales' from the dataframe. Z-score standardization transforms the data such that it has a mean of 0 and a standard deviation of 1.</div>"
   ]
  },
  {
   "cell_type": "markdown",
   "id": "85e43855",
   "metadata": {},
   "source": [
    "<a id='lr'></a>\n",
    "# <font color=red>11. Linear Regression</font>"
   ]
  },
  {
   "cell_type": "markdown",
   "id": "3a15233b",
   "metadata": {},
   "source": [
    "<a id='mlr'></a>\n",
    "## <font color=red>11.1 Using Multiple Linear Regression</font>"
   ]
  },
  {
   "cell_type": "code",
   "execution_count": 1,
   "id": "90005eac",
   "metadata": {},
   "outputs": [],
   "source": [
    "from sklearn.linear_model import LinearRegression\n",
    "from sklearn.model_selection import train_test_split\n",
    "from sklearn.metrics import mean_squared_error, r2_score"
   ]
  },
  {
   "cell_type": "code",
   "execution_count": 4,
   "id": "ecf34415",
   "metadata": {},
   "outputs": [],
   "source": [
    "DF = pd.read_csv('Train.csv')"
   ]
  },
  {
   "cell_type": "code",
   "execution_count": 6,
   "id": "747813ea",
   "metadata": {},
   "outputs": [],
   "source": [
    "DF['Item_Weight'] = DF['Item_Weight'].fillna(DF['Item_Weight'].mean())\n",
    "DF['Outlet_Size'] = DF['Outlet_Size'].fillna(DF['Outlet_Size'].mode()[0])"
   ]
  },
  {
   "cell_type": "code",
   "execution_count": 8,
   "id": "4b1e66ea",
   "metadata": {},
   "outputs": [],
   "source": [
    "#performing label encoding for categorical variables\n",
    "from sklearn.preprocessing import LabelEncoder\n",
    "label_encoder = LabelEncoder()\n",
    "DF['Item_Fat_Content'] = label_encoder.fit_transform(DF['Item_Fat_Content'])\n",
    "DF['Item_Type'] = label_encoder.fit_transform(DF['Item_Type'])\n",
    "DF['Item_Identifier'] = label_encoder.fit_transform(DF['Item_Identifier'])\n",
    "DF['Outlet_Size'] = label_encoder.fit_transform(DF['Outlet_Size'])\n",
    "DF['Outlet_Location_Type'] = label_encoder.fit_transform(DF['Outlet_Location_Type'])\n",
    "DF['Outlet_Type'] = label_encoder.fit_transform(DF['Outlet_Type'])\n",
    "DF['Outlet_Identifier'] = label_encoder.fit_transform(DF['Outlet_Identifier'])\n",
    "DF['Outlet_Establishment_Year'] = label_encoder.fit_transform(DF['Outlet_Establishment_Year'])"
   ]
  },
  {
   "cell_type": "code",
   "execution_count": 11,
   "id": "66bad566",
   "metadata": {},
   "outputs": [],
   "source": [
    "lr_X = DF[['Item_Identifier','Item_Weight','Item_Fat_Content','Item_Visibility','Item_Type','Item_MRP','Outlet_Identifier','Outlet_Establishment_Year','Outlet_Size','Outlet_Location_Type','Outlet_Type']]\n",
    "lr_y = DF['Item_Outlet_Sales']"
   ]
  },
  {
   "cell_type": "code",
   "execution_count": 12,
   "id": "15da425e",
   "metadata": {},
   "outputs": [],
   "source": [
    "from sklearn.preprocessing import MinMaxScaler\n",
    "X_train, X_test, y_train, y_test = train_test_split(lr_X, lr_y, test_size=0.2)\n",
    "scaler = MinMaxScaler()\n",
    "X_train = scaler.fit_transform(X_train)\n",
    "X_test = scaler.fit_transform(X_test)"
   ]
  },
  {
   "cell_type": "code",
   "execution_count": 13,
   "id": "245e9c35",
   "metadata": {},
   "outputs": [
    {
     "data": {
      "text/html": [
       "<style>#sk-container-id-1 {color: black;background-color: white;}#sk-container-id-1 pre{padding: 0;}#sk-container-id-1 div.sk-toggleable {background-color: white;}#sk-container-id-1 label.sk-toggleable__label {cursor: pointer;display: block;width: 100%;margin-bottom: 0;padding: 0.3em;box-sizing: border-box;text-align: center;}#sk-container-id-1 label.sk-toggleable__label-arrow:before {content: \"▸\";float: left;margin-right: 0.25em;color: #696969;}#sk-container-id-1 label.sk-toggleable__label-arrow:hover:before {color: black;}#sk-container-id-1 div.sk-estimator:hover label.sk-toggleable__label-arrow:before {color: black;}#sk-container-id-1 div.sk-toggleable__content {max-height: 0;max-width: 0;overflow: hidden;text-align: left;background-color: #f0f8ff;}#sk-container-id-1 div.sk-toggleable__content pre {margin: 0.2em;color: black;border-radius: 0.25em;background-color: #f0f8ff;}#sk-container-id-1 input.sk-toggleable__control:checked~div.sk-toggleable__content {max-height: 200px;max-width: 100%;overflow: auto;}#sk-container-id-1 input.sk-toggleable__control:checked~label.sk-toggleable__label-arrow:before {content: \"▾\";}#sk-container-id-1 div.sk-estimator input.sk-toggleable__control:checked~label.sk-toggleable__label {background-color: #d4ebff;}#sk-container-id-1 div.sk-label input.sk-toggleable__control:checked~label.sk-toggleable__label {background-color: #d4ebff;}#sk-container-id-1 input.sk-hidden--visually {border: 0;clip: rect(1px 1px 1px 1px);clip: rect(1px, 1px, 1px, 1px);height: 1px;margin: -1px;overflow: hidden;padding: 0;position: absolute;width: 1px;}#sk-container-id-1 div.sk-estimator {font-family: monospace;background-color: #f0f8ff;border: 1px dotted black;border-radius: 0.25em;box-sizing: border-box;margin-bottom: 0.5em;}#sk-container-id-1 div.sk-estimator:hover {background-color: #d4ebff;}#sk-container-id-1 div.sk-parallel-item::after {content: \"\";width: 100%;border-bottom: 1px solid gray;flex-grow: 1;}#sk-container-id-1 div.sk-label:hover label.sk-toggleable__label {background-color: #d4ebff;}#sk-container-id-1 div.sk-serial::before {content: \"\";position: absolute;border-left: 1px solid gray;box-sizing: border-box;top: 0;bottom: 0;left: 50%;z-index: 0;}#sk-container-id-1 div.sk-serial {display: flex;flex-direction: column;align-items: center;background-color: white;padding-right: 0.2em;padding-left: 0.2em;position: relative;}#sk-container-id-1 div.sk-item {position: relative;z-index: 1;}#sk-container-id-1 div.sk-parallel {display: flex;align-items: stretch;justify-content: center;background-color: white;position: relative;}#sk-container-id-1 div.sk-item::before, #sk-container-id-1 div.sk-parallel-item::before {content: \"\";position: absolute;border-left: 1px solid gray;box-sizing: border-box;top: 0;bottom: 0;left: 50%;z-index: -1;}#sk-container-id-1 div.sk-parallel-item {display: flex;flex-direction: column;z-index: 1;position: relative;background-color: white;}#sk-container-id-1 div.sk-parallel-item:first-child::after {align-self: flex-end;width: 50%;}#sk-container-id-1 div.sk-parallel-item:last-child::after {align-self: flex-start;width: 50%;}#sk-container-id-1 div.sk-parallel-item:only-child::after {width: 0;}#sk-container-id-1 div.sk-dashed-wrapped {border: 1px dashed gray;margin: 0 0.4em 0.5em 0.4em;box-sizing: border-box;padding-bottom: 0.4em;background-color: white;}#sk-container-id-1 div.sk-label label {font-family: monospace;font-weight: bold;display: inline-block;line-height: 1.2em;}#sk-container-id-1 div.sk-label-container {text-align: center;}#sk-container-id-1 div.sk-container {/* jupyter's `normalize.less` sets `[hidden] { display: none; }` but bootstrap.min.css set `[hidden] { display: none !important; }` so we also need the `!important` here to be able to override the default hidden behavior on the sphinx rendered scikit-learn.org. See: https://github.com/scikit-learn/scikit-learn/issues/21755 */display: inline-block !important;position: relative;}#sk-container-id-1 div.sk-text-repr-fallback {display: none;}</style><div id=\"sk-container-id-1\" class=\"sk-top-container\"><div class=\"sk-text-repr-fallback\"><pre>LinearRegression()</pre><b>In a Jupyter environment, please rerun this cell to show the HTML representation or trust the notebook. <br />On GitHub, the HTML representation is unable to render, please try loading this page with nbviewer.org.</b></div><div class=\"sk-container\" hidden><div class=\"sk-item\"><div class=\"sk-estimator sk-toggleable\"><input class=\"sk-toggleable__control sk-hidden--visually\" id=\"sk-estimator-id-1\" type=\"checkbox\" checked><label for=\"sk-estimator-id-1\" class=\"sk-toggleable__label sk-toggleable__label-arrow\">LinearRegression</label><div class=\"sk-toggleable__content\"><pre>LinearRegression()</pre></div></div></div></div></div>"
      ],
      "text/plain": [
       "LinearRegression()"
      ]
     },
     "execution_count": 13,
     "metadata": {},
     "output_type": "execute_result"
    }
   ],
   "source": [
    "logreg = LinearRegression()\n",
    "logreg.fit(X_train, y_train)"
   ]
  },
  {
   "cell_type": "code",
   "execution_count": 14,
   "id": "68dc0353",
   "metadata": {},
   "outputs": [],
   "source": [
    "y_pred = logreg.predict(X_test)"
   ]
  },
  {
   "cell_type": "code",
   "execution_count": 15,
   "id": "35acea19",
   "metadata": {},
   "outputs": [
    {
     "name": "stdout",
     "output_type": "stream",
     "text": [
      "Mean squared error: 1346086.3199483296\n",
      "Root mean squared error: 1160.209601730795\n",
      "R2 score: 0.5111527658507179\n"
     ]
    }
   ],
   "source": [
    "mse = mean_squared_error(y_test, y_pred)\n",
    "rmse = np.sqrt(mse)\n",
    "r2 = r2_score(y_test, y_pred)\n",
    "print('Mean squared error:', mse)\n",
    "print('Root mean squared error:', rmse)\n",
    "print('R2 score:', r2)"
   ]
  },
  {
   "cell_type": "markdown",
   "id": "85eaa40a",
   "metadata": {},
   "source": [
    "<a id='ols'></a>\n",
    "## <font color =red>11.2 OLS method</font> "
   ]
  },
  {
   "cell_type": "code",
   "execution_count": 16,
   "id": "e7c6ab33",
   "metadata": {},
   "outputs": [],
   "source": [
    "import statsmodels.api as sm\n",
    "X_OLS = sm.add_constant(lr_X)"
   ]
  },
  {
   "cell_type": "code",
   "execution_count": 17,
   "id": "6682f0d9",
   "metadata": {},
   "outputs": [],
   "source": [
    "model = sm.OLS(lr_y, lr_X)\n",
    "results = model.fit()"
   ]
  },
  {
   "cell_type": "code",
   "execution_count": 18,
   "id": "c366e7d7",
   "metadata": {},
   "outputs": [
    {
     "name": "stdout",
     "output_type": "stream",
     "text": [
      "                                 OLS Regression Results                                \n",
      "=======================================================================================\n",
      "Dep. Variable:      Item_Outlet_Sales   R-squared (uncentered):                   0.813\n",
      "Model:                            OLS   Adj. R-squared (uncentered):              0.813\n",
      "Method:                 Least Squares   F-statistic:                              3369.\n",
      "Date:                Fri, 30 Jun 2023   Prob (F-statistic):                        0.00\n",
      "Time:                        00:44:47   Log-Likelihood:                         -72500.\n",
      "No. Observations:                8523   AIC:                                  1.450e+05\n",
      "Df Residuals:                    8512   BIC:                                  1.451e+05\n",
      "Df Model:                          11                                                  \n",
      "Covariance Type:            nonrobust                                                  \n",
      "=============================================================================================\n",
      "                                coef    std err          t      P>|t|      [0.025      0.975]\n",
      "---------------------------------------------------------------------------------------------\n",
      "Item_Identifier              -0.0535      0.028     -1.896      0.058      -0.109       0.002\n",
      "Item_Weight                  -7.9697      2.852     -2.794      0.005     -13.561      -2.379\n",
      "Item_Fat_Content            -11.8523     19.249     -0.616      0.538     -49.584      25.880\n",
      "Item_Visibility           -1720.4777    253.500     -6.787      0.000   -2217.398   -1223.557\n",
      "Item_Type                    -5.8777      3.016     -1.949      0.051     -11.791       0.035\n",
      "Item_MRP                     15.2573      0.202     75.714      0.000      14.862      15.652\n",
      "Outlet_Identifier            28.7288      7.798      3.684      0.000      13.443      44.015\n",
      "Outlet_Establishment_Year    -2.7686      4.815     -0.575      0.565     -12.206       6.669\n",
      "Outlet_Size                -403.8324     25.981    -15.543      0.000    -454.762    -352.903\n",
      "Outlet_Location_Type       -368.2755     30.560    -12.051      0.000    -428.181    -308.370\n",
      "Outlet_Type                 927.7372     25.138     36.905      0.000     878.460     977.015\n",
      "==============================================================================\n",
      "Omnibus:                      919.812   Durbin-Watson:                   2.011\n",
      "Prob(Omnibus):                  0.000   Jarque-Bera (JB):             1906.603\n",
      "Skew:                           0.685   Prob(JB):                         0.00\n",
      "Kurtosis:                       4.869   Cond. No.                     1.78e+04\n",
      "==============================================================================\n",
      "\n",
      "Notes:\n",
      "[1] R² is computed without centering (uncentered) since the model does not contain a constant.\n",
      "[2] Standard Errors assume that the covariance matrix of the errors is correctly specified.\n",
      "[3] The condition number is large, 1.78e+04. This might indicate that there are\n",
      "strong multicollinearity or other numerical problems.\n"
     ]
    }
   ],
   "source": [
    "print(results.summary())"
   ]
  },
  {
   "cell_type": "markdown",
   "id": "1781363f",
   "metadata": {},
   "source": [
    "<a id='dt_rf'></a>\n",
    "# <font color=red>12. Decision Tree & Randon Forest</font>"
   ]
  },
  {
   "cell_type": "markdown",
   "id": "3ece8294",
   "metadata": {},
   "source": [
    "<a id='dt'></a>\n",
    "## <font color=red>12.1 Decision Tree</font>"
   ]
  },
  {
   "cell_type": "code",
   "execution_count": 19,
   "id": "e1b19035",
   "metadata": {},
   "outputs": [
    {
     "data": {
      "text/html": [
       "<style>#sk-container-id-2 {color: black;background-color: white;}#sk-container-id-2 pre{padding: 0;}#sk-container-id-2 div.sk-toggleable {background-color: white;}#sk-container-id-2 label.sk-toggleable__label {cursor: pointer;display: block;width: 100%;margin-bottom: 0;padding: 0.3em;box-sizing: border-box;text-align: center;}#sk-container-id-2 label.sk-toggleable__label-arrow:before {content: \"▸\";float: left;margin-right: 0.25em;color: #696969;}#sk-container-id-2 label.sk-toggleable__label-arrow:hover:before {color: black;}#sk-container-id-2 div.sk-estimator:hover label.sk-toggleable__label-arrow:before {color: black;}#sk-container-id-2 div.sk-toggleable__content {max-height: 0;max-width: 0;overflow: hidden;text-align: left;background-color: #f0f8ff;}#sk-container-id-2 div.sk-toggleable__content pre {margin: 0.2em;color: black;border-radius: 0.25em;background-color: #f0f8ff;}#sk-container-id-2 input.sk-toggleable__control:checked~div.sk-toggleable__content {max-height: 200px;max-width: 100%;overflow: auto;}#sk-container-id-2 input.sk-toggleable__control:checked~label.sk-toggleable__label-arrow:before {content: \"▾\";}#sk-container-id-2 div.sk-estimator input.sk-toggleable__control:checked~label.sk-toggleable__label {background-color: #d4ebff;}#sk-container-id-2 div.sk-label input.sk-toggleable__control:checked~label.sk-toggleable__label {background-color: #d4ebff;}#sk-container-id-2 input.sk-hidden--visually {border: 0;clip: rect(1px 1px 1px 1px);clip: rect(1px, 1px, 1px, 1px);height: 1px;margin: -1px;overflow: hidden;padding: 0;position: absolute;width: 1px;}#sk-container-id-2 div.sk-estimator {font-family: monospace;background-color: #f0f8ff;border: 1px dotted black;border-radius: 0.25em;box-sizing: border-box;margin-bottom: 0.5em;}#sk-container-id-2 div.sk-estimator:hover {background-color: #d4ebff;}#sk-container-id-2 div.sk-parallel-item::after {content: \"\";width: 100%;border-bottom: 1px solid gray;flex-grow: 1;}#sk-container-id-2 div.sk-label:hover label.sk-toggleable__label {background-color: #d4ebff;}#sk-container-id-2 div.sk-serial::before {content: \"\";position: absolute;border-left: 1px solid gray;box-sizing: border-box;top: 0;bottom: 0;left: 50%;z-index: 0;}#sk-container-id-2 div.sk-serial {display: flex;flex-direction: column;align-items: center;background-color: white;padding-right: 0.2em;padding-left: 0.2em;position: relative;}#sk-container-id-2 div.sk-item {position: relative;z-index: 1;}#sk-container-id-2 div.sk-parallel {display: flex;align-items: stretch;justify-content: center;background-color: white;position: relative;}#sk-container-id-2 div.sk-item::before, #sk-container-id-2 div.sk-parallel-item::before {content: \"\";position: absolute;border-left: 1px solid gray;box-sizing: border-box;top: 0;bottom: 0;left: 50%;z-index: -1;}#sk-container-id-2 div.sk-parallel-item {display: flex;flex-direction: column;z-index: 1;position: relative;background-color: white;}#sk-container-id-2 div.sk-parallel-item:first-child::after {align-self: flex-end;width: 50%;}#sk-container-id-2 div.sk-parallel-item:last-child::after {align-self: flex-start;width: 50%;}#sk-container-id-2 div.sk-parallel-item:only-child::after {width: 0;}#sk-container-id-2 div.sk-dashed-wrapped {border: 1px dashed gray;margin: 0 0.4em 0.5em 0.4em;box-sizing: border-box;padding-bottom: 0.4em;background-color: white;}#sk-container-id-2 div.sk-label label {font-family: monospace;font-weight: bold;display: inline-block;line-height: 1.2em;}#sk-container-id-2 div.sk-label-container {text-align: center;}#sk-container-id-2 div.sk-container {/* jupyter's `normalize.less` sets `[hidden] { display: none; }` but bootstrap.min.css set `[hidden] { display: none !important; }` so we also need the `!important` here to be able to override the default hidden behavior on the sphinx rendered scikit-learn.org. See: https://github.com/scikit-learn/scikit-learn/issues/21755 */display: inline-block !important;position: relative;}#sk-container-id-2 div.sk-text-repr-fallback {display: none;}</style><div id=\"sk-container-id-2\" class=\"sk-top-container\"><div class=\"sk-text-repr-fallback\"><pre>DecisionTreeRegressor()</pre><b>In a Jupyter environment, please rerun this cell to show the HTML representation or trust the notebook. <br />On GitHub, the HTML representation is unable to render, please try loading this page with nbviewer.org.</b></div><div class=\"sk-container\" hidden><div class=\"sk-item\"><div class=\"sk-estimator sk-toggleable\"><input class=\"sk-toggleable__control sk-hidden--visually\" id=\"sk-estimator-id-2\" type=\"checkbox\" checked><label for=\"sk-estimator-id-2\" class=\"sk-toggleable__label sk-toggleable__label-arrow\">DecisionTreeRegressor</label><div class=\"sk-toggleable__content\"><pre>DecisionTreeRegressor()</pre></div></div></div></div></div>"
      ],
      "text/plain": [
       "DecisionTreeRegressor()"
      ]
     },
     "execution_count": 19,
     "metadata": {},
     "output_type": "execute_result"
    }
   ],
   "source": [
    "from sklearn.tree import DecisionTreeRegressor\n",
    "regressor = DecisionTreeRegressor()\n",
    "regressor.fit(X_train, y_train)"
   ]
  },
  {
   "cell_type": "code",
   "execution_count": 20,
   "id": "99519350",
   "metadata": {},
   "outputs": [
    {
     "data": {
      "text/plain": [
       "array([ 908.817 , 2756.412 ,  300.9416, ...,  387.4956, 1965.4416,\n",
       "       1310.2944])"
      ]
     },
     "execution_count": 20,
     "metadata": {},
     "output_type": "execute_result"
    }
   ],
   "source": [
    "DT_y_pred = regressor.predict(X_test)\n",
    "DT_y_pred"
   ]
  },
  {
   "cell_type": "code",
   "execution_count": 21,
   "id": "18a61516",
   "metadata": {},
   "outputs": [
    {
     "name": "stdout",
     "output_type": "stream",
     "text": [
      "Mean Squared Error:  2354230.103257113\n",
      "Root Mean Squared Error:  1534.3500589034802\n",
      "R2 Score:  0.14503337752337075\n"
     ]
    }
   ],
   "source": [
    "DT_mse = mean_squared_error(y_test, DT_y_pred)\n",
    "DT_rmse = np.sqrt(DT_mse)\n",
    "DT_r2 = r2_score(y_test, DT_y_pred)\n",
    "print('Mean Squared Error: ', DT_mse)\n",
    "print('Root Mean Squared Error: ', DT_rmse)\n",
    "print('R2 Score: ', DT_r2)"
   ]
  },
  {
   "cell_type": "markdown",
   "id": "a1825d84",
   "metadata": {},
   "source": [
    "<a id='rf'></a>\n",
    "## <font color=red>12.2 Random Forest</font>"
   ]
  },
  {
   "cell_type": "code",
   "execution_count": 22,
   "id": "85044e88",
   "metadata": {},
   "outputs": [
    {
     "data": {
      "text/html": [
       "<style>#sk-container-id-3 {color: black;background-color: white;}#sk-container-id-3 pre{padding: 0;}#sk-container-id-3 div.sk-toggleable {background-color: white;}#sk-container-id-3 label.sk-toggleable__label {cursor: pointer;display: block;width: 100%;margin-bottom: 0;padding: 0.3em;box-sizing: border-box;text-align: center;}#sk-container-id-3 label.sk-toggleable__label-arrow:before {content: \"▸\";float: left;margin-right: 0.25em;color: #696969;}#sk-container-id-3 label.sk-toggleable__label-arrow:hover:before {color: black;}#sk-container-id-3 div.sk-estimator:hover label.sk-toggleable__label-arrow:before {color: black;}#sk-container-id-3 div.sk-toggleable__content {max-height: 0;max-width: 0;overflow: hidden;text-align: left;background-color: #f0f8ff;}#sk-container-id-3 div.sk-toggleable__content pre {margin: 0.2em;color: black;border-radius: 0.25em;background-color: #f0f8ff;}#sk-container-id-3 input.sk-toggleable__control:checked~div.sk-toggleable__content {max-height: 200px;max-width: 100%;overflow: auto;}#sk-container-id-3 input.sk-toggleable__control:checked~label.sk-toggleable__label-arrow:before {content: \"▾\";}#sk-container-id-3 div.sk-estimator input.sk-toggleable__control:checked~label.sk-toggleable__label {background-color: #d4ebff;}#sk-container-id-3 div.sk-label input.sk-toggleable__control:checked~label.sk-toggleable__label {background-color: #d4ebff;}#sk-container-id-3 input.sk-hidden--visually {border: 0;clip: rect(1px 1px 1px 1px);clip: rect(1px, 1px, 1px, 1px);height: 1px;margin: -1px;overflow: hidden;padding: 0;position: absolute;width: 1px;}#sk-container-id-3 div.sk-estimator {font-family: monospace;background-color: #f0f8ff;border: 1px dotted black;border-radius: 0.25em;box-sizing: border-box;margin-bottom: 0.5em;}#sk-container-id-3 div.sk-estimator:hover {background-color: #d4ebff;}#sk-container-id-3 div.sk-parallel-item::after {content: \"\";width: 100%;border-bottom: 1px solid gray;flex-grow: 1;}#sk-container-id-3 div.sk-label:hover label.sk-toggleable__label {background-color: #d4ebff;}#sk-container-id-3 div.sk-serial::before {content: \"\";position: absolute;border-left: 1px solid gray;box-sizing: border-box;top: 0;bottom: 0;left: 50%;z-index: 0;}#sk-container-id-3 div.sk-serial {display: flex;flex-direction: column;align-items: center;background-color: white;padding-right: 0.2em;padding-left: 0.2em;position: relative;}#sk-container-id-3 div.sk-item {position: relative;z-index: 1;}#sk-container-id-3 div.sk-parallel {display: flex;align-items: stretch;justify-content: center;background-color: white;position: relative;}#sk-container-id-3 div.sk-item::before, #sk-container-id-3 div.sk-parallel-item::before {content: \"\";position: absolute;border-left: 1px solid gray;box-sizing: border-box;top: 0;bottom: 0;left: 50%;z-index: -1;}#sk-container-id-3 div.sk-parallel-item {display: flex;flex-direction: column;z-index: 1;position: relative;background-color: white;}#sk-container-id-3 div.sk-parallel-item:first-child::after {align-self: flex-end;width: 50%;}#sk-container-id-3 div.sk-parallel-item:last-child::after {align-self: flex-start;width: 50%;}#sk-container-id-3 div.sk-parallel-item:only-child::after {width: 0;}#sk-container-id-3 div.sk-dashed-wrapped {border: 1px dashed gray;margin: 0 0.4em 0.5em 0.4em;box-sizing: border-box;padding-bottom: 0.4em;background-color: white;}#sk-container-id-3 div.sk-label label {font-family: monospace;font-weight: bold;display: inline-block;line-height: 1.2em;}#sk-container-id-3 div.sk-label-container {text-align: center;}#sk-container-id-3 div.sk-container {/* jupyter's `normalize.less` sets `[hidden] { display: none; }` but bootstrap.min.css set `[hidden] { display: none !important; }` so we also need the `!important` here to be able to override the default hidden behavior on the sphinx rendered scikit-learn.org. See: https://github.com/scikit-learn/scikit-learn/issues/21755 */display: inline-block !important;position: relative;}#sk-container-id-3 div.sk-text-repr-fallback {display: none;}</style><div id=\"sk-container-id-3\" class=\"sk-top-container\"><div class=\"sk-text-repr-fallback\"><pre>RandomForestRegressor()</pre><b>In a Jupyter environment, please rerun this cell to show the HTML representation or trust the notebook. <br />On GitHub, the HTML representation is unable to render, please try loading this page with nbviewer.org.</b></div><div class=\"sk-container\" hidden><div class=\"sk-item\"><div class=\"sk-estimator sk-toggleable\"><input class=\"sk-toggleable__control sk-hidden--visually\" id=\"sk-estimator-id-3\" type=\"checkbox\" checked><label for=\"sk-estimator-id-3\" class=\"sk-toggleable__label sk-toggleable__label-arrow\">RandomForestRegressor</label><div class=\"sk-toggleable__content\"><pre>RandomForestRegressor()</pre></div></div></div></div></div>"
      ],
      "text/plain": [
       "RandomForestRegressor()"
      ]
     },
     "execution_count": 22,
     "metadata": {},
     "output_type": "execute_result"
    }
   ],
   "source": [
    "from sklearn.ensemble import RandomForestRegressor\n",
    "rf = RandomForestRegressor()\n",
    "rf.fit(X_train, y_train)"
   ]
  },
  {
   "cell_type": "code",
   "execution_count": 23,
   "id": "d0f39ebd",
   "metadata": {},
   "outputs": [
    {
     "data": {
      "text/plain": [
       "array([2511.69721 , 2349.501672,  426.624666, ...,  457.93724 ,\n",
       "       2062.362106, 1298.969142])"
      ]
     },
     "execution_count": 23,
     "metadata": {},
     "output_type": "execute_result"
    }
   ],
   "source": [
    "RF_y_pred = rf.predict(X_test)\n",
    "RF_y_pred"
   ]
  },
  {
   "cell_type": "code",
   "execution_count": 24,
   "id": "990fa7eb",
   "metadata": {},
   "outputs": [
    {
     "name": "stdout",
     "output_type": "stream",
     "text": [
      "Mean Squared Error:  1183641.8373931437\n",
      "Root Mean Squared Error:  1087.9530492595459\n",
      "R2 Score:  0.5701464089946153\n"
     ]
    }
   ],
   "source": [
    "RF_mse = mean_squared_error(y_test, RF_y_pred)\n",
    "RF_rmse = np.sqrt(RF_mse)\n",
    "RF_r2 = r2_score(y_test, RF_y_pred)\n",
    "print('Mean Squared Error: ', RF_mse)\n",
    "print('Root Mean Squared Error: ', RF_rmse)\n",
    "print('R2 Score: ', RF_r2)"
   ]
  },
  {
   "cell_type": "code",
   "execution_count": null,
   "id": "b6c7f481",
   "metadata": {},
   "outputs": [],
   "source": []
  }
 ],
 "metadata": {
  "kernelspec": {
   "display_name": "Python 3 (ipykernel)",
   "language": "python",
   "name": "python3"
  },
  "language_info": {
   "codemirror_mode": {
    "name": "ipython",
    "version": 3
   },
   "file_extension": ".py",
   "mimetype": "text/x-python",
   "name": "python",
   "nbconvert_exporter": "python",
   "pygments_lexer": "ipython3",
   "version": "3.10.9"
  }
 },
 "nbformat": 4,
 "nbformat_minor": 5
}
